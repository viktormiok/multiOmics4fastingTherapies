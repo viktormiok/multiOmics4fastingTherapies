{
 "cells": [
  {
   "cell_type": "code",
   "execution_count": 1,
   "metadata": {},
   "outputs": [
    {
     "name": "stderr",
     "output_type": "stream",
     "text": [
      "Warning message in fun(libname, pkgname):\n",
      "“mzR has been built against a different Rcpp version (1.0.4.6)\n",
      "than is installed on your system (1.0.5). This might lead to errors\n",
      "when loading mzR. If you encounter such issues, please send a report,\n",
      "including the output of sessionInfo() to the Bioc support forum at \n",
      "https://support.bioconductor.org/. For details see also\n",
      "https://github.com/sneumann/mzR/wiki/mzR-Rcpp-compiler-linker-issue.”\n"
     ]
    }
   ],
   "source": [
    "inst <- suppressMessages(lapply(c(\"DESeq2\",\n",
    "                                  \"DEP\",\n",
    "                                  \"ggplot2\",\n",
    "                                  \"gplots\",\n",
    "                                  \"RColorBrewer\",\n",
    "                                  \"clusterProfiler\",\n",
    "                                  \"org.Mm.eg.db\",\n",
    "                                  \"gridExtra\",\n",
    "                                  \"readxl\"), \n",
    "                                library,\n",
    "                                character.only=TRUE)\n",
    ")\n",
    "\n",
    "# set the directory\n",
    "dir_out = '~/Documents/consultation/Katarina/fasting_therapies/results'\n",
    "dir_tab = file.path(dir_out, 'tables')\n",
    "dir_fig = file.path(dir_out, 'figures')\n",
    "dir_dat = file.path(dir_out, 'anndata')\n",
    "\n",
    "# set the colors and options\n",
    "colors = colorRampPalette(rev(brewer.pal(9, \"Spectral\")))(255)\n",
    "my_palette = colorRampPalette(c(\"blue\", \"white\", \"red\"))(n=255)\n",
    "options(repr.plot.width=10, repr.plot.height=10)"
   ]
  },
  {
   "cell_type": "markdown",
   "metadata": {},
   "source": [
    "### Set the global variables"
   ]
  },
  {
   "cell_type": "markdown",
   "metadata": {},
   "source": [
    "Set whether anndata objects are recomputed or loaded from cache."
   ]
  },
  {
   "cell_type": "code",
   "execution_count": 2,
   "metadata": {},
   "outputs": [],
   "source": [
    "bool_recomp = TRUE"
   ]
  },
  {
   "cell_type": "markdown",
   "metadata": {},
   "source": [
    "Set whether to produce plots, set to False for test runs."
   ]
  },
  {
   "cell_type": "code",
   "execution_count": 3,
   "metadata": {},
   "outputs": [],
   "source": [
    "bool_plot = FALSE"
   ]
  },
  {
   "cell_type": "code",
   "execution_count": 4,
   "metadata": {},
   "outputs": [],
   "source": [
    "# set input file\n",
    "setwd('~/Documents/consultation/Katarina/fasting_therapies/input')\n",
    "\n",
    "# load the data\n",
    "rna <- read.csv('rna_expression_data.csv',\n",
    "                row.names=1\n",
    ")\n",
    "prot <- read.csv('if_study.csv', \n",
    "                 sep=';'\n",
    ")\n",
    "\n",
    "# Load functions\n",
    "source(\"rna_prot_functions.R\")\n",
    "\n",
    "# Obsolete terms\n",
    "noliv <- read.csv(\"nonliver_terms.csv\",\n",
    "                  header=FALSE\n",
    ")\n",
    "obsolete <- read.csv(\"obsolete_GO_terms.csv\",\n",
    "                     header=FALSE\n",
    ")"
   ]
  },
  {
   "cell_type": "markdown",
   "metadata": {},
   "source": [
    "## transcriptomics"
   ]
  },
  {
   "cell_type": "code",
   "execution_count": 5,
   "metadata": {},
   "outputs": [
    {
     "name": "stderr",
     "output_type": "stream",
     "text": [
      "estimating size factors\n",
      "\n",
      "estimating dispersions\n",
      "\n",
      "gene-wise dispersion estimates\n",
      "\n",
      "mean-dispersion relationship\n",
      "\n",
      "final dispersion estimates\n",
      "\n",
      "fitting model and testing\n",
      "\n",
      "-- replacing outliers and refitting for 4 genes\n",
      "-- DESeq argument 'minReplicatesForReplace' = 7 \n",
      "-- original counts are preserved in counts(dds)\n",
      "\n",
      "estimating dispersions\n",
      "\n",
      "fitting model and testing\n",
      "\n"
     ]
    }
   ],
   "source": [
    "# get samples of interest\n",
    "ifrna = rna[,grep(\"IFHFD_10|ALHFD_10\", colnames(rna))]\n",
    "\n",
    "# make meta data object\n",
    "id = colnames(ifrna)\n",
    "condition = factor(gsub('.{3}$', '', colnames(ifrna)))\n",
    "metaData = data.frame(id, condition)\n",
    "\n",
    "# make deseq object\n",
    "dds <- DESeqDataSetFromMatrix(countData=ifrna, \n",
    "                              colData=metaData, \n",
    "                              design=~condition\n",
    ")  \n",
    "\n",
    "# filter low count features\n",
    "dds <- dds[rowSums(counts(dds)) >= 10,]\n",
    "\n",
    "# differential gene expression\n",
    "dds <- DESeq(dds)\n",
    "\n",
    "# get the result of differntial expression analysis\n",
    "dge <- results(dds)\n",
    "\n",
    "# order and indicate significat features\n",
    "res = dge[order(dge$pvalue),]\n",
    "res_dge = as.data.frame(dplyr::mutate(as.data.frame(res), \n",
    "                                      significant=ifelse(res$pvalue < 0.05, \"pvalue<0.05\", \"not signif.\")), \n",
    "                        row.names=rownames(res))"
   ]
  },
  {
   "cell_type": "code",
   "execution_count": 4,
   "metadata": {},
   "outputs": [],
   "source": [
    "if(bool_plot){\n",
    "    # volcano and PCA plot \n",
    "    plot_fig_rna(deg_table=res_dge,\n",
    "                 dds_object=dds, \n",
    "                 col_volcano=c(\"grey\", \"firebrick\"),\n",
    "                 col_pca=c(\"firebrick4\", \"firebrick1\"),\n",
    "                 xlim=c(-5,5),\n",
    "                 ylim=c(0,20)\n",
    "    )\n",
    "}"
   ]
  },
  {
   "cell_type": "code",
   "execution_count": 7,
   "metadata": {},
   "outputs": [
    {
     "name": "stderr",
     "output_type": "stream",
     "text": [
      "'select()' returned 1:many mapping between keys and columns\n",
      "\n",
      "Warning message in bitr(ifd$ENSEMBL, fromType = \"ENSEMBL\", toType = \"SYMBOL\", OrgDb = org.Mm.eg.db):\n",
      "“23.61% of input gene IDs are fail to map...”\n"
     ]
    }
   ],
   "source": [
    "# convert ensembl name to gene name\n",
    "ifd = res_dge[,c(2,5,6)]\n",
    "ifd$ENSEMBL = rownames(ifd)\n",
    "sig.gene <- bitr(ifd$ENSEMBL,\n",
    "                 fromType=\"ENSEMBL\",\n",
    "                 toType=\"SYMBOL\",\n",
    "                 OrgDb=org.Mm.eg.db)\n",
    "rnaIF <- merge(ifd,\n",
    "               sig.gene,\n",
    "               by=\"ENSEMBL\"\n",
    ")[,c(5,2,3)]"
   ]
  },
  {
   "cell_type": "code",
   "execution_count": 8,
   "metadata": {},
   "outputs": [],
   "source": [
    "# save the normalized data\n",
    "write.csv(round(counts(dds, normalized=TRUE), 0), \n",
    "          file.path(dir_dat, \"normalized_data.csv\"),\n",
    "          row.names = TRUE\n",
    ")"
   ]
  },
  {
   "cell_type": "code",
   "execution_count": 9,
   "metadata": {},
   "outputs": [],
   "source": [
    "# variance stabilizing transformation data\n",
    "vsd <- assay(vst(dds, \n",
    "                 fitType=\"local\",\n",
    "                 blind = TRUE\n",
    "             )\n",
    "        )"
   ]
  },
  {
   "cell_type": "markdown",
   "metadata": {},
   "source": [
    "## proteomics"
   ]
  },
  {
   "cell_type": "code",
   "execution_count": 11,
   "metadata": {},
   "outputs": [
    {
     "name": "stdout",
     "output_type": "stream",
     "text": [
      "[1] 0.1929417\n"
     ]
    },
    {
     "name": "stderr",
     "output_type": "stream",
     "text": [
      "Tested contrasts: IFHFD_vs_ALHFD\n",
      "\n"
     ]
    }
   ],
   "source": [
    "data_unique <- make_unique(prot,\n",
    "                           \"PG.Genes\",\n",
    "                           \"PG.ProteinDescriptions\", \n",
    "                           delim=\"/t\"\n",
    ")\n",
    "a_columns <- grep(\"IFHFD|ALHFD\",\n",
    "                  colnames(data_unique))[-4] # -4 remove sample\n",
    "\n",
    "label = colnames(data_unique)[a_columns]\n",
    "condition = rep(c(\"IFHFD\", \"ALHFD\"), 7) \n",
    "\n",
    "replicate = as.character(c(1:7,1:7))\n",
    "experimental_design = data.frame(label, condition, replicate)  \n",
    "\n",
    "data_se <- make_se(data_unique,\n",
    "                   a_columns, \n",
    "                   experimental_design\n",
    ")\n",
    "\n",
    "# Filter for proteins that are identified in 2 out of 3 replicates of at least one condition\n",
    "data_filt <- filter_missval(data_se, \n",
    "                            thr=1\n",
    ")\n",
    "\n",
    "# Normalize the data\n",
    "data_norm <- normalize_vsn(data_filt)\n",
    "\n",
    "# Impute missing data using random draws from a Gaussian distribution centered around a minimal value (for MNAR)\n",
    "data_imp <- suppressMessages(impute(data_norm, \n",
    "                                    fun=\"MinProb\", \n",
    "                                    q=0.01)\n",
    ")\n",
    "\n",
    "data_diff_manual <- test_diff(data_imp,\n",
    "                              type=\"manual\",\n",
    "                              test=c(\"IFHFD_vs_ALHFD\")\n",
    ")\n",
    "\n",
    "# Denote significant proteins based on user defined cutoffs\n",
    "depIF <- add_rejections(data_diff_manual,\n",
    "                        alpha = 0.05, \n",
    "                        lfc = log2(2)\n",
    ")\n",
    "res_ALHFD_vs_IFHFD <- get_results(depIF)"
   ]
  },
  {
   "cell_type": "code",
   "execution_count": 5,
   "metadata": {
    "scrolled": true
   },
   "outputs": [],
   "source": [
    "res_ALHFD_vs_IFHFD[res_ALHFD_vs_IFHFD[,3] < 0.05,]"
   ]
  },
  {
   "cell_type": "markdown",
   "metadata": {},
   "source": [
    "## integration transcriptomics and proteomics"
   ]
  },
  {
   "cell_type": "code",
   "execution_count": null,
   "metadata": {},
   "outputs": [],
   "source": [
    "IFfin <- merge(protIF, \n",
    "               rnaIF,\n",
    "               by=\"GeneName\"\n",
    ")\n",
    "# calculate a\n",
    "IFfin[\"log10Pval_Trans\"] = -log10(IFfin$pvalue.y)*sign(IFfin$log2FoldChange.y)\n",
    "IFfin[\"log10Pval_Prote\"] = -log10(IFfin$pvalue.x)*sign(IFfin$log2FoldChange.x)\n",
    "\n",
    "cor(IFfin$log10Pval_Trans, \n",
    "    IFfin$log10Pval_Prote,\n",
    "    method=\"spearman\"\n",
    ")"
   ]
  },
  {
   "cell_type": "code",
   "execution_count": null,
   "metadata": {},
   "outputs": [],
   "source": [
    "protIF1 = protIF[which(protIF$pvalue<cutoff),]\n",
    "\n",
    "rnaIF1 = rnaIF[which(rnaIF$pvalue<cutoff),]\n",
    "\n",
    "IFfin1 <- merge(protIF1, \n",
    "                rnaIF1,\n",
    "                by=\"GeneName\"\n",
    ")\n",
    "\n",
    "IFfin1[\"log10Pval_Trans\"] = -log10(IFfin1$pvalue.y)*sign(IFfin1$log2FoldChange.y)\n",
    "IFfin1[\"log10Pval_Prote\"] = -log10(IFfin1$pvalue.x)*sign(IFfin1$log2FoldChange.x)\n"
   ]
  },
  {
   "cell_type": "code",
   "execution_count": null,
   "metadata": {},
   "outputs": [],
   "source": [
    "# integrated plot\n",
    "\n",
    "IFgen = c(\"Baat\",\"Fads1\",\"Fads2\",\"Scd1\",\"Crot\",\"Hacl1\",\"Mlycd\",\"Pmvk\",\"Cyc1\",\"Ndufa3\",\"Ndufa9\")\n",
    "IFfin$significance <- ifelse((IFfin$pvalue.x < 0.05) & (IFfin$pvalue.y < 0.05),\n",
    "                             \"p-value<0.05\",\n",
    "                             \"p-value>0.05\"\n",
    ")\n",
    "IFfin$label <- ifelse(IFfin$GeneName%in%IFgen,\n",
    "                      \"name\",\n",
    "                      \"\"\n",
    ")\n",
    "for(i in 1:nrow(IFfin)){\n",
    "  if(IFfin$label[i] == \"name\") IFfin$label[i] = IFfin$GeneName[i]\n",
    "}\n",
    "\n",
    "setwd(\"/Users/viktorian.miok/Documents/consultation/Katarina/Integration_Data/Integration/results/IF/plots/\")\n",
    "pdf(\"IF_integrated.pdf\") \n",
    "b <- ggplot(IFfin, aes(x=log10Pval_Trans, y=log10Pval_Prote))\n",
    "b + geom_point(aes(color=significance), show.legend=FALSE) +\n",
    "            scale_color_manual(values = c(\"firebrick\", \"grey\")) +\n",
    "            geom_hline(yintercept=c(-log10(cutoff), log10(cutoff)), linetype=\"dashed\") +\n",
    "            geom_vline(xintercept=c(-log10(cutoff), log10(cutoff)), linetype=\"dashed\") +\n",
    "            xlab(\"-Log10Pval(transcriptome)*sign(FC)\") +\n",
    "            ylab(\"-Log10Pval(proteome)*sign(FC)\")+\n",
    "            annotate(geom=\"text\",\n",
    "                     x=-7.5, \n",
    "                     y=6,\n",
    "                     label=expression(correlaton:rho == 0.19),\n",
    "                     color=\"blue\") +\n",
    "            ggtitle(\"TRF study\")+\n",
    "            geom_text_repel(aes(label=label), \n",
    "                            size=5,\n",
    "                            box.padding=unit(2, \"lines\"),\n",
    "                            point.padding=unit(0.1, \"lines\"),\n",
    "                            segment.size=0.15) \n",
    "dev.off()"
   ]
  },
  {
   "cell_type": "code",
   "execution_count": null,
   "metadata": {},
   "outputs": [],
   "source": [
    "#   tables of significant genes and proteins\n",
    "colnames(IFfin) = colnames(IFfin1) = c(\"GeneName\",\"log2FoldChange.protein\",\"pvalue.protein\",\"log2FoldChange.rna\",\n",
    "                                       \"pvalue.rna\",\"-Log10Pval(transcriptome)*sign(FC)\",\"-Log10Pval(proteome)*sign(FC)\")\n",
    "IFintegrated_rna = IFfin[IFfin$pvalue.rna < 0.05,]\n",
    "IFintegrated_protein = IFfin[IFfin$pvalue.protein < 0.05,]\n",
    "IFintegrated = IFfin1\n",
    "#setwd(\"/Users/viktorian.miok/Documents/consultation/Katarina/Integration_Data/Integration/results/IF\")\n",
    "#write.csv(IFintegrated_rna,\"IF_integrated_RNA.csv\")\n",
    "#write.csv(IFintegrated_protein,\"IF_integrated_protein.csv\")\n",
    "#write.csv(IFintegrated,\"IF_integrated_RNA_protein.csv\")\n"
   ]
  }
 ],
 "metadata": {
  "kernelspec": {
   "display_name": "R 4.0.3",
   "language": "R",
   "name": "ir32"
  },
  "language_info": {
   "codemirror_mode": "r",
   "file_extension": ".r",
   "mimetype": "text/x-r-source",
   "name": "R",
   "pygments_lexer": "r",
   "version": "4.0.3"
  }
 },
 "nbformat": 4,
 "nbformat_minor": 4
}
