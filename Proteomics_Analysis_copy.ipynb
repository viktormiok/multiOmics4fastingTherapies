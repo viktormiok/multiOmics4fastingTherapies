{
 "cells": [
  {
   "cell_type": "markdown",
   "metadata": {},
   "source": [
    "# Proteomics data analysis"
   ]
  },
  {
   "cell_type": "markdown",
   "metadata": {},
   "source": [
    "### Loading packages\n",
    "Required packages for downstream analysis"
   ]
  },
  {
   "cell_type": "code",
   "execution_count": null,
   "metadata": {},
   "outputs": [],
   "source": [
    "inst <- suppressMessages(lapply(c(\"DEP\",\n",
    "                                  \"GenomicRanges\",\n",
    "                                  \"SummarizedExperiment\",\n",
    "                                  \"gplots\",\n",
    "                                  \"dplyr\",\n",
    "                                  \"EnhancedVolcano\",\n",
    "                                  \"gdata\",\n",
    "                                  \"org.Mm.eg.db\",\n",
    "                                  \"clusterProfiler\"\n",
    "                                  \"VennDiagram\"\n",
    "                                  \"RColorBrewer\"\n",
    "                                  \"readxl\"), \n",
    "                                library,\n",
    "                                character.only = TRUE)\n",
    ")"
   ]
  },
  {
   "cell_type": "markdown",
   "metadata": {},
   "source": [
    "### Set the global variables"
   ]
  },
  {
   "cell_type": "markdown",
   "metadata": {},
   "source": [
    "Set whether anndata objects are recomputed or loaded from cache."
   ]
  },
  {
   "cell_type": "code",
   "execution_count": 1,
   "metadata": {},
   "outputs": [],
   "source": [
    "bool_recomp = FALSE"
   ]
  },
  {
   "cell_type": "markdown",
   "metadata": {},
   "source": [
    "Set whether to produce plots, set to False for test runs."
   ]
  },
  {
   "cell_type": "code",
   "execution_count": 2,
   "metadata": {},
   "outputs": [],
   "source": [
    "bool_plot = FALSE"
   ]
  },
  {
   "cell_type": "markdown",
   "metadata": {},
   "source": [
    "## IF Study"
   ]
  },
  {
   "cell_type": "code",
   "execution_count": 2,
   "metadata": {},
   "outputs": [
    {
     "name": "stderr",
     "output_type": "stream",
     "text": [
      "Warning message in read_fun(path = enc2native(normalizePath(path)), sheet_i = sheet, :\n",
      "“Expecting numeric in X1310 / R1310C24: got 'Filtered'”\n",
      "Warning message in read_fun(path = enc2native(normalizePath(path)), sheet_i = sheet, :\n",
      "“Expecting numeric in W1880 / R1880C23: got 'Filtered'”\n",
      "Warning message in read_fun(path = enc2native(normalizePath(path)), sheet_i = sheet, :\n",
      "“Expecting numeric in Y1935 / R1935C25: got 'Filtered'”\n",
      "Warning message in read_fun(path = enc2native(normalizePath(path)), sheet_i = sheet, :\n",
      "“Coercing text to numeric in N1939 / R1939C14: 'NaN'”\n",
      "Warning message in read_fun(path = enc2native(normalizePath(path)), sheet_i = sheet, :\n",
      "“Expecting numeric in Y1958 / R1958C25: got 'Filtered'”\n",
      "Warning message in read_fun(path = enc2native(normalizePath(path)), sheet_i = sheet, :\n",
      "“Coercing text to numeric in R2006 / R2006C18: 'NaN'”\n",
      "Warning message in read_fun(path = enc2native(normalizePath(path)), sheet_i = sheet, :\n",
      "“Expecting numeric in F2083 / R2083C6: got 'Filtered'”\n",
      "Warning message in read_fun(path = enc2native(normalizePath(path)), sheet_i = sheet, :\n",
      "“Expecting numeric in R2105 / R2105C18: got 'Filtered'”\n",
      "Warning message in read_fun(path = enc2native(normalizePath(path)), sheet_i = sheet, :\n",
      "“Expecting numeric in R2151 / R2151C18: got 'Filtered'”\n",
      "Warning message in read_fun(path = enc2native(normalizePath(path)), sheet_i = sheet, :\n",
      "“Expecting numeric in R2176 / R2176C18: got 'Filtered'”\n",
      "Warning message in read_fun(path = enc2native(normalizePath(path)), sheet_i = sheet, :\n",
      "“Expecting numeric in Y2176 / R2176C25: got 'Filtered'”\n",
      "Warning message in read_fun(path = enc2native(normalizePath(path)), sheet_i = sheet, :\n",
      "“Expecting numeric in F2181 / R2181C6: got 'Filtered'”\n",
      "Warning message in read_fun(path = enc2native(normalizePath(path)), sheet_i = sheet, :\n",
      "“Expecting numeric in R2199 / R2199C18: got 'Filtered'”\n",
      "Warning message in read_fun(path = enc2native(normalizePath(path)), sheet_i = sheet, :\n",
      "“Expecting numeric in R2203 / R2203C18: got 'Filtered'”\n",
      "Warning message in read_fun(path = enc2native(normalizePath(path)), sheet_i = sheet, :\n",
      "“Expecting numeric in R2204 / R2204C18: got 'Filtered'”\n",
      "Warning message in read_fun(path = enc2native(normalizePath(path)), sheet_i = sheet, :\n",
      "“Expecting numeric in N2206 / R2206C14: got 'Filtered'”\n",
      "Warning message in read_fun(path = enc2native(normalizePath(path)), sheet_i = sheet, :\n",
      "“Expecting numeric in P2206 / R2206C16: got 'Filtered'”\n",
      "Warning message in read_fun(path = enc2native(normalizePath(path)), sheet_i = sheet, :\n",
      "“Expecting numeric in R2206 / R2206C18: got 'Filtered'”\n",
      "Warning message in read_fun(path = enc2native(normalizePath(path)), sheet_i = sheet, :\n",
      "“Expecting numeric in X2206 / R2206C24: got 'Filtered'”\n",
      "Warning message in read_fun(path = enc2native(normalizePath(path)), sheet_i = sheet, :\n",
      "“Expecting numeric in AC2206 / R2206C29: got 'Filtered'”\n",
      "Warning message in read_fun(path = enc2native(normalizePath(path)), sheet_i = sheet, :\n",
      "“Expecting numeric in L2208 / R2208C12: got 'Filtered'”\n",
      "Warning message in read_fun(path = enc2native(normalizePath(path)), sheet_i = sheet, :\n",
      "“Expecting numeric in O2208 / R2208C15: got 'Filtered'”\n",
      "Warning message in read_fun(path = enc2native(normalizePath(path)), sheet_i = sheet, :\n",
      "“Expecting numeric in P2208 / R2208C16: got 'Filtered'”\n",
      "Warning message in read_fun(path = enc2native(normalizePath(path)), sheet_i = sheet, :\n",
      "“Expecting numeric in R2208 / R2208C18: got 'Filtered'”\n",
      "Warning message in read_fun(path = enc2native(normalizePath(path)), sheet_i = sheet, :\n",
      "“Expecting numeric in AA2208 / R2208C27: got 'Filtered'”\n",
      "Warning message in read_fun(path = enc2native(normalizePath(path)), sheet_i = sheet, :\n",
      "“Expecting numeric in AD2208 / R2208C30: got 'Filtered'”\n",
      "Warning message in read_fun(path = enc2native(normalizePath(path)), sheet_i = sheet, :\n",
      "“Expecting numeric in AF2208 / R2208C32: got 'Filtered'”\n",
      "Warning message in read_fun(path = enc2native(normalizePath(path)), sheet_i = sheet, :\n",
      "“Expecting numeric in AG2208 / R2208C33: got 'Filtered'”\n",
      "Warning message in read_fun(path = enc2native(normalizePath(path)), sheet_i = sheet, :\n",
      "“Expecting numeric in AH2208 / R2208C34: got 'Filtered'”\n",
      "Warning message in read_fun(path = enc2native(normalizePath(path)), sheet_i = sheet, :\n",
      "“Expecting numeric in AI2208 / R2208C35: got 'Filtered'”\n",
      "Warning message in read_fun(path = enc2native(normalizePath(path)), sheet_i = sheet, :\n",
      "“Expecting numeric in AK2208 / R2208C37: got 'Filtered'”\n",
      "Warning message in read_fun(path = enc2native(normalizePath(path)), sheet_i = sheet, :\n",
      "“Expecting numeric in AL2208 / R2208C38: got 'Filtered'”\n",
      "Warning message in read_fun(path = enc2native(normalizePath(path)), sheet_i = sheet, :\n",
      "“Coercing text to numeric in H2210 / R2210C8: 'NaN'”\n",
      "Warning message in read_fun(path = enc2native(normalizePath(path)), sheet_i = sheet, :\n",
      "“Coercing text to numeric in R2210 / R2210C18: 'NaN'”\n",
      "Warning message in read_fun(path = enc2native(normalizePath(path)), sheet_i = sheet, :\n",
      "“Coercing text to numeric in Y2210 / R2210C25: 'NaN'”\n",
      "Warning message in read_fun(path = enc2native(normalizePath(path)), sheet_i = sheet, :\n",
      "“Coercing text to numeric in AH2210 / R2210C34: 'NaN'”\n",
      "Warning message in read_fun(path = enc2native(normalizePath(path)), sheet_i = sheet, :\n",
      "“Coercing text to numeric in R2211 / R2211C18: 'NaN'”\n",
      "Warning message in read_fun(path = enc2native(normalizePath(path)), sheet_i = sheet, :\n",
      "“Coercing text to numeric in Y2211 / R2211C25: 'NaN'”\n",
      "Warning message in read_fun(path = enc2native(normalizePath(path)), sheet_i = sheet, :\n",
      "“Expecting numeric in R2213 / R2213C18: got 'Filtered'”\n",
      "Warning message in read_fun(path = enc2native(normalizePath(path)), sheet_i = sheet, :\n",
      "“Expecting numeric in Y2215 / R2215C25: got 'Filtered'”\n",
      "New names:\n",
      "* MitoCarta -> MitoCarta...4\n",
      "* MitoCarta -> MitoCarta...47\n",
      "\n"
     ]
    }
   ],
   "source": [
    "dat <- read_excel('~/Documents/consultation/Katarina/Integration_Data/Proteomics_data/IF_study.xlsx',\n",
    "                  sheet=3\n",
    ")\n",
    "colors = colorRampPalette(rev(brewer.pal(9, \"Spectral\")))(255)"
   ]
  },
  {
   "cell_type": "code",
   "execution_count": 3,
   "metadata": {},
   "outputs": [],
   "source": [
    "dat = dat[1:2215,]"
   ]
  },
  {
   "cell_type": "code",
   "execution_count": 4,
   "metadata": {},
   "outputs": [],
   "source": [
    "data_unique <- make_unique(dat, \n",
    "                           \"PG.Genes\", \n",
    "                           \"PG.ProteinDescriptions\",\n",
    "                           delim=\"/t\")\n",
    "a_columns = c(grep(c(\"IFHFD_\"), colnames(data_unique)),grep(c(\"ALHFD_\"), colnames(data_unique)))\n",
    "# removed sample\n",
    "a_columns = a_columns[-4]"
   ]
  },
  {
   "cell_type": "code",
   "execution_count": 5,
   "metadata": {},
   "outputs": [],
   "source": [
    "label = colnames(data_unique)[a_columns]\n",
    "condition = c(\"IFHFD\",\"IFHFD\",\"IFHFD\",\"IFHFD\",\"IFHFD\",\"IFHFD\",\"IFHFD\",\"ALHFD\",\"ALHFD\",\"ALHFD\",\"ALHFD\",\"ALHFD\",\"ALHFD\",\"ALHFD\")\n",
    "    \n",
    "replicate = c(1:7,1:7)\n",
    "experimental_design = data.frame(label, condition, replicate)  \n",
    "experimental_design[,1]=as.character(experimental_design[,1])\n",
    "experimental_design[,2] = as.character(experimental_design[,2])\n",
    "experimental_design[,3] = as.character(experimental_design[,3])"
   ]
  },
  {
   "cell_type": "code",
   "execution_count": 6,
   "metadata": {},
   "outputs": [],
   "source": [
    "data_se <- make_se(data_unique,\n",
    "                   a_columns,\n",
    "                   experimental_design\n",
    ")"
   ]
  },
  {
   "cell_type": "code",
   "execution_count": 7,
   "metadata": {},
   "outputs": [],
   "source": [
    "assay(data_se)[is.nan(assay(data_se))] = NA"
   ]
  },
  {
   "cell_type": "code",
   "execution_count": 3,
   "metadata": {},
   "outputs": [],
   "source": [
    "if(bool_plot){\n",
    "    # Plot a barplot of the protein identification overlap between samples\n",
    "    plot_frequency(data_se)\n",
    "}"
   ]
  },
  {
   "cell_type": "code",
   "execution_count": 4,
   "metadata": {},
   "outputs": [],
   "source": [
    "if(bool_plot){\n",
    "    # Filter for proteins that are identified in 2 out of 3 replicates of at least one condition\n",
    "    data_filt <- filter_missval(data_se,\n",
    "                                thr=1\n",
    "    )\n",
    "}"
   ]
  },
  {
   "cell_type": "code",
   "execution_count": 5,
   "metadata": {
    "scrolled": true
   },
   "outputs": [],
   "source": [
    "if(bool_plot){\n",
    "    # Plot a barplot of the number of identified proteins per samples\n",
    "    plot_numbers(data_filt)\n",
    "}"
   ]
  },
  {
   "cell_type": "code",
   "execution_count": 6,
   "metadata": {},
   "outputs": [],
   "source": [
    "if(bool_plot){\n",
    "    # Plot a barplot of the protein identification overlap between samples\n",
    "    plot_coverage(data_filt)\n",
    "}"
   ]
  },
  {
   "cell_type": "code",
   "execution_count": 7,
   "metadata": {},
   "outputs": [],
   "source": [
    "if(bool_plot){\n",
    "    # Normalize the data\n",
    "    data_norm <- normalize_vsn(data_filt)\n",
    "}"
   ]
  },
  {
   "cell_type": "code",
   "execution_count": 8,
   "metadata": {},
   "outputs": [],
   "source": [
    "if(bool_plot){\n",
    "    # Visualize normalization by boxplots for all samples before and after normalization\n",
    "    plot_normalization(data_filt, \n",
    "                       data_norm\n",
    "    )\n",
    "}"
   ]
  },
  {
   "cell_type": "code",
   "execution_count": 9,
   "metadata": {},
   "outputs": [],
   "source": [
    "if(bool_plot){\n",
    "    # Plot a heatmap of proteins with missing values\n",
    "    plot_missval(data_filt)\n",
    "}"
   ]
  },
  {
   "cell_type": "code",
   "execution_count": 10,
   "metadata": {},
   "outputs": [],
   "source": [
    "if(bool_plot){\n",
    "    # Plot intensity distributions and cumulative fraction of proteins with and without missing values\n",
    "    plot_detect(data_filt)\n",
    "}"
   ]
  },
  {
   "cell_type": "code",
   "execution_count": 16,
   "metadata": {},
   "outputs": [
    {
     "name": "stderr",
     "output_type": "stream",
     "text": [
      "Loading required package: imputeLCMD\n",
      "\n",
      "Loading required package: tmvtnorm\n",
      "\n",
      "Loading required package: mvtnorm\n",
      "\n",
      "Loading required package: Matrix\n",
      "\n",
      "\n",
      "Attaching package: ‘Matrix’\n",
      "\n",
      "\n",
      "The following object is masked from ‘package:S4Vectors’:\n",
      "\n",
      "    expand\n",
      "\n",
      "\n",
      "Loading required package: gmm\n",
      "\n",
      "Loading required package: sandwich\n",
      "\n",
      "Loading required package: norm\n",
      "\n",
      "Loading required package: pcaMethods\n",
      "\n",
      "\n",
      "Attaching package: ‘pcaMethods’\n",
      "\n",
      "\n",
      "The following object is masked from ‘package:stats’:\n",
      "\n",
      "    loadings\n",
      "\n",
      "\n",
      "Loading required package: impute\n",
      "\n"
     ]
    },
    {
     "name": "stdout",
     "output_type": "stream",
     "text": [
      "[1] 0.1722085\n"
     ]
    }
   ],
   "source": [
    "# Impute missing data using random draws from a Gaussian distribution centered around a minimal value (for MNAR)\n",
    "data_imp <- impute(data_norm,\n",
    "                   fun=\"MinProb\",\n",
    "                   q=0.01\n",
    ")"
   ]
  },
  {
   "cell_type": "code",
   "execution_count": 11,
   "metadata": {},
   "outputs": [],
   "source": [
    "if(bool_plot){\n",
    "    # Plot intensity distributions before and after imputation\n",
    "    plot_imputation(data_norm,\n",
    "                    data_imp\n",
    "    )\n",
    "}"
   ]
  },
  {
   "cell_type": "code",
   "execution_count": 18,
   "metadata": {},
   "outputs": [
    {
     "name": "stderr",
     "output_type": "stream",
     "text": [
      "Tested contrasts: IFHFD_vs_ALHFD\n",
      "\n"
     ]
    }
   ],
   "source": [
    "data_diff_manual <- test_diff(data_imp,\n",
    "                              type=\"manual\",\n",
    "                              test=c(\"IFHFD_vs_ALHFD\")\n",
    ")"
   ]
  },
  {
   "cell_type": "code",
   "execution_count": 19,
   "metadata": {},
   "outputs": [],
   "source": [
    "# Denote significant proteins based on user defined cutoffs\n",
    "depIF <- add_rejections(data_diff_manual, \n",
    "                        alpha=0.05, \n",
    "                        lfc=log2(2)\n",
    ")\n",
    "res_ALHFD_vs_IFHFD <- get_results(depIF)"
   ]
  },
  {
   "cell_type": "code",
   "execution_count": 21,
   "metadata": {},
   "outputs": [],
   "source": [
    "#write.table(res_ALHFD_vs_IFHFD, file = \"IFstudy_IFHFDvsALHFD.csv\", sep = \",\", col.names = NA)"
   ]
  },
  {
   "cell_type": "code",
   "execution_count": 12,
   "metadata": {},
   "outputs": [],
   "source": [
    "if(bool_plot){\n",
    "    hist(res_ALHFD_vs_IFHFD$IFHFD_vs_ALHFD_ratio,\n",
    "         n=30\n",
    "    )\n",
    "}"
   ]
  },
  {
   "cell_type": "code",
   "execution_count": 23,
   "metadata": {},
   "outputs": [],
   "source": [
    "options(repr.plot.width=20, repr.plot.height=10)"
   ]
  },
  {
   "cell_type": "markdown",
   "metadata": {},
   "source": [
    "### All regulated pathways"
   ]
  },
  {
   "cell_type": "code",
   "execution_count": 24,
   "metadata": {},
   "outputs": [],
   "source": [
    "#sig.gene <- bitr(res_ALHFD_vs_IFHFD[abs(res_ALHFD_vs_IFHFD$IFHFD_vs_ALHFD_ratio)>0.2,1],\n",
    "#                 fromType=\"SYMBOL\",toType=\"ENTREZID\",OrgDb=org.Mm.eg.db)\n",
    "#kk1 <- enrichKEGG(gene = sig.gene[,2], organism = 'mmu', pvalueCutoff = 0.05)\n",
    "#barplot(kk1, showCategory=25, title=\"KEGG pathways\")"
   ]
  },
  {
   "cell_type": "code",
   "execution_count": 25,
   "metadata": {},
   "outputs": [],
   "source": [
    "#ego1 <- enrichGO(gene=sig.gene[,2], OrgDb=org.Mm.eg.db, ont=\"BP\", pAdjustMethod=\"BH\", pvalueCutoff=0.05, readable=TRUE)\n",
    "#barplot(ego1, showCategory=25, title=\"GO pathways\")"
   ]
  },
  {
   "cell_type": "code",
   "execution_count": 26,
   "metadata": {},
   "outputs": [],
   "source": [
    "#ego2 <- enrichGO(gene=sig.gene[,2], OrgDb=org.Mm.eg.db, ont=\"CC\", pAdjustMethod=\"BH\", pvalueCutoff=0.05, readable=TRUE)\n",
    "#barplot(ego2, showCategory=25, title=\"GO pathways\")"
   ]
  },
  {
   "cell_type": "code",
   "execution_count": 27,
   "metadata": {},
   "outputs": [],
   "source": [
    "#ego3 <- enrichGO(gene=sig.gene[,2], OrgDb=org.Mm.eg.db, ont=\"MF\", pAdjustMethod=\"BH\", pvalueCutoff=0.05, readable=TRUE)\n",
    "#barplot(ego3, showCategory=25, title=\"GO pathways\")"
   ]
  },
  {
   "cell_type": "markdown",
   "metadata": {},
   "source": [
    "### Up regulated pathways"
   ]
  },
  {
   "cell_type": "code",
   "execution_count": 13,
   "metadata": {},
   "outputs": [],
   "source": [
    "if(bool_plot){\n",
    "    sig.gene <- bitr(res_ALHFD_vs_IFHFD[res_ALHFD_vs_IFHFD$IFHFD_vs_ALHFD_ratio > 0.2,1],\n",
    "                     fromType=\"SYMBOL\",\n",
    "                     toType=\"ENTREZID\",\n",
    "                     OrgDb=org.Mm.eg.db\n",
    "    )\n",
    "    kk1 <- enrichKEGG(gene=sig.gene[,2], \n",
    "                      organism='mmu', \n",
    "                      pvalueCutoff=0.05\n",
    "    )\n",
    "    barplot(kk1,\n",
    "            showCategory=25,\n",
    "            title=\"KEGG pathways\"\n",
    "    )\n",
    "}"
   ]
  },
  {
   "cell_type": "code",
   "execution_count": 14,
   "metadata": {},
   "outputs": [],
   "source": [
    "if(bool_plot){\n",
    "    ego1 <- enrichGO(gene=sig.gene[,2],\n",
    "                     OrgDb=org.Mm.eg.db,\n",
    "                     ont=\"BP\", \n",
    "                     pAdjustMethod=\"BH\",\n",
    "                     pvalueCutoff=0.05,\n",
    "                     readable=TRUE\n",
    "    )\n",
    "    barplot(ego1,\n",
    "            showCategory=25,\n",
    "            title=\"GO pathways\"\n",
    "    )\n",
    "}"
   ]
  },
  {
   "cell_type": "code",
   "execution_count": 15,
   "metadata": {},
   "outputs": [],
   "source": [
    "if(bool_plot){\n",
    "    ego2 <- enrichGO(gene=sig.gene[,2], \n",
    "                     OrgDb=org.Mm.eg.db, \n",
    "                     ont=\"CC\",\n",
    "                     pAdjustMethod=\"BH\",\n",
    "                     pvalueCutoff=0.05,\n",
    "                     readable=TRUE\n",
    "    )\n",
    "    barplot(ego2, \n",
    "            showCategory=25,\n",
    "            title=\"GO pathways\"\n",
    "    )\n",
    "}"
   ]
  },
  {
   "cell_type": "code",
   "execution_count": 16,
   "metadata": {},
   "outputs": [],
   "source": [
    "if(bool_plot){\n",
    "    ego3 <- enrichGO(gene=sig.gene[,2],\n",
    "                     OrgDb=org.Mm.eg.db,\n",
    "                     ont=\"MF\",\n",
    "                     pAdjustMethod=\"BH\",\n",
    "                     pvalueCutoff=0.05,\n",
    "                     readable=TRUE\n",
    "    )\n",
    "    barplot(ego3,\n",
    "            showCategory=25,\n",
    "            title=\"GO pathways\"\n",
    "    )\n",
    "}"
   ]
  },
  {
   "cell_type": "code",
   "execution_count": 32,
   "metadata": {},
   "outputs": [],
   "source": [
    "bp1 <- simplify(ego1,\n",
    "                cutoff=0.7, \n",
    "                by=\"p.adjust\",\n",
    "                select_fun=min\n",
    ")\n",
    "bp2 <- simplify(ego2,\n",
    "                cutoff=0.7,\n",
    "                by=\"p.adjust\",\n",
    "                select_fun=min\n",
    ")\n",
    "bp3 <- simplify(ego3, \n",
    "                cutoff=0.7,\n",
    "                by=\"p.adjust\",\n",
    "                select_fun=min\n",
    ")\n",
    "lk = as.numeric(sub(\"\\\\/.*\", \"\", bp1@result[,4]))\n",
    "bp1 = bp1@result[(lk > 15) & (lk < 500),]\n",
    "l1 = as.numeric(sub(\"\\\\/.*\", \"\", bp2@result[,4]))\n",
    "bp2 = bp2@result[(l1 > 15) & (l1 < 500),]\n",
    "l2 = as.numeric(sub(\"\\\\/.*\", \"\", bp3@result[,4]))\n",
    "bp3 = bp3@result[(l2 > 15) & (l2 < 500),]"
   ]
  },
  {
   "cell_type": "code",
   "execution_count": 33,
   "metadata": {},
   "outputs": [],
   "source": [
    "setwd('/Users/viktorian.miok/Documents/consultation/Katarina/Integration_Data/Proteomics_data/results/IF')\n",
    "write.csv(kk1@result, \"IF_KEGG_full_up_prot.csv\")\n",
    "write.csv(ego1@result, \"IF_GO_BP_full_up_prot.csv\")\n",
    "write.csv(ego2@result, \"IF_GO_CC_full_up_prot.csv\")\n",
    "write.csv(ego3@result, \"IF_GO_MF_full_up_prot.csv\")\n",
    "\n",
    "write.csv(bp1, \"IF_GO_BP_trimed_up_prot.csv\")\n",
    "write.csv(bp2, \"IF_GO_CC_trimed_up_prot.csv\")\n",
    "write.csv(bp3, \"IF_GO_MF_trimed_up_prot.csv\")"
   ]
  },
  {
   "cell_type": "markdown",
   "metadata": {},
   "source": [
    "### Down regulated pathways"
   ]
  },
  {
   "cell_type": "code",
   "execution_count": 17,
   "metadata": {},
   "outputs": [],
   "source": [
    "if(bool_plot){\n",
    "    sig.gene <- bitr(res_ALHFD_vs_IFHFD[res_ALHFD_vs_IFHFD$IFHFD_vs_ALHFD_ratio < -0.2,1],\n",
    "                     fromType=\"SYMBOL\",\n",
    "                     toType=\"ENTREZID\",\n",
    "                     OrgDb=org.Mm.eg.db\n",
    "    )\n",
    "    kk1 <- enrichKEGG(gene=sig.gene[,2], \n",
    "                      organism='mmu',\n",
    "                      pvalueCutoff=0.05\n",
    "    )\n",
    "    barplot(kk1,\n",
    "            showCategory=25,\n",
    "            title=\"KEGG pathways\"\n",
    "    )\n",
    "}"
   ]
  },
  {
   "cell_type": "code",
   "execution_count": 18,
   "metadata": {},
   "outputs": [],
   "source": [
    "if(bool_plot){\n",
    "    ego1 <- enrichGO(gene=sig.gene[,2], \n",
    "                     OrgDb=org.Mm.eg.db,\n",
    "                     ont=\"BP\",\n",
    "                     pAdjustMethod=\"BH\",\n",
    "                     pvalueCutoff=0.05,\n",
    "                     readable=TRUE\n",
    "    )\n",
    "    barplot(ego1, \n",
    "            showCategory=25,\n",
    "            title=\"GO pathways\"\n",
    "    )\n",
    "}"
   ]
  },
  {
   "cell_type": "code",
   "execution_count": 19,
   "metadata": {},
   "outputs": [],
   "source": [
    "if(bool_plot){\n",
    "    ego2 <- enrichGO(gene=sig.gene[,2], \n",
    "                     OrgDb=org.Mm.eg.db,\n",
    "                     ont=\"CC\",\n",
    "                     pAdjustMethod=\"BH\",\n",
    "                     pvalueCutoff=0.05, \n",
    "                     readable=TRUE\n",
    "    )\n",
    "    barplot(ego2, \n",
    "            showCategory=25,\n",
    "            title=\"GO pathways\"\n",
    "    )\n",
    "}"
   ]
  },
  {
   "cell_type": "code",
   "execution_count": 20,
   "metadata": {},
   "outputs": [],
   "source": [
    "if(bool_plot){\n",
    "    ego3 <- enrichGO(gene=sig.gene[,2], \n",
    "                     OrgDb=org.Mm.eg.db,\n",
    "                     ont=\"MF\",\n",
    "                     pAdjustMethod=\"BH\",\n",
    "                     pvalueCutoff=0.05,\n",
    "                     readable=TRUE\n",
    "    )\n",
    "    barplot(ego3, \n",
    "            showCategory=25, \n",
    "            title=\"GO pathways\"\n",
    "    )\n",
    "}"
   ]
  },
  {
   "cell_type": "code",
   "execution_count": 38,
   "metadata": {},
   "outputs": [],
   "source": [
    "bp1 <- simplify(ego1,\n",
    "                cutoff=0.7, \n",
    "                by=\"p.adjust\", \n",
    "                select_fun=min\n",
    ")\n",
    "bp2 <- simplify(ego2, \n",
    "                cutoff=0.7,\n",
    "                by=\"p.adjust\",\n",
    "                select_fun=min\n",
    ")\n",
    "bp3 <- simplify(ego3,\n",
    "                cutoff=0.7, \n",
    "                by=\"p.adjust\",\n",
    "                select_fun=min\n",
    ")\n",
    "lk = as.numeric(sub(\"\\\\/.*\", \"\", bp1@result[,4]))\n",
    "bp1 = bp1@result[(lk > 15) & (lk < 500),]\n",
    "l1 = as.numeric(sub(\"\\\\/.*\", \"\", bp2@result[,4]))\n",
    "bp2 = bp2@result[(l1 > 15) & (l1 < 500),]\n",
    "l2 = as.numeric(sub(\"\\\\/.*\", \"\", bp3@result[,4]))\n",
    "bp3 = bp3@result[(l2 > 15) & (l2 < 500),]"
   ]
  },
  {
   "cell_type": "code",
   "execution_count": 39,
   "metadata": {},
   "outputs": [],
   "source": [
    "setwd('/Users/viktorian.miok/Documents/consultation/Katarina/Integration_Data/Proteomics_data/results/IF')\n",
    "write.csv(kk1@result, \"IF_KEGG_full_down_prot.csv\")\n",
    "write.csv(ego1@result, \"IF_GO_BP_full_down_prot.csv\")\n",
    "write.csv(ego2@result, \"IF_GO_CC_full_down_prot.csv\")\n",
    "write.csv(ego3@result, \"IF_GO_MF_full_down_prot.csv\")\n",
    "\n",
    "write.csv(bp1, \"IF_GO_BP_trimed_down_prot.csv\")\n",
    "write.csv(bp2, \"IF_GO_CC_trimed_down_prot.csv\")\n",
    "write.csv(bp3, \"IF_GO_MF_trimed_down_prot.csv\")"
   ]
  },
  {
   "cell_type": "code",
   "execution_count": 21,
   "metadata": {},
   "outputs": [],
   "source": [
    "if(bool_plot){\n",
    "    plot_pca(depIF, \n",
    "             x=1,\n",
    "             y=2,\n",
    "             n=nrow(depIF), \n",
    "             label=T,\n",
    "             point_size=4,\n",
    "             indicate=c(\"condition\")\n",
    "    )\n",
    "}"
   ]
  },
  {
   "cell_type": "code",
   "execution_count": 22,
   "metadata": {
    "scrolled": false
   },
   "outputs": [],
   "source": [
    "if(bool_plot){\n",
    "    p <- assay(depIF)\n",
    "    heatmap.2(p,\n",
    "              col=colors,\n",
    "              scale=\"row\",\n",
    "              trace=\"none\",\n",
    "              main=\"IFHFD_vs_ALHFD\",\n",
    "              Rowv=FALSE,\n",
    "              Colv=FALSE\n",
    "    ) \n",
    "}"
   ]
  },
  {
   "cell_type": "markdown",
   "metadata": {},
   "source": [
    "## TRF Study"
   ]
  },
  {
   "cell_type": "code",
   "execution_count": 42,
   "metadata": {},
   "outputs": [],
   "source": [
    "dat <- read_excel('~/Documents/consultation/Katarina/Integration_Data/Proteomics_data/TRF_study.xlsx',\n",
    "                  sheet=3)\n",
    "\n",
    "colors = colorRampPalette(rev(brewer.pal(9, \"Spectral\")))(255)"
   ]
  },
  {
   "cell_type": "code",
   "execution_count": 43,
   "metadata": {},
   "outputs": [],
   "source": [
    "data_unique <- make_unique(dat,\n",
    "                           \"PG.Genes\",\n",
    "                           \"PG.ProteinDescriptions\",\n",
    "                           delim=\"/t\"\n",
    ")\n",
    "a_columns = c(grep(c(\"TRFHFD_\"), colnames(data_unique)),\n",
    "              grep(c(\"ALHFD_\"), colnames(data_unique))\n",
    ")\n",
    "# removed sample\n",
    "a_columns = a_columns[-10]"
   ]
  },
  {
   "cell_type": "code",
   "execution_count": 44,
   "metadata": {},
   "outputs": [],
   "source": [
    "label = colnames(data_unique)[a_columns]\n",
    "condition = c(\"TRFHFD\",\"TRFHFD\",\"TRFHFD\",\"TRFHFD\",\"TRFHFD\",\"TRFHFD\",\n",
    "              \"ALHFD\",\"ALHFD\",\"ALHFD\",\"ALHFD\",\"ALHFD\")\n",
    "    \n",
    "replicate = c(1:6,1:5)\n",
    "experimental_design = data.frame(label, condition, replicate)  \n",
    "experimental_design[,1] = as.character(experimental_design[,1])\n",
    "experimental_design[,2] = as.character(experimental_design[,2])\n",
    "experimental_design[,3] = as.character(experimental_design[,3])"
   ]
  },
  {
   "cell_type": "code",
   "execution_count": 45,
   "metadata": {},
   "outputs": [],
   "source": [
    "data_se <- make_se(data_unique, \n",
    "                   a_columns, \n",
    "                   experimental_design\n",
    ")"
   ]
  },
  {
   "cell_type": "code",
   "execution_count": 46,
   "metadata": {},
   "outputs": [],
   "source": [
    "assay(data_se)[is.nan(assay(data_se))] = NA"
   ]
  },
  {
   "cell_type": "code",
   "execution_count": 23,
   "metadata": {},
   "outputs": [],
   "source": [
    "if(bool_plot){\n",
    "    # Plot a barplot of the protein identification overlap between samples\n",
    "    plot_frequency(data_se)\n",
    "}"
   ]
  },
  {
   "cell_type": "code",
   "execution_count": 48,
   "metadata": {},
   "outputs": [],
   "source": [
    "# Filter for proteins that are identified in 2 out of 3 replicates of at least one condition\n",
    "data_filt <- filter_missval(data_se,\n",
    "                            thr=1\n",
    ")"
   ]
  },
  {
   "cell_type": "code",
   "execution_count": 24,
   "metadata": {
    "scrolled": true
   },
   "outputs": [],
   "source": [
    "if(bool_plot){\n",
    "    # Plot a barplot of the number of identified proteins per samples\n",
    "    plot_numbers(data_filt)\n",
    "}"
   ]
  },
  {
   "cell_type": "code",
   "execution_count": 25,
   "metadata": {},
   "outputs": [],
   "source": [
    "if(bool_plot){\n",
    "    # Plot a barplot of the protein identification overlap between samples\n",
    "    plot_coverage(data_filt)\n",
    "}"
   ]
  },
  {
   "cell_type": "code",
   "execution_count": 51,
   "metadata": {},
   "outputs": [],
   "source": [
    "# Normalize the data\n",
    "data_norm <- normalize_vsn(data_filt)"
   ]
  },
  {
   "cell_type": "code",
   "execution_count": 26,
   "metadata": {},
   "outputs": [],
   "source": [
    "if(bool_plot){\n",
    "    # Visualize normalization by boxplots for all samples before and after normalization\n",
    "    plot_normalization(data_filt, \n",
    "                       data_norm\n",
    "    )\n",
    "}"
   ]
  },
  {
   "cell_type": "code",
   "execution_count": 53,
   "metadata": {},
   "outputs": [
    {
     "name": "stderr",
     "output_type": "stream",
     "text": [
      "Warning message:\n",
      "“No missing values in 'data_norm'. Returning the unchanged object.”\n"
     ]
    }
   ],
   "source": [
    "# Impute missing data using random draws from a Gaussian distribution centered around a minimal value (for MNAR)\n",
    "data_imp <- impute(data_norm, \n",
    "                   fun=\"MinProb\",\n",
    "                   q=0.01\n",
    ")"
   ]
  },
  {
   "cell_type": "code",
   "execution_count": 27,
   "metadata": {},
   "outputs": [],
   "source": [
    "if(bool_plot){\n",
    "    # Plot intensity distributions before and after imputation\n",
    "    plot_imputation(data_norm,\n",
    "                    data_imp\n",
    "    )\n",
    "}"
   ]
  },
  {
   "cell_type": "code",
   "execution_count": 55,
   "metadata": {},
   "outputs": [
    {
     "name": "stderr",
     "output_type": "stream",
     "text": [
      "Tested contrasts: TRFHFD_vs_ALHFD\n",
      "\n"
     ]
    }
   ],
   "source": [
    "data_diff_manual <- test_diff(data_imp,\n",
    "                              type=\"manual\",\n",
    "                              test=c(\"TRFHFD_vs_ALHFD\"))"
   ]
  },
  {
   "cell_type": "code",
   "execution_count": 56,
   "metadata": {},
   "outputs": [],
   "source": [
    "# Denote significant proteins based on user defined cutoffs\n",
    "depTRF <- add_rejections(data_diff_manual, \n",
    "                         alpha=0.05,\n",
    "                         lfc=log2(2)\n",
    ")\n",
    "res_TRFHFD_vs_ALHFD <- get_results(depTRF)"
   ]
  },
  {
   "cell_type": "code",
   "execution_count": 28,
   "metadata": {},
   "outputs": [],
   "source": [
    "if(bool_plot){\n",
    "    plot_pca(depTRF,\n",
    "             x=1, \n",
    "             y=2,\n",
    "             n=500,\n",
    "             point_size=4,\n",
    "             label=TRUE,\n",
    "             indicate=c(\"condition\")\n",
    "    )\n",
    "}"
   ]
  },
  {
   "cell_type": "code",
   "execution_count": 29,
   "metadata": {},
   "outputs": [],
   "source": [
    "if(bool_plot){\n",
    "    p <- assay(depTRF)\n",
    "    heatmap.2(p, \n",
    "              col=colors,\n",
    "              scale = \"row\",\n",
    "              trace=\"none\",\n",
    "              main=\"TRFHFD_vs_ALHFD\",\n",
    "              Rowv=FALSE,\n",
    "              Colv=FALSE\n",
    "    ) \n",
    "}"
   ]
  },
  {
   "cell_type": "code",
   "execution_count": 60,
   "metadata": {},
   "outputs": [],
   "source": [
    "#write.table(res_TRFHFD_vs_ALHFD, file = \"TRFstudy_TRFHFDvsALHDF.csv\", sep = \",\", col.names = NA)"
   ]
  },
  {
   "cell_type": "markdown",
   "metadata": {},
   "source": [
    "### All regulated pathways"
   ]
  },
  {
   "cell_type": "code",
   "execution_count": 61,
   "metadata": {},
   "outputs": [],
   "source": [
    "#sig.gene <- bitr(res_TRFHFD_vs_ALHFD[abs(res_TRFHFD_vs_ALHFD$TRFHFD_vs_ALHFD_ratio)>0.2,1],\n",
    "#                 fromType=\"SYMBOL\",toType=\"ENTREZID\",OrgDb=org.Mm.eg.db)"
   ]
  },
  {
   "cell_type": "code",
   "execution_count": 62,
   "metadata": {},
   "outputs": [],
   "source": [
    "#kk1 <- enrichKEGG(gene = sig.gene[,2], organism = 'mmu', pvalueCutoff = 0.05)\n",
    "#barplot(kk1, showCategory=25, title=\"KEGG pathways\")"
   ]
  },
  {
   "cell_type": "code",
   "execution_count": 63,
   "metadata": {},
   "outputs": [],
   "source": [
    "#ego1 <- enrichGO(gene=sig.gene[,2], OrgDb=org.Mm.eg.db, ont=\"BP\", pAdjustMethod=\"BH\", pvalueCutoff=0.05, readable=TRUE)\n",
    "#barplot(ego1, showCategory=25, title=\"GO pathways\")"
   ]
  },
  {
   "cell_type": "code",
   "execution_count": 64,
   "metadata": {},
   "outputs": [],
   "source": [
    "#ego2 <- enrichGO(gene=sig.gene[,2], OrgDb=org.Mm.eg.db, ont=\"CC\", pAdjustMethod=\"BH\", pvalueCutoff=0.05, readable=TRUE)\n",
    "#barplot(ego2, showCategory=25, title=\"GO pathways\")"
   ]
  },
  {
   "cell_type": "code",
   "execution_count": 65,
   "metadata": {},
   "outputs": [],
   "source": [
    "#ego3 <- enrichGO(gene=sig.gene[,2], OrgDb=org.Mm.eg.db, ont=\"MF\", pAdjustMethod=\"BH\", pvalueCutoff=0.05, readable=TRUE)\n",
    "#barplot(ego3, showCategory=25, title=\"GO pathways\")"
   ]
  },
  {
   "cell_type": "markdown",
   "metadata": {},
   "source": [
    "### Up regulated pathways"
   ]
  },
  {
   "cell_type": "code",
   "execution_count": 66,
   "metadata": {},
   "outputs": [
    {
     "name": "stderr",
     "output_type": "stream",
     "text": [
      "'select()' returned 1:1 mapping between keys and columns\n",
      "\n",
      "Warning message in bitr(res_TRFHFD_vs_ALHFD[res_TRFHFD_vs_ALHFD$TRFHFD_vs_ALHFD_ratio > :\n",
      "“8.56% of input gene IDs are fail to map...”\n"
     ]
    }
   ],
   "source": [
    "sig.gene <- bitr(res_TRFHFD_vs_ALHFD[res_TRFHFD_vs_ALHFD$TRFHFD_vs_ALHFD_ratio > 0.2, 1],\n",
    "                 fromType=\"SYMBOL\",\n",
    "                 toType=\"ENTREZID\",\n",
    "                 OrgDb=org.Mm.eg.db\n",
    ")\n",
    "}"
   ]
  },
  {
   "cell_type": "code",
   "execution_count": 30,
   "metadata": {},
   "outputs": [],
   "source": [
    "if(bool_plot){\n",
    "    kk1 <- enrichKEGG(gene = sig.gene[,2],\n",
    "                      organism = 'mmu',\n",
    "                      pvalueCutoff = 0.05\n",
    "    )\n",
    "    barplot(kk1,\n",
    "            showCategory=25,\n",
    "            title=\"KEGG pathways\"\n",
    "    )\n",
    "}"
   ]
  },
  {
   "cell_type": "code",
   "execution_count": 31,
   "metadata": {},
   "outputs": [],
   "source": [
    "if(bool_plot){\n",
    "    ego1 <- enrichGO(gene=sig.gene[,2],\n",
    "                     OrgDb=org.Mm.eg.db,\n",
    "                     ont=\"BP\",\n",
    "                     pAdjustMethod=\"BH\",\n",
    "                     pvalueCutoff=0.05, \n",
    "                     readable=TRUE\n",
    "    )\n",
    "    barplot(ego1,\n",
    "            showCategory=25,\n",
    "            title=\"GO pathways\"\n",
    "    )\n",
    "}"
   ]
  },
  {
   "cell_type": "code",
   "execution_count": 34,
   "metadata": {},
   "outputs": [],
   "source": [
    "if(bool_plot){\n",
    "    ego2 <- enrichGO(gene=sig.gene[,2],\n",
    "                     OrgDb=org.Mm.eg.db,\n",
    "                     ont=\"CC\",\n",
    "                     pAdjustMethod=\"BH\",\n",
    "                     pvalueCutoff=0.05,\n",
    "                     readable=TRUE\n",
    "    )\n",
    "    barplot(ego2, \n",
    "            showCategory=25,\n",
    "            title=\"GO pathways\"\n",
    "    )\n",
    "}"
   ]
  },
  {
   "cell_type": "code",
   "execution_count": 35,
   "metadata": {},
   "outputs": [],
   "source": [
    "if(bool_plot){\n",
    "    ego3 <- enrichGO(gene=sig.gene[,2], \n",
    "                     OrgDb=org.Mm.eg.db,\n",
    "                     ont=\"MF\", \n",
    "                     pAdjustMethod=\"BH\",\n",
    "                     pvalueCutoff=0.05,\n",
    "                     readable=TRUE\n",
    "    )\n",
    "    barplot(ego3,\n",
    "            showCategory=25, \n",
    "            title=\"GO pathways\"\n",
    "    )\n",
    "}"
   ]
  },
  {
   "cell_type": "code",
   "execution_count": 71,
   "metadata": {},
   "outputs": [],
   "source": [
    "bp1 <- simplify(ego1,\n",
    "                cutoff=0.7,\n",
    "                by=\"p.adjust\",\n",
    "                select_fun=min)\n",
    "bp2 <- simplify(ego2, \n",
    "                cutoff=0.7,\n",
    "                by=\"p.adjust\",\n",
    "                select_fun=min\n",
    ")\n",
    "bp3 <- simplify(ego3,\n",
    "                cutoff=0.7,\n",
    "                by=\"p.adjust\",\n",
    "                select_fun=min\n",
    ")\n",
    "\n",
    "lk=as.numeric(sub(\"\\\\/.*\", \"\", bp1@result[,4]))\n",
    "bp1=bp1@result[(lk>15)&(lk<500),]\n",
    "l1=as.numeric(sub(\"\\\\/.*\", \"\", bp2@result[,4]))\n",
    "bp2=bp2@result[(l1>15)&(l1<500),]\n",
    "l2=as.numeric(sub(\"\\\\/.*\", \"\", bp3@result[,4]))\n",
    "bp3=bp3@result[(l2>15)&(l2<500),]"
   ]
  },
  {
   "cell_type": "code",
   "execution_count": 72,
   "metadata": {},
   "outputs": [],
   "source": [
    "setwd('/Users/viktorian.miok/Documents/consultation/Katarina/Integration_Data/Proteomics_data/results/TRF')\n",
    "write.csv(kk1@result, \"TRF_KEGG_full_up_prot.csv\")\n",
    "write.csv(ego1@result, \"TRF_GO_BP_full_up_prot.csv\")\n",
    "write.csv(ego2@result, \"TRF_GO_CC_full_up_prot.csv\")\n",
    "write.csv(ego3@result, \"TRF_GO_MF_full_up_prot.csv\")\n",
    "\n",
    "write.csv(bp1, \"TRF_GO_BP_trimed_up_prot.csv\")\n",
    "write.csv(bp2, \"TRF_GO_CC_trimed_up_prot.csv\")\n",
    "write.csv(bp3, \"TRF_GO_MF_trimed_up_prot.csv\")"
   ]
  },
  {
   "cell_type": "markdown",
   "metadata": {},
   "source": [
    "### Down regulated pathways"
   ]
  },
  {
   "cell_type": "code",
   "execution_count": 73,
   "metadata": {},
   "outputs": [
    {
     "name": "stderr",
     "output_type": "stream",
     "text": [
      "'select()' returned 1:1 mapping between keys and columns\n",
      "\n",
      "Warning message in bitr(res_TRFHFD_vs_ALHFD[res_TRFHFD_vs_ALHFD$TRFHFD_vs_ALHFD_ratio < :\n",
      "“5.45% of input gene IDs are fail to map...”\n"
     ]
    }
   ],
   "source": [
    "sig.gene=bitr(res_TRFHFD_vs_ALHFD[res_TRFHFD_vs_ALHFD$TRFHFD_vs_ALHFD_ratio < -0.2,1],\n",
    "              fromType=\"SYMBOL\",\n",
    "              toType=\"ENTREZID\",\n",
    "              OrgDb=org.Mm.eg.db\n",
    ")"
   ]
  },
  {
   "cell_type": "code",
   "execution_count": 74,
   "metadata": {},
   "outputs": [
    {
     "data": {
      "text/html": [
       "<style>\n",
       ".list-inline {list-style: none; margin:0; padding: 0}\n",
       ".list-inline>li {display: inline-block}\n",
       ".list-inline>li:not(:last-child)::after {content: \"\\00b7\"; padding: 0 .5ex}\n",
       "</style>\n",
       "<ol class=list-inline><li>434</li><li>2</li></ol>\n"
      ],
      "text/latex": [
       "\\begin{enumerate*}\n",
       "\\item 434\n",
       "\\item 2\n",
       "\\end{enumerate*}\n"
      ],
      "text/markdown": [
       "1. 434\n",
       "2. 2\n",
       "\n",
       "\n"
      ],
      "text/plain": [
       "[1] 434   2"
      ]
     },
     "metadata": {},
     "output_type": "display_data"
    }
   ],
   "source": [
    "dim(sig.gene)"
   ]
  },
  {
   "cell_type": "code",
   "execution_count": 36,
   "metadata": {},
   "outputs": [],
   "source": [
    "if(bool_plot){\n",
    "    kk1 <- enrichKEGG(gene=sig.gene[,2], \n",
    "                      organism='mmu',\n",
    "                      pvalueCutoff=0.05\n",
    "    )\n",
    "    barplot(kk1, \n",
    "            showCategory=25, \n",
    "            title=\"KEGG pathways\"\n",
    "    )\n",
    "}"
   ]
  },
  {
   "cell_type": "code",
   "execution_count": 37,
   "metadata": {},
   "outputs": [],
   "source": [
    "if(bool_plot){\n",
    "    ego1 <- enrichGO(gene=sig.gene[,2],\n",
    "                     OrgDb=org.Mm.eg.db,\n",
    "                     ont=\"BP\",\n",
    "                     pAdjustMethod=\"BH\",\n",
    "                     pvalueCutoff=0.05,\n",
    "                     readable=TRUE\n",
    "    )\n",
    "    barplot(ego1, \n",
    "            showCategory=25, \n",
    "            title=\"GO pathways\"\n",
    "    )\n",
    "}"
   ]
  },
  {
   "cell_type": "code",
   "execution_count": 38,
   "metadata": {},
   "outputs": [],
   "source": [
    "if(bool_plot){\n",
    "    ego2 <- enrichGO(gene=sig.gene[,2],\n",
    "                     OrgDb=org.Mm.eg.db,\n",
    "                     ont=\"CC\",\n",
    "                     pAdjustMethod=\"BH\",\n",
    "                     pvalueCutoff=0.05, \n",
    "                     readable=TRUE\n",
    "    )\n",
    "    barplot(ego2, \n",
    "            showCategory=25, \n",
    "            title=\"GO pathways\"\n",
    "    )\n",
    "}"
   ]
  },
  {
   "cell_type": "code",
   "execution_count": 39,
   "metadata": {},
   "outputs": [],
   "source": [
    "if(bool_plot){\n",
    "    ego3 <- enrichGO(gene=sig.gene[,2],\n",
    "                     OrgDb=org.Mm.eg.db,\n",
    "                     ont=\"MF\",\n",
    "                     pAdjustMethod=\"BH\", \n",
    "                     pvalueCutoff=0.05, \n",
    "                     readable=TRUE\n",
    "    )\n",
    "    barplot(ego3, \n",
    "            showCategory=25,\n",
    "            title=\"GO pathways\"\n",
    "    )\n",
    "}"
   ]
  },
  {
   "cell_type": "code",
   "execution_count": 79,
   "metadata": {},
   "outputs": [],
   "source": [
    "bp1 <- simplify(ego1, \n",
    "                cutoff=0.7, \n",
    "                by=\"p.adjust\",\n",
    "                select_fun=min\n",
    ")\n",
    "bp2 <- simplify(ego2, \n",
    "                cutoff=0.7,\n",
    "                by=\"p.adjust\",\n",
    "                select_fun=min\n",
    ")\n",
    "bp3 <- simplify(ego3,\n",
    "                cutoff=0.7,\n",
    "                by=\"p.adjust\", \n",
    "                select_fun=min\n",
    ")\n",
    "\n",
    "lk = as.numeric(sub(\"\\\\/.*\", \"\", bp1@result[,4]))\n",
    "bp1 = bp1@result[(lk > 15) & (lk < 500),]\n",
    "l1 = as.numeric(sub(\"\\\\/.*\", \"\", bp2@result[,4]))\n",
    "bp2 = bp2@result[(l1 > 15) & (l1 < 500),]\n",
    "l2 = as.numeric(sub(\"\\\\/.*\", \"\", bp3@result[,4]))\n",
    "bp3 = bp3@result[(l2 > 15) & (l2 < 500),]"
   ]
  },
  {
   "cell_type": "code",
   "execution_count": 80,
   "metadata": {},
   "outputs": [],
   "source": [
    "setwd('/Users/viktorian.miok/Documents/consultation/Katarina/Integration_Data/Proteomics_data/results/TRF')\n",
    "write.csv(kk1@result, \"TRF_KEGG_full_down_prot.csv\")\n",
    "write.csv(ego1@result, \"TRF_GO_BP_full_down_prot.csv\")\n",
    "write.csv(ego2@result, \"TRF_GO_CC_full_down_prot.csv\")\n",
    "write.csv(ego3@result, \"TRF_GO_MF_full_down_prot.csv\")\n",
    "\n",
    "write.csv(bp1, \"TRF_GO_BP_trimed_down_prot.csv\")\n",
    "write.csv(bp2, \"TRF_GO_CC_trimed_down_prot.csv\")\n",
    "write.csv(bp3, \"TRF_GO_MF_trimed_down_prot.csv\")"
   ]
  },
  {
   "cell_type": "markdown",
   "metadata": {},
   "source": [
    "## VSG Study"
   ]
  },
  {
   "cell_type": "code",
   "execution_count": null,
   "metadata": {},
   "outputs": [],
   "source": [
    "dat <- read_excel('~/Documents/consultation/Katarina/Integration_Data/Proteomics_data/191119 VSG study KLK13007_DirectDIA_nodecimal.xlsx',\n",
    "                  sheet=2\n",
    "                )"
   ]
  },
  {
   "cell_type": "code",
   "execution_count": 82,
   "metadata": {},
   "outputs": [],
   "source": [
    "data_unique <- make_unique(dat, \n",
    "                           \"PG.Genes\",\n",
    "                           \"PG.ProteinDescriptions\",\n",
    "                           delim=\"/t\"\n",
    ")\n",
    "a_columns = c(grep(c(\"VSG HFD_\"), colnames(data_unique)),\n",
    "              grep(c(\"PF HFD_\"), colnames(data_unique)))"
   ]
  },
  {
   "cell_type": "code",
   "execution_count": 83,
   "metadata": {},
   "outputs": [],
   "source": [
    "# removed sample\n",
    "a_columns = a_columns[-c(2,9)]"
   ]
  },
  {
   "cell_type": "code",
   "execution_count": 84,
   "metadata": {},
   "outputs": [],
   "source": [
    "label = colnames(data_unique)[a_columns]\n",
    "condition = c(\"VSGHFD\",\"VSGHFD\",\"VSGHFD\",\"VSGHFD\",\"VSGHFD\",\"VSGHFD\",\"VSGHFD\",\n",
    "              \"PFHFD\",\"PFHFD\",\"PFHFD\",\"PFHFD\",\"PFHFD\",\"PFHFD\",\"PFHFD\")\n",
    "    \n",
    "replicate = c(1:7, 1:7)\n",
    "experimental_design = data.frame(label, condition, replicate)  \n",
    "experimental_design[,1] = as.character(experimental_design[,1])\n",
    "experimental_design[,2] = as.character(experimental_design[,2])\n",
    "experimental_design[,3] = as.character(experimental_design[,3])"
   ]
  },
  {
   "cell_type": "code",
   "execution_count": 85,
   "metadata": {},
   "outputs": [
    {
     "name": "stderr",
     "output_type": "stream",
     "text": [
      "Warning message in eval(expr, envir, enclos):\n",
      "“NAs introduced by coercion”\n",
      "Warning message in eval(expr, envir, enclos):\n",
      "“NAs introduced by coercion”\n",
      "Warning message in eval(expr, envir, enclos):\n",
      "“NAs introduced by coercion”\n",
      "Warning message in eval(expr, envir, enclos):\n",
      "“NAs introduced by coercion”\n",
      "Warning message in eval(expr, envir, enclos):\n",
      "“NAs introduced by coercion”\n",
      "Warning message in eval(expr, envir, enclos):\n",
      "“NAs introduced by coercion”\n",
      "Warning message in eval(expr, envir, enclos):\n",
      "“NAs introduced by coercion”\n",
      "Warning message in eval(expr, envir, enclos):\n",
      "“NAs introduced by coercion”\n",
      "Warning message in eval(expr, envir, enclos):\n",
      "“NAs introduced by coercion”\n",
      "Warning message in eval(expr, envir, enclos):\n",
      "“NAs introduced by coercion”\n",
      "Warning message in eval(expr, envir, enclos):\n",
      "“NAs introduced by coercion”\n",
      "Warning message in eval(expr, envir, enclos):\n",
      "“NAs introduced by coercion”\n",
      "Warning message in eval(expr, envir, enclos):\n",
      "“NAs introduced by coercion”\n",
      "Warning message in eval(expr, envir, enclos):\n",
      "“NAs introduced by coercion”\n"
     ]
    }
   ],
   "source": [
    "data_unique[,7] = as.integer(data_unique[,7])\n",
    "data_unique[,9] = as.integer(data_unique[,9])\n",
    "data_unique[,10] = as.integer(data_unique[,10])\n",
    "data_unique[,11] = as.integer(data_unique[,11])\n",
    "data_unique[,12] = as.integer(data_unique[,12])\n",
    "data_unique[,13] = as.integer(data_unique[,13])\n",
    "data_unique[,14] = as.integer(data_unique[,14])\n",
    "\n",
    "data_unique[,42] = as.integer(data_unique[,42])\n",
    "data_unique[,43] = as.integer(data_unique[,43])\n",
    "data_unique[,44] = as.integer(data_unique[,44])\n",
    "data_unique[,45] = as.integer(data_unique[,45])\n",
    "data_unique[,46] = as.integer(data_unique[,46])\n",
    "data_unique[,47] = as.integer(data_unique[,47])\n",
    "data_unique[,48] = as.integer(data_unique[,48])"
   ]
  },
  {
   "cell_type": "code",
   "execution_count": 86,
   "metadata": {},
   "outputs": [],
   "source": [
    "data_se <- make_se(data_unique, \n",
    "                   a_columns,\n",
    "                   experimental_design\n",
    ")"
   ]
  },
  {
   "cell_type": "code",
   "execution_count": 87,
   "metadata": {},
   "outputs": [],
   "source": [
    "assay(data_se)[is.nan(assay(data_se))] = NA"
   ]
  },
  {
   "cell_type": "code",
   "execution_count": 40,
   "metadata": {},
   "outputs": [],
   "source": [
    "if(bool_plot){\n",
    "    # Plot a barplot of the protein identification overlap between samples\n",
    "    plot_frequency(data_se)\n",
    "}"
   ]
  },
  {
   "cell_type": "code",
   "execution_count": 89,
   "metadata": {},
   "outputs": [],
   "source": [
    "# Filter for proteins that are identified in 2 out of 3 replicates of at least one condition\n",
    "data_filt <- filter_missval(data_se,\n",
    "                            thr=1\n",
    ")"
   ]
  },
  {
   "cell_type": "code",
   "execution_count": 41,
   "metadata": {
    "scrolled": true
   },
   "outputs": [],
   "source": [
    "if(bool_plot){\n",
    "    # Plot a barplot of the number of identified proteins per samples\n",
    "    plot_numbers(data_filt)\n",
    "}"
   ]
  },
  {
   "cell_type": "code",
   "execution_count": 42,
   "metadata": {},
   "outputs": [],
   "source": [
    "if(bool_plot){\n",
    "    # Plot a barplot of the protein identification overlap between samples\n",
    "    plot_coverage(data_filt)\n",
    "}"
   ]
  },
  {
   "cell_type": "code",
   "execution_count": 92,
   "metadata": {},
   "outputs": [],
   "source": [
    "# Normalize the data\n",
    "data_norm <- normalize_vsn(data_filt)"
   ]
  },
  {
   "cell_type": "code",
   "execution_count": 43,
   "metadata": {},
   "outputs": [],
   "source": [
    "if(bool_plot){\n",
    "    # Visualize normalization by boxplots for all samples before and after normalization\n",
    "    plot_normalization(data_filt, \n",
    "                       data_norm\n",
    "    )\n",
    "}"
   ]
  },
  {
   "cell_type": "code",
   "execution_count": 94,
   "metadata": {},
   "outputs": [
    {
     "name": "stdout",
     "output_type": "stream",
     "text": [
      "[1] 0.1232543\n"
     ]
    }
   ],
   "source": [
    "# Impute missing data using random draws from a Gaussian distribution centered around a minimal value (for MNAR)\n",
    "data_imp <- impute(data_norm, \n",
    "                   fun=\"MinProb\", \n",
    "                   q=0.01\n",
    ")"
   ]
  },
  {
   "cell_type": "code",
   "execution_count": 44,
   "metadata": {},
   "outputs": [],
   "source": [
    "if(bool_plot){\n",
    "    # Plot intensity distributions before and after imputation\n",
    "    plot_imputation(data_norm, \n",
    "                    data_imp\n",
    "    )\n",
    "}"
   ]
  },
  {
   "cell_type": "code",
   "execution_count": 96,
   "metadata": {},
   "outputs": [
    {
     "name": "stderr",
     "output_type": "stream",
     "text": [
      "Tested contrasts: VSGHFD_vs_PFHFD\n",
      "\n"
     ]
    }
   ],
   "source": [
    "data_diff_manual <- test_diff(data_imp,\n",
    "                              type=\"manual\", \n",
    "                              test=c(\"VSGHFD_vs_PFHFD\")\n",
    ")"
   ]
  },
  {
   "cell_type": "code",
   "execution_count": 97,
   "metadata": {},
   "outputs": [],
   "source": [
    "# Denote significant proteins based on user defined cutoffs\n",
    "depVGS <- add_rejections(data_diff_manual,\n",
    "                         alpha=0.05, \n",
    "                         lfc=log2(2)\n",
    ")\n",
    "res_VSGHFD_vs_PFHFD <- get_results(depVGS)"
   ]
  },
  {
   "cell_type": "code",
   "execution_count": 45,
   "metadata": {},
   "outputs": [],
   "source": [
    "if(bool_plot){\n",
    "    colors = colorRampPalette(rev(brewer.pal(9, \"Spectral\")))(255)\n",
    "\n",
    "    p <- assay(depVGS)\n",
    "    heatmap.2(p, \n",
    "              col=colors,\n",
    "              scale=\"row\",\n",
    "              trace=\"none\",\n",
    "              main=\"VSGHFD_vs_PFHFD\",\n",
    "              Rowv=FALSE,\n",
    "              Colv=FALSE\n",
    "    ) \n",
    "}"
   ]
  },
  {
   "cell_type": "code",
   "execution_count": 46,
   "metadata": {},
   "outputs": [],
   "source": [
    "if(bool_plot){\n",
    "    plot_pca(depVGS, \n",
    "             x=1,\n",
    "             y=2,\n",
    "             n=1000,\n",
    "             label=T,\n",
    "             point_size=4,\n",
    "             indicate=c(\"condition\")\n",
    "    )\n",
    "}"
   ]
  },
  {
   "cell_type": "code",
   "execution_count": 101,
   "metadata": {},
   "outputs": [],
   "source": [
    "#write.table(res_VSGHFD_vs_PFHFD, file = \"VSGstudy_VSGHFDvsPFHFD.csv\", sep = \",\", col.names = NA)"
   ]
  },
  {
   "cell_type": "markdown",
   "metadata": {},
   "source": [
    "### All regulated pathways"
   ]
  },
  {
   "cell_type": "code",
   "execution_count": 102,
   "metadata": {},
   "outputs": [],
   "source": [
    "#sig.gene <- bitr(res_VSGHFD_vs_PFHFD[abs(res_VSGHFD_vs_PFHFD$VSGHFD_vs_PFHFD_ratio)>0.2,1],\n",
    "#                 fromType=\"SYMBOL\",toType=\"ENTREZID\",OrgDb=org.Mm.eg.db)"
   ]
  },
  {
   "cell_type": "code",
   "execution_count": 103,
   "metadata": {},
   "outputs": [],
   "source": [
    "#kk1 <- enrichKEGG(gene = sig.gene[,2], organism = 'mmu', pvalueCutoff = 0.05)\n",
    "#barplot(kk1, showCategory=25, title=\"KEGG pathways\")"
   ]
  },
  {
   "cell_type": "code",
   "execution_count": 104,
   "metadata": {},
   "outputs": [],
   "source": [
    "#ego1 <- enrichGO(gene=sig.gene[,2], OrgDb=org.Mm.eg.db, ont=\"BP\", pAdjustMethod=\"BH\", pvalueCutoff=0.05, readable=TRUE)\n",
    "#barplot(ego1, showCategory=25, title=\"GO pathways\")"
   ]
  },
  {
   "cell_type": "code",
   "execution_count": 105,
   "metadata": {},
   "outputs": [],
   "source": [
    "#ego2 <- enrichGO(gene=sig.gene[,2], OrgDb=org.Mm.eg.db, ont=\"CC\", pAdjustMethod=\"BH\", pvalueCutoff=0.05, readable=TRUE)\n",
    "#barplot(ego2, showCategory=25, title=\"GO pathways\")"
   ]
  },
  {
   "cell_type": "code",
   "execution_count": 106,
   "metadata": {},
   "outputs": [],
   "source": [
    "#ego3 <- enrichGO(gene=sig.gene[,2], OrgDb=org.Mm.eg.db, ont=\"MF\", pAdjustMethod=\"BH\", pvalueCutoff=0.05, readable=TRUE)\n",
    "#barplot(ego3, showCategory=25, title=\"GO pathways\")"
   ]
  },
  {
   "cell_type": "markdown",
   "metadata": {},
   "source": [
    "### Up regulated pathways"
   ]
  },
  {
   "cell_type": "code",
   "execution_count": 47,
   "metadata": {},
   "outputs": [],
   "source": [
    "if(bool_plot){\n",
    "    sig.gene <- bitr(res_VSGHFD_vs_PFHFD[res_VSGHFD_vs_PFHFD$VSGHFD_vs_PFHFD_ratio>0.2,1],\n",
    "                     fromType=\"SYMBOL\",\n",
    "                     toType=\"ENTREZID\",\n",
    "                     OrgDb=org.Mm.eg.db\n",
    "    )\n",
    "    kk1 <- enrichKEGG(gene=sig.gene[,2],\n",
    "                      organism='mmu',\n",
    "                      pvalueCutoff=0.05)\n",
    "    barplot(kk1, \n",
    "            showCategory=25,\n",
    "            title=\"KEGG pathways\"\n",
    "    )\n",
    "}"
   ]
  },
  {
   "cell_type": "code",
   "execution_count": 48,
   "metadata": {},
   "outputs": [],
   "source": [
    "if(bool_plot){\n",
    "    ego1 <- enrichGO(gene=sig.gene[,2],\n",
    "                     OrgDb=org.Mm.eg.db,\n",
    "                     ont=\"BP\", \n",
    "                     pAdjustMethod=\"BH\",\n",
    "                     pvalueCutoff=0.05,\n",
    "                     readable=TRUE\n",
    "    )\n",
    "    barplot(ego1, \n",
    "            showCategory=25, \n",
    "            title=\"GO pathways\"\n",
    "    )\n",
    "}"
   ]
  },
  {
   "cell_type": "code",
   "execution_count": 49,
   "metadata": {},
   "outputs": [],
   "source": [
    "if(bool_plot){\n",
    "    ego2 <- enrichGO(gene=sig.gene[,2],\n",
    "                     OrgDb=org.Mm.eg.db,\n",
    "                     ont=\"CC\", \n",
    "                     pAdjustMethod=\"BH\", \n",
    "                     pvalueCutoff=0.05,\n",
    "                     readable=TRUE\n",
    "    )\n",
    "    barplot(ego2,\n",
    "            showCategory=25,\n",
    "            title=\"GO pathways\"\n",
    "    )\n",
    "}"
   ]
  },
  {
   "cell_type": "code",
   "execution_count": 50,
   "metadata": {},
   "outputs": [],
   "source": [
    "if(bool_plot){\n",
    "    ego3 <- enrichGO(gene=sig.gene[,2],\n",
    "                     OrgDb=org.Mm.eg.db,\n",
    "                     ont=\"MF\",\n",
    "                     pAdjustMethod=\"BH\", \n",
    "                     pvalueCutoff=0.05, \n",
    "                     readable=TRUE\n",
    "    )\n",
    "    barplot(ego3, \n",
    "            showCategory=25,\n",
    "            title=\"GO pathways\"\n",
    "    )\n",
    "}"
   ]
  },
  {
   "cell_type": "code",
   "execution_count": 111,
   "metadata": {},
   "outputs": [],
   "source": [
    "bp1 <- simplify(ego1,\n",
    "                cutoff=0.7,\n",
    "                by=\"p.adjust\",\n",
    "                select_fun=min\n",
    ")\n",
    "bp2 <- simplify(ego2,\n",
    "                cutoff=0.7,\n",
    "                by=\"p.adjust\",\n",
    "                select_fun=min\n",
    ")\n",
    "bp3 <- simplify(ego3,\n",
    "                cutoff=0.7,\n",
    "                by=\"p.adjust\",\n",
    "                select_fun=min\n",
    ")\n",
    "\n",
    "lk = as.numeric(sub(\"\\\\/.*\", \"\", bp1@result[,4]))\n",
    "bp1 = bp1@result[(lk > 15)&(lk < 500),]\n",
    "l1 = as.numeric(sub(\"\\\\/.*\", \"\", bp2@result[,4]))\n",
    "bp2 = bp2@result[(l1 > 15)&(l1 < 500),]\n",
    "l2 = as.numeric(sub(\"\\\\/.*\", \"\", bp3@result[,4]))\n",
    "bp3 = bp3@result[(l2 > 15)&(l2 < 500),]"
   ]
  },
  {
   "cell_type": "code",
   "execution_count": 112,
   "metadata": {},
   "outputs": [],
   "source": [
    "setwd('/Users/viktorian.miok/Documents/consultation/Katarina/Integration_Data/Proteomics_data/results/VSG')\n",
    "write.csv(kk1@result, \"VSG_KEGG_full_up_prot.csv\")\n",
    "write.csv(ego2@result, \"VSG_GO_CC_full_up_prot.csv\")\n",
    "write.csv(ego3@result, \"VSG_GO_MF_full_up_prot.csv\")\n",
    "\n",
    "write.csv(bp1, \"VSG_GO_BP_trimed_up_prot.csv\")\n",
    "write.csv(bp2, \"VSG_GO_CC_trimed_up_prot.csv\")\n",
    "write.csv(bp3, \"VSG_GO_MF_trimed_up_prot.csv\")"
   ]
  },
  {
   "cell_type": "markdown",
   "metadata": {},
   "source": [
    "### Down regulated pathways"
   ]
  },
  {
   "cell_type": "code",
   "execution_count": 114,
   "metadata": {},
   "outputs": [
    {
     "name": "stderr",
     "output_type": "stream",
     "text": [
      "'select()' returned 1:1 mapping between keys and columns\n",
      "\n",
      "Warning message in bitr(res_VSGHFD_vs_PFHFD[res_VSGHFD_vs_PFHFD$VSGHFD_vs_PFHFD_ratio < :\n",
      "“2.59% of input gene IDs are fail to map...”\n"
     ]
    },
    {
     "data": {
      "text/html": [
       "<style>\n",
       ".list-inline {list-style: none; margin:0; padding: 0}\n",
       ".list-inline>li {display: inline-block}\n",
       ".list-inline>li:not(:last-child)::after {content: \"\\00b7\"; padding: 0 .5ex}\n",
       "</style>\n",
       "<ol class=list-inline><li>263</li><li>2</li></ol>\n"
      ],
      "text/latex": [
       "\\begin{enumerate*}\n",
       "\\item 263\n",
       "\\item 2\n",
       "\\end{enumerate*}\n"
      ],
      "text/markdown": [
       "1. 263\n",
       "2. 2\n",
       "\n",
       "\n"
      ],
      "text/plain": [
       "[1] 263   2"
      ]
     },
     "metadata": {},
     "output_type": "display_data"
    }
   ],
   "source": [
    "sig.gene <- bitr(res_VSGHFD_vs_PFHFD[res_VSGHFD_vs_PFHFD$VSGHFD_vs_PFHFD_ratio < -0.2,1],\n",
    "                 fromType=\"SYMBOL\",\n",
    "                 toType=\"ENTREZID\",\n",
    "                 OrgDb=org.Mm.eg.db\n",
    ")\n",
    "dim(sig.gene)"
   ]
  },
  {
   "cell_type": "code",
   "execution_count": 51,
   "metadata": {},
   "outputs": [],
   "source": [
    "if(bool_plot){\n",
    "    kk1 <- enrichKEGG(gene=sig.gene[,2], \n",
    "                      organism='mmu',\n",
    "                      pvalueCutoff=0.05\n",
    "    )\n",
    "    barplot(kk1, \n",
    "            showCategory=25,\n",
    "            title=\"KEGG pathways\"\n",
    "    )\n",
    "}"
   ]
  },
  {
   "cell_type": "code",
   "execution_count": 52,
   "metadata": {},
   "outputs": [],
   "source": [
    "if(bool_plot){\n",
    "    ego1 <- enrichGO(gene=sig.gene[,2],\n",
    "                     OrgDb=org.Mm.eg.db,\n",
    "                     ont=\"BP\",\n",
    "                     pAdjustMethod=\"BH\", \n",
    "                     pvalueCutoff=0.05, \n",
    "                     readable=TRUE\n",
    "    )\n",
    "    barplot(ego1, \n",
    "            showCategory=25,\n",
    "            title=\"GO pathways\"\n",
    "    )\n",
    "}"
   ]
  },
  {
   "cell_type": "code",
   "execution_count": 53,
   "metadata": {},
   "outputs": [],
   "source": [
    "if(bool_plot){\n",
    "    ego2 <- enrichGO(gene=sig.gene[,2], \n",
    "                     OrgDb=org.Mm.eg.db, \n",
    "                     ont=\"CC\", \n",
    "                     pAdjustMethod=\"BH\", \n",
    "                     pvalueCutoff=0.05, \n",
    "                     readable=TRUE\n",
    "    )\n",
    "    barplot(ego2,\n",
    "            showCategory=25,\n",
    "            title=\"GO pathways\"\n",
    "    )\n",
    "}"
   ]
  },
  {
   "cell_type": "code",
   "execution_count": 54,
   "metadata": {},
   "outputs": [],
   "source": [
    "if(bool_plot){\n",
    "    ego3 <- enrichGO(gene=sig.gene[,2],\n",
    "                     OrgDb=org.Mm.eg.db,\n",
    "                     ont=\"MF\", \n",
    "                     pAdjustMethod=\"BH\",\n",
    "                     pvalueCutoff=0.05,\n",
    "                     readable=TRUE\n",
    "    )\n",
    "    barplot(ego3, \n",
    "            showCategory=25,\n",
    "            title=\"GO pathways\"\n",
    "    )\n",
    "}"
   ]
  },
  {
   "cell_type": "code",
   "execution_count": 119,
   "metadata": {},
   "outputs": [],
   "source": [
    "bp1 <- simplify(ego1,\n",
    "                cutoff=0.7,\n",
    "                by=\"p.adjust\",\n",
    "                select_fun=min\n",
    ")\n",
    "bp2 <- simplify(ego2,\n",
    "                cutoff=0.7,\n",
    "                by=\"p.adjust\",\n",
    "                select_fun=min\n",
    ")\n",
    "bp3 <- simplify(ego3,\n",
    "                cutoff=0.7,\n",
    "                by=\"p.adjust\",\n",
    "                select_fun=min\n",
    ")\n",
    "lk = as.numeric(sub(\"\\\\/.*\", \"\", bp1@result[,4]))\n",
    "bp1 = bp1@result[(lk > 15) & (lk < 500),]\n",
    "l1 = as.numeric(sub(\"\\\\/.*\", \"\", bp2@result[,4]))\n",
    "bp2 = bp2@result[(l1 > 15) & (l1 < 500),]\n",
    "l2 = as.numeric(sub(\"\\\\/.*\", \"\", bp3@result[,4]))\n",
    "bp3 = bp3@result[(l2 > 15) & (l2 < 500),]"
   ]
  },
  {
   "cell_type": "code",
   "execution_count": 120,
   "metadata": {},
   "outputs": [],
   "source": [
    "setwd('/Users/viktorian.miok/Documents/consultation/Katarina/Integration_Data/Proteomics_data/results/VSG')\n",
    "write.csv(kk1@result, \"VSG_KEGG_full_down_prot.csv\")\n",
    "write.csv(ego1@result, \"VSG_GO_BP_full_down_prot.csv\")\n",
    "write.csv(ego2@result, \"VSG_GO_CC_full_down_prot.csv\")\n",
    "write.csv(ego3@result, \"VSG_GO_MF_full_down_prot.csv\")\n",
    "\n",
    "write.csv(bp1, \"VSG_GO_BP_trimed_down_prot.csv\")\n",
    "write.csv(bp2, \"VSG_GO_CC_trimed_down_prot.csv\")\n",
    "write.csv(bp3, \"VSG_GO_MF_trimed_down_prot.csv\")"
   ]
  },
  {
   "cell_type": "code",
   "execution_count": 121,
   "metadata": {
    "scrolled": true
   },
   "outputs": [],
   "source": [
    "diffVSG = res_VSGHFD_vs_PFHFD[,c(1,7,3)]\n",
    "colnames(diffVSG) = c(\"GeneName\", \"log2FoldChange\", \"pvalue\")"
   ]
  },
  {
   "cell_type": "code",
   "execution_count": 122,
   "metadata": {
    "scrolled": true
   },
   "outputs": [],
   "source": [
    "diffTRF = res_TRFHFD_vs_ALHFD[,c(1,7,3)]\n",
    "colnames(diffTRF) = c(\"GeneName\", \"log2FoldChange\", \"pvalue\")"
   ]
  },
  {
   "cell_type": "code",
   "execution_count": 123,
   "metadata": {
    "scrolled": true
   },
   "outputs": [],
   "source": [
    "diffIF = res_ALHFD_vs_IFHFD[,c(1,7,3)]\n",
    "colnames(diffIF) = c(\"GeneName\", \"log2FoldChange\", \"pvalue\")"
   ]
  },
  {
   "cell_type": "code",
   "execution_count": 124,
   "metadata": {},
   "outputs": [],
   "source": [
    "#ProteomOutput <- list(diffVSG=diffVSG, diffTRF=diffTRF, diffIF=diffIF)"
   ]
  },
  {
   "cell_type": "code",
   "execution_count": 125,
   "metadata": {},
   "outputs": [],
   "source": [
    "#save(ProteomOutput, file=\"ProteomOutput.RData\")"
   ]
  }
 ],
 "metadata": {
  "kernelspec": {
   "display_name": "R",
   "language": "R",
   "name": "ir"
  },
  "language_info": {
   "codemirror_mode": "r",
   "file_extension": ".r",
   "mimetype": "text/x-r-source",
   "name": "R",
   "pygments_lexer": "r",
   "version": "4.0.3"
  }
 },
 "nbformat": 4,
 "nbformat_minor": 2
}
