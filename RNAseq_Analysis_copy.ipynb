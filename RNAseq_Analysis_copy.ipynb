{
 "cells": [
  {
   "cell_type": "markdown",
   "metadata": {},
   "source": [
    "# Transcriptomics data analysis"
   ]
  },
  {
   "cell_type": "markdown",
   "metadata": {},
   "source": [
    "### Loading packages\n",
    "Required packages for downstream analysis"
   ]
  },
  {
   "cell_type": "code",
   "execution_count": null,
   "metadata": {},
   "outputs": [],
   "source": [
    "inst <- suppressMessages(lapply(c(\"DESeq2\",\n",
    "                                  \"ggplot2\",\n",
    "                                  \"gplots\",\n",
    "                                  \"RColorBrewer\",\n",
    "                                  \"clusterProfiler\",\n",
    "                                  \"org.Mm.eg.db\",\n",
    "                                  \"stringdist\"\n",
    "                                  \"dplyr\"), \n",
    "                                library,\n",
    "                                character.only = TRUE)\n",
    ")"
   ]
  },
  {
   "cell_type": "code",
   "execution_count": 2,
   "metadata": {},
   "outputs": [],
   "source": [
    "options(repr.plot.width=20, repr.plot.height=10)"
   ]
  },
  {
   "cell_type": "markdown",
   "metadata": {},
   "source": [
    "### Set the global variables"
   ]
  },
  {
   "cell_type": "markdown",
   "metadata": {},
   "source": [
    "Set whether anndata objects are recomputed or loaded from cache."
   ]
  },
  {
   "cell_type": "code",
   "execution_count": 2,
   "metadata": {},
   "outputs": [],
   "source": [
    "bool_recomp = FALSE"
   ]
  },
  {
   "cell_type": "markdown",
   "metadata": {},
   "source": [
    "Set whether to produce plots, set to False for test runs."
   ]
  },
  {
   "cell_type": "code",
   "execution_count": 1,
   "metadata": {},
   "outputs": [],
   "source": [
    "bool_plot = FALSE"
   ]
  },
  {
   "cell_type": "markdown",
   "metadata": {},
   "source": [
    "### Load the data"
   ]
  },
  {
   "cell_type": "code",
   "execution_count": 3,
   "metadata": {},
   "outputs": [],
   "source": [
    "load(\"/Users/viktorian.miok/Documents/consultation/Katarina/Integration_Data/RNA_seq_data/Initial_Analysis.RData\")"
   ]
  },
  {
   "cell_type": "code",
   "execution_count": 4,
   "metadata": {},
   "outputs": [],
   "source": [
    "sampleName = read.table(file='~/Documents/consultation/Katarina/Integration_Data/RNA_seq_data/Sample_names.txt',\n",
    "                        header=T,\n",
    "                        sep='\\t'\n",
    ")\n",
    "colnames(expression.matrix) = as.character(sampleName[,2])\n",
    "# Colors for heatmaps\n",
    "colors = colorRampPalette(rev(brewer.pal(9, \"Spectral\")))(255)"
   ]
  },
  {
   "cell_type": "code",
   "execution_count": 5,
   "metadata": {},
   "outputs": [],
   "source": [
    "# Obsolete terms\n",
    "noliv <- read.csv(\"/Users/viktorian.miok/Documents/consultation/Katarina/200728_terms_not_related_to_liver.csv\",\n",
    "                  header=FALSE\n",
    ")\n",
    "noliv1 <- read.csv(\"/Users/viktorian.miok/Documents/consultation/Katarina/200826 non-liver related terms.csv\",\n",
    "                   header=FALSE\n",
    ")\n",
    "obsolete <- read.csv(\"/Users/viktorian.miok/Documents/consultation/Katarina/200728_obsolete_GO_terms.csv\",\n",
    "                     header=FALSE\n",
    ")"
   ]
  },
  {
   "cell_type": "markdown",
   "metadata": {},
   "source": [
    "## TRF Study"
   ]
  },
  {
   "cell_type": "code",
   "execution_count": 6,
   "metadata": {},
   "outputs": [],
   "source": [
    "trfdat = expression.matrix[,c(64:71,56:58,60:63)]"
   ]
  },
  {
   "cell_type": "code",
   "execution_count": 7,
   "metadata": {},
   "outputs": [
    {
     "name": "stderr",
     "output_type": "stream",
     "text": [
      "Warning message in DESeqDataSet(se, design = design, ignoreRank):\n",
      "“some variables in design formula are characters, converting to factors”\n"
     ]
    }
   ],
   "source": [
    "id = colnames(trfdat)\n",
    "condition = c(rep(\"TRFHFD\",8),rep(\"ALHFD\",7))\n",
    "metaData = data.frame(id,\n",
    "                      condition\n",
    ")\n",
    "dds <- DESeqDataSetFromMatrix(countData=trfdat, \n",
    "                              colData=metaData,\n",
    "                              design=~condition\n",
    ")\n",
    "featureData = data.frame(gene=rownames(dds))\n",
    "mcols(dds) = DataFrame(mcols(dds),\n",
    "                       featureData\n",
    ")"
   ]
  },
  {
   "cell_type": "code",
   "execution_count": 8,
   "metadata": {},
   "outputs": [
    {
     "name": "stderr",
     "output_type": "stream",
     "text": [
      "gene-wise dispersion estimates\n",
      "\n",
      "mean-dispersion relationship\n",
      "\n",
      "final dispersion estimates\n",
      "\n"
     ]
    }
   ],
   "source": [
    "design(dds) = ~ condition  \n",
    "dds <- estimateSizeFactors(dds)\n",
    "dds <- estimateDispersions(dds,\n",
    "                           fit='parametric'\n",
    ")"
   ]
  },
  {
   "cell_type": "code",
   "execution_count": 9,
   "metadata": {},
   "outputs": [],
   "source": [
    "keep = rowSums(counts(dds)) >= 10\n",
    "dds = dds[keep,]"
   ]
  },
  {
   "cell_type": "code",
   "execution_count": 3,
   "metadata": {},
   "outputs": [],
   "source": [
    "if(bool_plot){\n",
    "    #Variance stabilizing transformation\n",
    "    vsd=vst(dds)\n",
    "    # PCA plot of the samples from different locations\n",
    "    plotPCA(vsd, \"condition\") +\n",
    "    geom_text(aes(label=id),vjust=2) + \n",
    "    xlim(-15, 35) +\n",
    "    ylim(-12,18)\n",
    "}"
   ]
  },
  {
   "cell_type": "code",
   "execution_count": 11,
   "metadata": {},
   "outputs": [
    {
     "name": "stderr",
     "output_type": "stream",
     "text": [
      "using pre-existing size factors\n",
      "\n",
      "estimating dispersions\n",
      "\n",
      "found already estimated dispersions, replacing these\n",
      "\n",
      "gene-wise dispersion estimates\n",
      "\n",
      "mean-dispersion relationship\n",
      "\n",
      "final dispersion estimates\n",
      "\n",
      "fitting model and testing\n",
      "\n",
      "-- replacing outliers and refitting for 21 genes\n",
      "-- DESeq argument 'minReplicatesForReplace' = 7 \n",
      "-- original counts are preserved in counts(dds)\n",
      "\n",
      "estimating dispersions\n",
      "\n",
      "fitting model and testing\n",
      "\n"
     ]
    }
   ],
   "source": [
    "dds <- DESeq(dds)\n",
    "res_alhdf_vs_trfhfd = results(dds)"
   ]
  },
  {
   "cell_type": "code",
   "execution_count": 12,
   "metadata": {},
   "outputs": [
    {
     "data": {
      "text/plain": [
       "\n",
       "FALSE  TRUE \n",
       "15483  2183 "
      ]
     },
     "metadata": {},
     "output_type": "display_data"
    }
   ],
   "source": [
    "table(res_alhdf_vs_trfhfd$pvalue < 0.05)"
   ]
  },
  {
   "cell_type": "code",
   "execution_count": 13,
   "metadata": {},
   "outputs": [],
   "source": [
    "# order results table by the smallest adjusted p value:\n",
    "res = res_alhdf_vs_trfhfd[order(res_alhdf_vs_trfhfd$padj\n",
    "                                ,res_alhdf_vs_trfhfd$pvalue),]\n",
    "\n",
    "resultsTRF <- as.data.frame(dplyr::mutate(as.data.frame(res),\n",
    "                                         sig=ifelse(res$pvalue < 0.05, \"FDR<0.05\", \"Not Sig\")),\n",
    "                           row.names=rownames(res))\n",
    "resultsTRF = resultsTRF[(!is.na(resultsTRF$pvalue)),]"
   ]
  },
  {
   "cell_type": "code",
   "execution_count": 4,
   "metadata": {},
   "outputs": [],
   "source": [
    "if(bool_plot){\n",
    "    # significant genes heatmap\n",
    "    p = assay(vsd)[rownames(assay(vsd))%in%rownames(resultsTRF[which(resultsTRF$sig == \"FDR<0.05\"),]),]\n",
    "    heatmap.2(p,\n",
    "              col=colors,\n",
    "              scale=\"row\",\n",
    "              trace=\"none\",\n",
    "              main=\"TRFHFD_vs_ALHFD\",\n",
    "              Rowv=FALSE,\n",
    "              Colv=FALSE\n",
    "    ) \n",
    "}"
   ]
  },
  {
   "cell_type": "code",
   "execution_count": 15,
   "metadata": {},
   "outputs": [],
   "source": [
    "#setwd('/Users/viktorian.miok/Documents/consultation/Katarina/Integration_Data/RNA_seq_data/results')\n",
    "#write.csv(results,\"TRFstudy_TRFHFDvsALHDF.csv\")"
   ]
  },
  {
   "cell_type": "markdown",
   "metadata": {},
   "source": [
    "### Up regulated pathways"
   ]
  },
  {
   "cell_type": "code",
   "execution_count": 5,
   "metadata": {},
   "outputs": [],
   "source": [
    "if(bool_plot){\n",
    "    sig.gene <- bitr(rownames(resultsTRF[which(resultsTRF$sig == \"FDR<0.05\" & resultsTRF$log2FoldChange > 0),]),\n",
    "                     fromType=\"ENSEMBL\",\n",
    "                     toType=\"ENTREZID\",\n",
    "                     OrgDb=org.Mm.eg.db\n",
    "    )\n",
    "    kk1 <- enrichKEGG(gene=sig.gene[,2],\n",
    "                      organism='mmu',\n",
    "                      pvalueCutoff=0.1\n",
    "    )\n",
    "    barplot(kk1,\n",
    "            showCategory=20,\n",
    "            title=\"KEGG pathways\"\n",
    "    )\n",
    "}"
   ]
  },
  {
   "cell_type": "code",
   "execution_count": 6,
   "metadata": {},
   "outputs": [],
   "source": [
    "if(bool_plot){\n",
    "    ego1 <- enrichGO(gene=sig.gene[,2],\n",
    "                     OrgDb=org.Mm.eg.db,\n",
    "                     ont=\"BP\", \n",
    "                     pAdjustMethod=\"BH\",\n",
    "                     pvalueCutoff=0.05,\n",
    "                     readable=TRUE\n",
    "    )\n",
    "    barplot(ego1, \n",
    "            showCategory=25, \n",
    "            title=\"GO pathways\"\n",
    "    )\n",
    "}"
   ]
  },
  {
   "cell_type": "code",
   "execution_count": 7,
   "metadata": {},
   "outputs": [],
   "source": [
    "if(bool_plot){\n",
    "    ego2 <- enrichGO(gene=sig.gene[,2], \n",
    "                     OrgDb=org.Mm.eg.db,\n",
    "                     ont=\"CC\",\n",
    "                     pAdjustMethod=\"BH\",\n",
    "                     pvalueCutoff=0.05,\n",
    "                     readable=TRUE\n",
    "    )\n",
    "    barplot(ego2,\n",
    "            showCategory=25,\n",
    "            title=\"GO pathways\"\n",
    "    )\n",
    "}"
   ]
  },
  {
   "cell_type": "code",
   "execution_count": 8,
   "metadata": {},
   "outputs": [],
   "source": [
    "if(bool_plot){\n",
    "    ego3 <- enrichGO(gene=sig.gene[,2], \n",
    "                     OrgDb=org.Mm.eg.db,\n",
    "                     ont=\"MF\",\n",
    "                     pAdjustMethod=\"BH\",\n",
    "                     pvalueCutoff=0.05,\n",
    "                     readable=TRUE\n",
    "    )\n",
    "    barplot(ego3,\n",
    "            showCategory=25, \n",
    "            title=\"GO pathways\"\n",
    "    )\n",
    "}"
   ]
  },
  {
   "cell_type": "code",
   "execution_count": 20,
   "metadata": {},
   "outputs": [],
   "source": [
    "bp1 = ego1@result"
   ]
  },
  {
   "cell_type": "code",
   "execution_count": 21,
   "metadata": {},
   "outputs": [],
   "source": [
    "setwd('/Users/viktorian.miok/Documents/consultation/Katarina/Integration_Data/RNA_seq_data/results/TRF')\n",
    "write.csv(bp1, \"TRF_GO_BP_up_RNA.csv\")"
   ]
  },
  {
   "cell_type": "code",
   "execution_count": 22,
   "metadata": {},
   "outputs": [],
   "source": [
    "bp1 = bp1[bp1$p.adjust<0.05,]\n",
    "\n",
    "lk = as.numeric(sub(\"\\\\/.*\", \"\", bp1[,4]))\n",
    "bp1 = bp1[(lk>15)&(lk<500),]\n",
    "bp1 = bp1[bp1$Count>4,]\n",
    "bp1 = bp1[!bp1$ID %in% noliv[,1],]\n",
    "bp1 = bp1[!bp1$ID %in% noliv1[,1],]\n",
    "bp1 = bp1[!bp1$ID %in% obsolete[,1],]\n",
    "bp1 = bp1[order(as.numeric(sub(\"\\\\/.*\", \"\", bp1[,4])), decreasing=TRUE),]"
   ]
  },
  {
   "cell_type": "code",
   "execution_count": 23,
   "metadata": {},
   "outputs": [],
   "source": [
    "write.csv(bp1, \"TRF_GO_BP_trimed_up_RNA_a.csv\")"
   ]
  },
  {
   "cell_type": "code",
   "execution_count": 24,
   "metadata": {},
   "outputs": [],
   "source": [
    "rk = character()\n",
    "for(i in 1:(nrow(bp1)-1)){\n",
    "    pk = numeric()\n",
    "    for(j in (i+1):nrow(bp1)){\n",
    "        pk = c(pk,sum(unlist(strsplit(bp1[i,8], \"/\")) %in% unlist(strsplit(bp1[j,8], \"/\")))/length(unlist(strsplit(bp1[j,8], \"/\"))))\n",
    "    }\n",
    "    if (sum(pk > 0.4) > 0) {\n",
    "        rk[i] = \"brisi\"\n",
    "    } else rk[i] = \"ostavi\"\n",
    "}\n",
    "rk1 = c(rk, \"brisi\")\n",
    "bp1 = bp1[rk1 == \"ostavi\",]"
   ]
  },
  {
   "cell_type": "code",
   "execution_count": 25,
   "metadata": {},
   "outputs": [],
   "source": [
    "write.csv(bp1, \"TRF_GO_BP_trimed_up_RNA_b.csv\")"
   ]
  },
  {
   "cell_type": "code",
   "execution_count": 26,
   "metadata": {},
   "outputs": [],
   "source": [
    "bp2 = ego2@result"
   ]
  },
  {
   "cell_type": "code",
   "execution_count": 27,
   "metadata": {},
   "outputs": [],
   "source": [
    "write.csv(bp2, \"TRF_GO_CC_up_RNA.csv\")"
   ]
  },
  {
   "cell_type": "code",
   "execution_count": 28,
   "metadata": {},
   "outputs": [],
   "source": [
    "bp2 = bp2[bp2$p.adjust < 0.05,]\n",
    "lk = as.numeric(sub(\"\\\\/.*\", \"\", bp2[,4]))\n",
    "bp2 = bp2[(lk > 15) & (lk < 500),]\n",
    "bp2 = bp2[bp2$Count >4,]\n",
    "bp2 = bp2[!bp2$ID %in% noliv[,1],]\n",
    "bp2 = bp2[!bp2$ID %in% noliv1[,1],]\n",
    "bp2 = bp2[!bp2$ID %in% obsolete[,1],]\n",
    "bp2 = bp2[order(as.numeric(sub(\"\\\\/.*\", \"\", bp2[,4])), decreasing=TRUE),]"
   ]
  },
  {
   "cell_type": "code",
   "execution_count": 29,
   "metadata": {},
   "outputs": [],
   "source": [
    "write.csv(bp2, \"TRF_GO_CC_trimed_up_RNA_a.csv\")"
   ]
  },
  {
   "cell_type": "code",
   "execution_count": 30,
   "metadata": {
    "scrolled": true
   },
   "outputs": [],
   "source": [
    "rk = character()\n",
    "for(i in 1:(nrow(bp2)-1)){\n",
    "    pk = numeric()\n",
    "    for(j in (i+1):nrow(bp2)){\n",
    "        pk = c(pk,sum(unlist(strsplit(bp2[i,8], \"/\")) %in% unlist(strsplit(bp2[j,8], \"/\")))/length(unlist(strsplit(bp2[j,8], \"/\"))))\n",
    "    }\n",
    "    if (sum(pk>0.4)>0) {\n",
    "        rk[i] = \"brisi\"\n",
    "    } else rk[i] = \"ostavi\"\n",
    "}\n",
    "rk1 = c(rk, \"brisi\")\n",
    "bp2 = bp2[rk1 == \"ostavi\",]"
   ]
  },
  {
   "cell_type": "code",
   "execution_count": 31,
   "metadata": {},
   "outputs": [],
   "source": [
    "write.csv(bp2, \"TRF_GO_CC_trimed_up_RNA_b.csv\")"
   ]
  },
  {
   "cell_type": "code",
   "execution_count": 32,
   "metadata": {},
   "outputs": [],
   "source": [
    "bp3 = ego3@result"
   ]
  },
  {
   "cell_type": "code",
   "execution_count": 33,
   "metadata": {},
   "outputs": [],
   "source": [
    "write.csv(bp3, \"TRF_GO_MF_up_RNA.csv\")"
   ]
  },
  {
   "cell_type": "code",
   "execution_count": 34,
   "metadata": {},
   "outputs": [],
   "source": [
    "bp3 = bp3[bp3$p.adjust < 0.05,]\n",
    "lk = as.numeric(sub(\"\\\\/.*\", \"\", bp3[,4]))\n",
    "bp3 = bp3[(lk > 15) & (lk < 500),]\n",
    "bp3 = bp3[bp3$Count >4,]\n",
    "bp3 = bp3[!bp3$ID %in% noliv[,1],]\n",
    "bp3 = bp3[!bp3$ID %in% noliv1[,1],]\n",
    "bp3 = bp3[!bp3$ID %in% obsolete[,1],]\n",
    "bp3 = bp3[order(as.numeric(sub(\"\\\\/.*\", \"\", bp3[,4])), decreasing=TRUE),]"
   ]
  },
  {
   "cell_type": "code",
   "execution_count": 35,
   "metadata": {},
   "outputs": [],
   "source": [
    "write.csv(bp3,\"TRF_GO_MF_trimed_up_RNA_a.csv\")"
   ]
  },
  {
   "cell_type": "code",
   "execution_count": 36,
   "metadata": {},
   "outputs": [],
   "source": [
    "rk = character()\n",
    "for(i in 1:(nrow(bp3)-1)){\n",
    "    pk = numeric()\n",
    "    for(j in (i+1):nrow(bp3)){\n",
    "        pk = c(pk,sum(unlist(strsplit(bp3[i,8], \"/\")) %in% unlist(strsplit(bp3[j,8], \"/\")))/length(unlist(strsplit(bp3[j,8], \"/\"))))\n",
    "    }\n",
    "    if (sum(pk > 0.4) > 0) {\n",
    "        rk[i] = \"brisi\"\n",
    "    } else rk[i] = \"ostavi\"\n",
    "}\n",
    "rk1 = c(rk, \"brisi\")\n",
    "bp3 = bp3[rk1 == \"ostavi\",]"
   ]
  },
  {
   "cell_type": "code",
   "execution_count": 37,
   "metadata": {},
   "outputs": [],
   "source": [
    "write.csv(bp3, \"TRF_GO_MF_trimed_up_RNA_b.csv\")"
   ]
  },
  {
   "cell_type": "code",
   "execution_count": 38,
   "metadata": {},
   "outputs": [],
   "source": [
    "bp4 = kk1@result"
   ]
  },
  {
   "cell_type": "code",
   "execution_count": 39,
   "metadata": {},
   "outputs": [],
   "source": [
    "write.csv(bp4, \"TRF_KEGG_up_RNA.csv\")"
   ]
  },
  {
   "cell_type": "code",
   "execution_count": 40,
   "metadata": {},
   "outputs": [],
   "source": [
    "bp4 = bp4[bp4$p.adjust < 0.05,]\n",
    "lk = as.numeric(sub(\"\\\\/.*\", \"\", bp4[,4]))\n",
    "bp4 = bp4[(lk > 15) & (lk < 500),]\n",
    "bp4 = bp4[bp4$Count > 4,]\n",
    "bp4 = bp4[!bp4$ID %in% noliv[,1],]\n",
    "bp4 = bp4[!bp4$ID %in% noliv1[,1],]\n",
    "bp4 = bp4[!bp4$ID %in% obsolete[,1],]\n",
    "bp4 = bp4[order(as.numeric(sub(\"\\\\/.*\", \"\", bp4[,4])), decreasing=TRUE),]"
   ]
  },
  {
   "cell_type": "code",
   "execution_count": 41,
   "metadata": {},
   "outputs": [],
   "source": [
    "write.csv(bp4,\"TRF_KEGG_trimed_up_RNA_a.csv\")"
   ]
  },
  {
   "cell_type": "code",
   "execution_count": 42,
   "metadata": {
    "scrolled": true
   },
   "outputs": [],
   "source": [
    "rk = character()\n",
    "for(i in 1:(nrow(bp4)-1)){\n",
    "    pk = numeric()\n",
    "    for(j in (i+1):nrow(bp4)){\n",
    "        pk = c(pk,sum(unlist(strsplit(bp4[i,8], \"/\")) %in% unlist(strsplit(bp4[j,8], \"/\")))/length(unlist(strsplit(bp4[j,8], \"/\"))))\n",
    "    }\n",
    "    if (sum(pk > 0.4) > 0) {\n",
    "        rk[i] = \"brisi\"\n",
    "    } else rk[i] = \"ostavi\"\n",
    "}\n",
    "rk1 = c(rk, \"brisi\")\n",
    "bp4 = bp4[rk1 == \"ostavi\",]"
   ]
  },
  {
   "cell_type": "code",
   "execution_count": 43,
   "metadata": {},
   "outputs": [],
   "source": [
    "write.csv(bp4, \"TRF_KEGG_trimed_up_RNA_b.csv\")"
   ]
  },
  {
   "cell_type": "markdown",
   "metadata": {},
   "source": [
    "### Down regulated pathways"
   ]
  },
  {
   "cell_type": "code",
   "execution_count": 9,
   "metadata": {},
   "outputs": [],
   "source": [
    "if(bool_plot){\n",
    "    sig.gene <- bitr(rownames(resultsTRF[which(resultsTRF$sig == \"FDR<0.05\" & resultsTRF$log2FoldChange < 0),]),\n",
    "                     fromType=\"ENSEMBL\",\n",
    "                     toType=\"ENTREZID\",\n",
    "                     OrgDb=org.Mm.eg.db\n",
    "    )\n",
    "    kk1 <- enrichKEGG(gene=sig.gene[,2], \n",
    "                      organism='mmu',\n",
    "                      pvalueCutoff=0.1\n",
    "    )\n",
    "    barplot(kk1,\n",
    "            showCategory=20,\n",
    "            title=\"KEGG pathways\"\n",
    "    )\n",
    "}"
   ]
  },
  {
   "cell_type": "code",
   "execution_count": 10,
   "metadata": {},
   "outputs": [],
   "source": [
    "if(bool_plot){\n",
    "    ego1 <- enrichGO(gene=sig.gene[,2],\n",
    "                     OrgDb=org.Mm.eg.db,\n",
    "                     ont=\"BP\", \n",
    "                     pAdjustMethod=\"BH\",\n",
    "                     pvalueCutoff=0.05, \n",
    "                     readable=TRUE\n",
    "    )\n",
    "    barplot(ego1, \n",
    "            showCategory=25,\n",
    "            title=\"GO pathways\"\n",
    "    )\n",
    "}"
   ]
  },
  {
   "cell_type": "code",
   "execution_count": 11,
   "metadata": {},
   "outputs": [],
   "source": [
    "if(bool_plot){\n",
    "    ego2 <- enrichGO(gene=sig.gene[,2],\n",
    "                     OrgDb=org.Mm.eg.db,\n",
    "                     ont=\"CC\", \n",
    "                     pAdjustMethod=\"BH\",\n",
    "                     pvalueCutoff=0.05,\n",
    "                     readable=TRUE\n",
    "    )\n",
    "    barplot(ego2, \n",
    "            showCategory=25,\n",
    "            title=\"GO pathways\"\n",
    "    )\n",
    "}"
   ]
  },
  {
   "cell_type": "code",
   "execution_count": 12,
   "metadata": {},
   "outputs": [],
   "source": [
    "if(bool_plot){\n",
    "    ego3 <- enrichGO(gene=sig.gene[,2],\n",
    "                     OrgDb=org.Mm.eg.db,\n",
    "                     ont=\"MF\", \n",
    "                     pAdjustMethod=\"BH\",\n",
    "                     pvalueCutoff=0.05, \n",
    "                     readable=TRUE\n",
    "    )\n",
    "    barplot(ego3, \n",
    "            showCategory=25,\n",
    "            title=\"GO pathways\"\n",
    "    )\n",
    "}"
   ]
  },
  {
   "cell_type": "code",
   "execution_count": 48,
   "metadata": {},
   "outputs": [],
   "source": [
    "bp1 = ego1@result"
   ]
  },
  {
   "cell_type": "code",
   "execution_count": 49,
   "metadata": {},
   "outputs": [],
   "source": [
    "setwd('/Users/viktorian.miok/Documents/consultation/Katarina/Integration_Data/RNA_seq_data/results/TRF')\n",
    "write.csv(bp1, \"TRF_GO_BP_down_RNA.csv\")"
   ]
  },
  {
   "cell_type": "code",
   "execution_count": 50,
   "metadata": {},
   "outputs": [],
   "source": [
    "bp1 = bp1[bp1$p.adjust < 0.05,]\n",
    "\n",
    "lk = as.numeric(sub(\"\\\\/.*\", \"\", bp1[,4]))\n",
    "bp1 = bp1[(lk > 15) & (lk < 500),]\n",
    "bp1 = bp1[bp1$Count > 4,]\n",
    "bp1 = bp1[!bp1$ID %in% noliv[,1],]\n",
    "bp1 = bp1[!bp1$ID %in% noliv1[,1],]\n",
    "bp1 = bp1[!bp1$ID %in% obsolete[,1],]\n",
    "bp1 = bp1[order(as.numeric(sub(\"\\\\/.*\", \"\", bp1[,4])), decreasing=TRUE),]"
   ]
  },
  {
   "cell_type": "code",
   "execution_count": 51,
   "metadata": {},
   "outputs": [],
   "source": [
    "write.csv(bp1, \"TRF_GO_BP_trimed_down_RNA_a.csv\")"
   ]
  },
  {
   "cell_type": "code",
   "execution_count": 52,
   "metadata": {},
   "outputs": [],
   "source": [
    "rk = character()\n",
    "for(i in 1:(nrow(bp1)-1)){\n",
    "    pk = numeric()\n",
    "    for(j in (i+1):nrow(bp1)){\n",
    "        pk = c(pk,sum(unlist(strsplit(bp1[i,8], \"/\")) %in% unlist(strsplit(bp1[j,8], \"/\")))/length(unlist(strsplit(bp1[j,8], \"/\"))))\n",
    "    }\n",
    "    if (sum(pk > 0.4) > 0) {\n",
    "        rk[i] = \"brisi\"\n",
    "    } else rk[i] = \"ostavi\"\n",
    "}\n",
    "rk1 = c(rk,\"brisi\")\n",
    "bp1 = bp1[rk1 == \"ostavi\",]"
   ]
  },
  {
   "cell_type": "code",
   "execution_count": 53,
   "metadata": {},
   "outputs": [],
   "source": [
    "write.csv(bp1, \"TRF_GO_BP_trimed_down_RNA_b.csv\")"
   ]
  },
  {
   "cell_type": "code",
   "execution_count": 54,
   "metadata": {},
   "outputs": [],
   "source": [
    "bp = ego2@result"
   ]
  },
  {
   "cell_type": "code",
   "execution_count": 55,
   "metadata": {},
   "outputs": [],
   "source": [
    "write.csv(bp2, \"TRF_GO_CC_down_RNA.csv\")"
   ]
  },
  {
   "cell_type": "code",
   "execution_count": 56,
   "metadata": {},
   "outputs": [],
   "source": [
    "bp2 = bp2[bp2$p.adjust < 0.05,]\n",
    "lk = as.numeric(sub(\"\\\\/.*\", \"\", bp2[,4]))\n",
    "bp2 = bp2[(lk > 15) & (lk < 500),]\n",
    "bp2 = bp2[bp2$Count > 4,]\n",
    "bp2 = bp2[!bp2$ID%in%noliv[,1],]\n",
    "bp2 = bp2[!bp2$ID%in%noliv1[,1],]\n",
    "bp2 = bp2[!bp2$ID%in%obsolete[,1],]\n",
    "bp2 = bp2[order(as.numeric(sub(\"\\\\/.*\", \"\", bp2[,4])), decreasing=TRUE),]"
   ]
  },
  {
   "cell_type": "code",
   "execution_count": 57,
   "metadata": {},
   "outputs": [],
   "source": [
    "write.csv(bp2,\"TRF_GO_CC_trimed_down_RNA_a.csv\")"
   ]
  },
  {
   "cell_type": "code",
   "execution_count": 58,
   "metadata": {
    "scrolled": true
   },
   "outputs": [],
   "source": [
    "rk = character()\n",
    "for(i in 1:(nrow(bp2)-1)){\n",
    "    pk = numeric()\n",
    "    for(j in (i+1):nrow(bp2)){\n",
    "        pk = c(pk,sum(unlist(strsplit(bp2[i,8], \"/\")) %in% unlist(strsplit(bp2[j,8], \"/\")))/length(unlist(strsplit(bp2[j,8], \"/\"))))\n",
    "    }\n",
    "    if (sum(pk > 0.4) > 0) {\n",
    "        rk[i] = \"brisi\"\n",
    "    } else rk[i] = \"ostavi\"\n",
    "}\n",
    "rk1 = c(rk, \"brisi\")\n",
    "bp2 = bp2[rk1 == \"ostavi\",]"
   ]
  },
  {
   "cell_type": "code",
   "execution_count": 59,
   "metadata": {},
   "outputs": [],
   "source": [
    "write.csv(bp2, \"TRF_GO_CC_trimed_down_RNA_b.csv\")"
   ]
  },
  {
   "cell_type": "code",
   "execution_count": 60,
   "metadata": {},
   "outputs": [],
   "source": [
    "bp3 = ego3@result"
   ]
  },
  {
   "cell_type": "code",
   "execution_count": 61,
   "metadata": {},
   "outputs": [],
   "source": [
    "write.csv(bp3, \"TRF_GO_MF_down_RNA.csv\")"
   ]
  },
  {
   "cell_type": "code",
   "execution_count": 62,
   "metadata": {},
   "outputs": [],
   "source": [
    "bp3 = bp3[bp3$p.adjust < 0.05,]\n",
    "lk = as.numeric(sub(\"\\\\/.*\", \"\", bp3[,4]))\n",
    "bp3 = bp3[(lk > 15) & (lk < 500),]\n",
    "bp3 = bp3[bp3$Count > 4,]\n",
    "bp3 = bp3[!bp3$ID %in% noliv[,1],]\n",
    "bp3 = bp3[!bp3$ID %in% noliv1[,1],]\n",
    "bp3 = bp3[!bp3$ID %in% obsolete[,1],]\n",
    "bp3 = bp3[order(as.numeric(sub(\"\\\\/.*\", \"\", bp3[,4])), decreasing=TRUE),]"
   ]
  },
  {
   "cell_type": "code",
   "execution_count": 63,
   "metadata": {},
   "outputs": [],
   "source": [
    "write.csv(bp3, \"TRF_GO_MF_trimed_down_RNA_a.csv\")"
   ]
  },
  {
   "cell_type": "code",
   "execution_count": 64,
   "metadata": {},
   "outputs": [],
   "source": [
    "rk = character()\n",
    "for(i in 1:(nrow(bp3)-1)){\n",
    "    pk = numeric()\n",
    "    for(j in (i+1):nrow(bp3)){\n",
    "        pk = c(pk,sum(unlist(strsplit(bp3[i,8], \"/\")) %in% unlist(strsplit(bp3[j,8], \"/\")))/length(unlist(strsplit(bp3[j,8], \"/\"))))\n",
    "    }\n",
    "    if (sum(pk > 0.4) > 0) {\n",
    "        rk[i] = \"brisi\"\n",
    "    } else rk[i] = \"ostavi\"\n",
    "}\n",
    "rk1 = c(rk, \"brisi\")\n",
    "bp3 = bp3[rk1 == \"ostavi\",]"
   ]
  },
  {
   "cell_type": "code",
   "execution_count": 65,
   "metadata": {},
   "outputs": [],
   "source": [
    "write.csv(bp3, \"TRF_GO_MF_trimed_down_RNA_b.csv\")"
   ]
  },
  {
   "cell_type": "code",
   "execution_count": 66,
   "metadata": {},
   "outputs": [],
   "source": [
    "bp4 = kk1@result"
   ]
  },
  {
   "cell_type": "code",
   "execution_count": 67,
   "metadata": {},
   "outputs": [],
   "source": [
    "write.csv(bp4, \"TRF_KEGG_down_RNA.csv\")"
   ]
  },
  {
   "cell_type": "code",
   "execution_count": 68,
   "metadata": {},
   "outputs": [],
   "source": [
    "bp4 = bp4[bp4$p.adjust < 0.05,]\n",
    "lk = as.numeric(sub(\"\\\\/.*\", \"\", bp4[,4]))\n",
    "bp4 = bp4[(lk > 15) & (lk < 500),]\n",
    "bp4 = bp4[bp4$Count > 4,]\n",
    "bp4 = bp4[!bp4$ID %in% noliv[,1],]\n",
    "bp4 = bp4[!bp4$ID %in% noliv1[,1],]\n",
    "bp4 = bp4[!bp4$ID %in% obsolete[,1],]\n",
    "bp4 = bp4[order(as.numeric(sub(\"\\\\/.*\", \"\", bp4[,4])), decreasing=TRUE),]"
   ]
  },
  {
   "cell_type": "code",
   "execution_count": 69,
   "metadata": {},
   "outputs": [],
   "source": [
    "write.csv(bp4,\"TRF_KEGG_trimed_down_RNA_a.csv\")"
   ]
  },
  {
   "cell_type": "code",
   "execution_count": 70,
   "metadata": {
    "scrolled": true
   },
   "outputs": [],
   "source": [
    "rk = character()\n",
    "for(i in 1:(nrow(bp4)-1)){\n",
    "    pk = numeric()\n",
    "    for(j in (i+1):nrow(bp4)){\n",
    "        pk = c(pk,sum(unlist(strsplit(bp4[i,8], \"/\")) %in% unlist(strsplit(bp4[j,8], \"/\")))/length(unlist(strsplit(bp4[j,8], \"/\"))))\n",
    "    }\n",
    "    if (sum(pk > 0.4) > 0) {\n",
    "        rk[i] = \"brisi\"\n",
    "    } else rk[i] = \"ostavi\"\n",
    "}\n",
    "rk1 = c(rk, \"brisi\")\n",
    "bp4 = bp4[rk1 == \"ostavi\",]"
   ]
  },
  {
   "cell_type": "code",
   "execution_count": 71,
   "metadata": {},
   "outputs": [],
   "source": [
    "write.csv(bp4, \"TRF_KEGG_trimed_down_RNA_b.csv\")"
   ]
  },
  {
   "cell_type": "markdown",
   "metadata": {},
   "source": [
    "## VSG Study"
   ]
  },
  {
   "cell_type": "code",
   "execution_count": 72,
   "metadata": {},
   "outputs": [],
   "source": [
    "vsgdat = expression.matrix[,c(75,77:81,83:89)]"
   ]
  },
  {
   "cell_type": "code",
   "execution_count": 73,
   "metadata": {},
   "outputs": [
    {
     "name": "stderr",
     "output_type": "stream",
     "text": [
      "Warning message in DESeqDataSet(se, design = design, ignoreRank):\n",
      "“some variables in design formula are characters, converting to factors”\n"
     ]
    }
   ],
   "source": [
    "id = colnames(vsgdat)\n",
    "condition = c(rep(\"VSGHFD\",6), rep(\"PFHFD\",7))\n",
    "metaData = data.frame(id,\n",
    "                      condition\n",
    ")\n",
    "dds <- DESeqDataSetFromMatrix(countData=vsgdat, \n",
    "                              colData=metaData,\n",
    "                              design=~ condition\n",
    ")\n",
    "featureData = data.frame(gene=rownames(dds))\n",
    "mcols(dds) = DataFrame(mcols(dds), \n",
    "                       featureData\n",
    ")"
   ]
  },
  {
   "cell_type": "code",
   "execution_count": 74,
   "metadata": {},
   "outputs": [
    {
     "name": "stderr",
     "output_type": "stream",
     "text": [
      "gene-wise dispersion estimates\n",
      "\n",
      "mean-dispersion relationship\n",
      "\n",
      "final dispersion estimates\n",
      "\n"
     ]
    }
   ],
   "source": [
    "design(dds)= ~ condition  \n",
    "dds <- estimateSizeFactors(dds)\n",
    "dds <- estimateDispersions(dds,\n",
    "                        fit='parametric'\n",
    ")"
   ]
  },
  {
   "cell_type": "code",
   "execution_count": 75,
   "metadata": {},
   "outputs": [],
   "source": [
    "keep = rowSums(counts(dds)) >= 10\n",
    "dds = dds[keep,]"
   ]
  },
  {
   "cell_type": "code",
   "execution_count": 13,
   "metadata": {},
   "outputs": [],
   "source": [
    "if(bool_plot){\n",
    "    #Variance stabilizing transformation\n",
    "    vsd <- vst(dds)\n",
    "    # PCA plot of the samples from different locations\n",
    "    plotPCA(vsd, \"condition\") +\n",
    "            geom_text(aes(label=id), vjust=2) +\n",
    "            xlim(-30, 13) +\n",
    "            ylim(-15, 13)\n",
    "}"
   ]
  },
  {
   "cell_type": "code",
   "execution_count": 77,
   "metadata": {},
   "outputs": [
    {
     "name": "stderr",
     "output_type": "stream",
     "text": [
      "using pre-existing size factors\n",
      "\n",
      "estimating dispersions\n",
      "\n",
      "found already estimated dispersions, replacing these\n",
      "\n",
      "gene-wise dispersion estimates\n",
      "\n",
      "mean-dispersion relationship\n",
      "\n",
      "final dispersion estimates\n",
      "\n",
      "fitting model and testing\n",
      "\n",
      "-- replacing outliers and refitting for 37 genes\n",
      "-- DESeq argument 'minReplicatesForReplace' = 7 \n",
      "-- original counts are preserved in counts(dds)\n",
      "\n",
      "estimating dispersions\n",
      "\n",
      "fitting model and testing\n",
      "\n"
     ]
    }
   ],
   "source": [
    "dds <- DESeq(dds)\n",
    "res_vsghfd_vs_pfhfd <- results(dds)"
   ]
  },
  {
   "cell_type": "code",
   "execution_count": 78,
   "metadata": {},
   "outputs": [
    {
     "data": {
      "text/plain": [
       "\n",
       "FALSE  TRUE \n",
       "13848   311 "
      ]
     },
     "metadata": {},
     "output_type": "display_data"
    }
   ],
   "source": [
    "table(res_vsghfd_vs_pfhfd$padj < 0.05)"
   ]
  },
  {
   "cell_type": "code",
   "execution_count": 79,
   "metadata": {},
   "outputs": [],
   "source": [
    "# order results table by the smallest adjusted p value:\n",
    "res = res_vsghfd_vs_pfhfd[order(res_vsghfd_vs_pfhfd$padj, res_vsghfd_vs_pfhfd$pvalue),]\n",
    "\n",
    "resultsVSG = as.data.frame(dplyr::mutate(as.data.frame(res),\n",
    "                                      sig=ifelse(res$padj < 0.05, \"FDR<0.05\", \"Not Sig\")),\n",
    "                            row.names=rownames(res))\n",
    "resultsVSG = resultsVSG[(!is.na(resultsVSG$padj)),]"
   ]
  },
  {
   "cell_type": "code",
   "execution_count": 14,
   "metadata": {},
   "outputs": [],
   "source": [
    "if(bool_plot){\n",
    "    # significan genes heatmap\n",
    "    p=assay(vsd)[rownames(assay(vsd))%in%rownames(resultsVSG[which(resultsVSG$sig == \"FDR<0.05\"),]),]\n",
    "    heatmap.2(p, \n",
    "              col=colors,\n",
    "              scale=\"row\",\n",
    "              trace=\"none\",\n",
    "              main=\"VSGHFD_vs_PFHFD\",\n",
    "              Rowv=FALSE,\n",
    "              Colv=FALSE\n",
    "    ) \n",
    "}"
   ]
  },
  {
   "cell_type": "code",
   "execution_count": 81,
   "metadata": {},
   "outputs": [],
   "source": [
    "#setwd('/Users/viktorian.miok/Documents/consultation/Katarina/Integration_Data/RNA_seq_data/results')\n",
    "#write.csv(results,\"VSGstudy_VSGHFDvsPFHFD.csv\")"
   ]
  },
  {
   "cell_type": "markdown",
   "metadata": {},
   "source": [
    "### Up regulated pathways"
   ]
  },
  {
   "cell_type": "code",
   "execution_count": 15,
   "metadata": {},
   "outputs": [],
   "source": [
    "if(bool_plot){\n",
    "    sig.gene <- bitr(rownames(resultsVSG[which(resultsVSG$sig == \"FDR<0.05\" & resultsVSG$log2FoldChange > 0),]),\n",
    "                     fromType=\"ENSEMBL\",\n",
    "                     toType=\"ENTREZID\",\n",
    "                     OrgDb=org.Mm.eg.db\n",
    "    )\n",
    "    kk1 <- enrichKEGG(gene=sig.gene[,2], \n",
    "                      organism='mmu',\n",
    "                      pvalueCutoff=0.05\n",
    "    )\n",
    "    barplot(kk1,\n",
    "            showCategory=25,\n",
    "            title=\"KEGG pathways\"\n",
    "    )\n",
    "}"
   ]
  },
  {
   "cell_type": "code",
   "execution_count": 16,
   "metadata": {},
   "outputs": [],
   "source": [
    "if(bool_plot){\n",
    "    ego1 <- enrichGO(gene=sig.gene[,2], \n",
    "                     OrgDb=org.Mm.eg.db,\n",
    "                     ont=\"BP\", \n",
    "                     pAdjustMethod=\"BH\",\n",
    "                     pvalueCutoff=0.05,\n",
    "                     readable=TRUE\n",
    "    )\n",
    "    barplot(ego1,\n",
    "            showCategory=25,\n",
    "            title=\"GO pathways\"\n",
    "    )\n",
    "}"
   ]
  },
  {
   "cell_type": "code",
   "execution_count": 17,
   "metadata": {},
   "outputs": [],
   "source": [
    "if(bool_plot){\n",
    "    ego2 <- enrichGO(gene=sig.gene[,2], \n",
    "                     OrgDb=org.Mm.eg.db, \n",
    "                     ont=\"CC\", \n",
    "                     pAdjustMethod=\"BH\",\n",
    "                     pvalueCutoff=0.05,\n",
    "                     readable=TRUE\n",
    "    )\n",
    "    barplot(ego2, \n",
    "            showCategory=25,\n",
    "            title=\"GO pathways\"\n",
    "    )\n",
    "}"
   ]
  },
  {
   "cell_type": "code",
   "execution_count": 18,
   "metadata": {},
   "outputs": [],
   "source": [
    "if(bool_plot){\n",
    "    ego3 <- enrichGO(gene=sig.gene[,2],\n",
    "                     OrgDb=org.Mm.eg.db,\n",
    "                     ont=\"MF\",\n",
    "                     pAdjustMethod=\"BH\",\n",
    "                     pvalueCutoff=0.05, \n",
    "                     readable=TRUE\n",
    "    )\n",
    "    barplot(ego3, \n",
    "            showCategory=25,\n",
    "            title=\"GO pathways\"\n",
    "    )\n",
    "}"
   ]
  },
  {
   "cell_type": "code",
   "execution_count": 86,
   "metadata": {},
   "outputs": [],
   "source": [
    "bp1 = ego1@result"
   ]
  },
  {
   "cell_type": "code",
   "execution_count": 87,
   "metadata": {},
   "outputs": [],
   "source": [
    "setwd('/Users/viktorian.miok/Documents/consultation/Katarina/Integration_Data/RNA_seq_data/results/VSG')\n",
    "write.csv(bp1, \"VSG_GO_BP_up_RNA.csv\")"
   ]
  },
  {
   "cell_type": "code",
   "execution_count": 88,
   "metadata": {},
   "outputs": [],
   "source": [
    "bp1 = bp1[bp1$p.adjust < 0.05,]\n",
    "\n",
    "lk = as.numeric(sub(\"\\\\/.*\", \"\", bp1[,4]))\n",
    "bp1 = bp1[(lk > 15) & (lk < 500),]\n",
    "bp1 = bp1[bp1$Count >4,]\n",
    "bp1 = bp1[!bp1$ID %in% noliv[,1],]\n",
    "bp1 = bp1[!bp1$ID %in% noliv1[,1],]\n",
    "bp1 = bp1[!bp1$ID %in% obsolete[,1],]\n",
    "bp1 = bp1[order(as.numeric(sub(\"\\\\/.*\", \"\", bp1[,4])), decreasing = TRUE),]"
   ]
  },
  {
   "cell_type": "code",
   "execution_count": 89,
   "metadata": {},
   "outputs": [],
   "source": [
    "write.csv(bp1,\"VSG_GO_BP_trimed_up_RNA_a.csv\")"
   ]
  },
  {
   "cell_type": "code",
   "execution_count": 90,
   "metadata": {},
   "outputs": [],
   "source": [
    "rk = character()\n",
    "for(i in 1:(nrow(bp1)-1)){\n",
    "    pk = numeric()\n",
    "    for(j in (i+1):nrow(bp1)){\n",
    "        pk = c(pk,sum(unlist(strsplit(bp1[i,8], \"/\")) %in% unlist(strsplit(bp1[j,8], \"/\")))/length(unlist(strsplit(bp1[j,8], \"/\"))))\n",
    "    }\n",
    "    if (sum(pk > 0.4) > 0) {\n",
    "        rk[i] = \"brisi\"\n",
    "    } else rk[i] = \"ostavi\"\n",
    "}\n",
    "rk1 = c(rk, \"brisi\")\n",
    "bp1 = bp1[rk1 == \"ostavi\",]"
   ]
  },
  {
   "cell_type": "code",
   "execution_count": 91,
   "metadata": {},
   "outputs": [],
   "source": [
    "write.csv(bp1, \"VSG_GO_BP_trimed_up_RNA_b.csv\")"
   ]
  },
  {
   "cell_type": "code",
   "execution_count": 92,
   "metadata": {},
   "outputs": [],
   "source": [
    "bp2 = ego2@result"
   ]
  },
  {
   "cell_type": "code",
   "execution_count": 93,
   "metadata": {},
   "outputs": [],
   "source": [
    "write.csv(bp2, \"VSG_GO_CC_up_RNA.csv\")"
   ]
  },
  {
   "cell_type": "code",
   "execution_count": 94,
   "metadata": {},
   "outputs": [],
   "source": [
    "bp2 = bp2[bp2$p.adjust < 0.05,]\n",
    "lk = as.numeric(sub(\"\\\\/.*\", \"\", bp2[,4]))\n",
    "bp2 = bp2[(lk > 15) & (lk < 500),]\n",
    "bp2 = bp2[bp2$Count > 4,]\n",
    "bp2 = bp2[!bp2$ID %in% noliv[,1],]\n",
    "bp2 = bp2[!bp2$ID %in% noliv1[,1],]\n",
    "bp2 = bp2[!bp2$ID %in% obsolete[,1],]\n",
    "bp2 = bp2[order(as.numeric(sub(\"\\\\/.*\", \"\", bp2[,4])),decreasing=TRUE),]"
   ]
  },
  {
   "cell_type": "code",
   "execution_count": 95,
   "metadata": {},
   "outputs": [],
   "source": [
    "write.csv(bp2, \"VSG_GO_CC_trimed_up_RNA_a.csv\")"
   ]
  },
  {
   "cell_type": "code",
   "execution_count": 96,
   "metadata": {
    "scrolled": true
   },
   "outputs": [],
   "source": [
    "rk = character()\n",
    "for(i in 1:(nrow(bp2)-1)){\n",
    "    pk = numeric()\n",
    "    for(j in (i+1):nrow(bp2)){\n",
    "        pk = c(pk,sum(unlist(strsplit(bp2[i,8], \"/\")) %in% unlist(strsplit(bp2[j,8], \"/\")))/length(unlist(strsplit(bp2[j,8], \"/\"))))\n",
    "    }\n",
    "    if (sum(pk > 0.4) > 0) {\n",
    "        rk[i] = \"brisi\"\n",
    "    } else rk[i] = \"ostavi\"\n",
    "}\n",
    "rk1 = c(rk, \"brisi\")\n",
    "bp2 = bp2[rk1 == \"ostavi\",]"
   ]
  },
  {
   "cell_type": "code",
   "execution_count": 97,
   "metadata": {},
   "outputs": [],
   "source": [
    "write.csv(bp2, \"VSG_GO_CC_trimed_up_RNA_b.csv\")"
   ]
  },
  {
   "cell_type": "code",
   "execution_count": 98,
   "metadata": {},
   "outputs": [],
   "source": [
    "bp3 = ego3@result"
   ]
  },
  {
   "cell_type": "code",
   "execution_count": 99,
   "metadata": {},
   "outputs": [],
   "source": [
    "write.csv(bp3, \"VSG_GO_MF_up_RNA.csv\")"
   ]
  },
  {
   "cell_type": "code",
   "execution_count": 100,
   "metadata": {},
   "outputs": [],
   "source": [
    "bp3 = bp3[bp3$p.adjust < 0.05,]\n",
    "lk = as.numeric(sub(\"\\\\/.*\", \"\", bp3[,4]))\n",
    "bp3 = bp3[(lk > 15) & (lk < 500),]\n",
    "bp3 = bp3[bp3$Count > 4,]\n",
    "bp3 = bp3[!bp3$ID %in% noliv[,1],]\n",
    "bp3 = bp3[!bp3$ID %in% noliv1[,1],]\n",
    "bp3 = bp3[!bp3$ID %in% obsolete[,1],]\n",
    "bp3 = bp3[order(as.numeric(sub(\"\\\\/.*\", \"\", bp3[,4])), decreasing=TRUE),]"
   ]
  },
  {
   "cell_type": "code",
   "execution_count": 101,
   "metadata": {},
   "outputs": [],
   "source": [
    "write.csv(bp3, \"VSG_GO_MF_trimed_up_RNA_a.csv\")"
   ]
  },
  {
   "cell_type": "code",
   "execution_count": 102,
   "metadata": {},
   "outputs": [],
   "source": [
    "rk = character()\n",
    "for(i in 1:(nrow(bp3)-1)){\n",
    "    pk = numeric()\n",
    "    for(j in (i+1):nrow(bp3)){\n",
    "        pk = c(pk,sum(unlist(strsplit(bp3[i,8], \"/\")) %in% unlist(strsplit(bp3[j,8], \"/\")))/length(unlist(strsplit(bp3[j,8], \"/\"))))\n",
    "    }\n",
    "    if (sum(pk > 0.4) > 0) {\n",
    "        rk[i] = \"brisi\"\n",
    "    } else rk[i] = \"ostavi\"\n",
    "}\n",
    "rk1 = c(rk, \"brisi\")\n",
    "bp3 = bp3[rk1 == \"ostavi\",]"
   ]
  },
  {
   "cell_type": "code",
   "execution_count": 103,
   "metadata": {},
   "outputs": [],
   "source": [
    "write.csv(bp3, \"VSG_GO_MF_trimed_up_RNA_b.csv\")"
   ]
  },
  {
   "cell_type": "code",
   "execution_count": 104,
   "metadata": {},
   "outputs": [],
   "source": [
    "bp4 = k1@result"
   ]
  },
  {
   "cell_type": "code",
   "execution_count": 105,
   "metadata": {},
   "outputs": [],
   "source": [
    "write.csv(bp4, \"VSG_KEGG_up_RNA.csv\")"
   ]
  },
  {
   "cell_type": "code",
   "execution_count": 106,
   "metadata": {},
   "outputs": [],
   "source": [
    "bp4 = bp4[bp4$p.adjust < 0.05,]\n",
    "lk = as.numeric(sub(\"\\\\/.*\", \"\", bp4[,4]))\n",
    "bp4 = bp4[(lk > 15) & (lk < 500),]\n",
    "bp4 = bp4[bp4$Count > 4,]\n",
    "bp4 = bp4[!bp4$ID %in% noliv[,1],]\n",
    "bp4 = bp4[!bp4$ID %in% noliv1[,1],]\n",
    "bp4 = bp4[!bp4$ID %in% obsolete[,1],]\n",
    "bp4 = bp4[order(as.numeric(sub(\"\\\\/.*\", \"\", bp4[,4])), decreasing=TRUE),]"
   ]
  },
  {
   "cell_type": "code",
   "execution_count": 107,
   "metadata": {},
   "outputs": [],
   "source": [
    "write.csv(bp4, \"VSG_KEGG_trimed_up_RNA_a.csv\")"
   ]
  },
  {
   "cell_type": "code",
   "execution_count": 108,
   "metadata": {
    "scrolled": true
   },
   "outputs": [],
   "source": [
    "rk = character()\n",
    "for(i in 1:(nrow(bp4)-1)){\n",
    "    pk = numeric()\n",
    "    for(j in (i+1):nrow(bp4)){\n",
    "        pk = c(pk,sum(unlist(strsplit(bp4[i,8], \"/\")) %in% unlist(strsplit(bp4[j,8], \"/\")))/length(unlist(strsplit(bp4[j,8], \"/\"))))\n",
    "    }\n",
    "    if (sum(pk > 0.4) > 0) {\n",
    "        rk[i] = \"brisi\"\n",
    "    } else rk[i] = \"ostavi\"\n",
    "}\n",
    "rk1 = c(rk, \"brisi\")\n",
    "bp4 = bp4[rk1 == \"ostavi\",]"
   ]
  },
  {
   "cell_type": "code",
   "execution_count": 109,
   "metadata": {},
   "outputs": [],
   "source": [
    "write.csv(bp4, \"VSG_KEGG_trimed_up_RNA_b.csv\")"
   ]
  },
  {
   "cell_type": "markdown",
   "metadata": {},
   "source": [
    "### Down regulated pathways"
   ]
  },
  {
   "cell_type": "code",
   "execution_count": 19,
   "metadata": {},
   "outputs": [],
   "source": [
    "if(bool_plot){\n",
    "    sig.gene <- bitr(rownames(resultsVSG[which(resultsVSG$sig == \"FDR<0.05\" & resultsTRF$log2FoldChange < 0),]),\n",
    "                     fromType=\"ENSEMBL\",\n",
    "                     toType=\"ENTREZID\",\n",
    "                     OrgDb=org.Mm.eg.db\n",
    "    )\n",
    "    kk1 <- enrichKEGG(gene=sig.gene[,2],\n",
    "                      organism='mmu',\n",
    "                      pvalueCutoff=0.05\n",
    "    )\n",
    "    barplot(kk1,\n",
    "            showCategory=25,\n",
    "            title=\"KEGG pathways\"\n",
    "    )\n",
    "}"
   ]
  },
  {
   "cell_type": "code",
   "execution_count": 20,
   "metadata": {},
   "outputs": [],
   "source": [
    "if(bool_plot){\n",
    "    ego1 <- enrichGO(gene=sig.gene[,2],\n",
    "                     OrgDb=org.Mm.eg.db, \n",
    "                     ont=\"BP\",\n",
    "                     pAdjustMethod=\"BH\",\n",
    "                     pvalueCutoff=0.05,\n",
    "                     readable=TRUE\n",
    "    )\n",
    "    barplot(ego1,\n",
    "            showCategory=25,\n",
    "            title=\"GO pathways\"\n",
    "    )\n",
    "}"
   ]
  },
  {
   "cell_type": "code",
   "execution_count": 21,
   "metadata": {},
   "outputs": [],
   "source": [
    "if(bool_plot){\n",
    "    ego2 <- enrichGO(gene=sig.gene[,2], \n",
    "                     OrgDb=org.Mm.eg.db,\n",
    "                     ont=\"CC\", \n",
    "                     pAdjustMethod=\"BH\",\n",
    "                     pvalueCutoff=0.05,\n",
    "                     readable=TRUE\n",
    "    )\n",
    "    barplot(ego2, \n",
    "            showCategory=25, \n",
    "            title=\"GO pathways\"\n",
    "    )\n",
    "}"
   ]
  },
  {
   "cell_type": "code",
   "execution_count": 22,
   "metadata": {},
   "outputs": [],
   "source": [
    "if(bool_plot){\n",
    "    ego3 <- enrichGO(gene=sig.gene[,2], \n",
    "                     OrgDb=org.Mm.eg.db,\n",
    "                     ont=\"MF\",\n",
    "                     pAdjustMethod=\"BH\",\n",
    "                     pvalueCutoff=0.05,\n",
    "                     readable=TRUE\n",
    "    )\n",
    "    barplot(ego3,\n",
    "            showCategory=25, \n",
    "            title=\"GO pathways\"\n",
    "    )\n",
    "}"
   ]
  },
  {
   "cell_type": "code",
   "execution_count": 114,
   "metadata": {},
   "outputs": [],
   "source": [
    "bp1 = ego1@result"
   ]
  },
  {
   "cell_type": "code",
   "execution_count": 115,
   "metadata": {},
   "outputs": [],
   "source": [
    "setwd('/Users/viktorian.miok/Documents/consultation/Katarina/Integration_Data/RNA_seq_data/results/VSG')\n",
    "write.csv(bp1, \"VSG_GO_BP_down_RNA.csv\")"
   ]
  },
  {
   "cell_type": "code",
   "execution_count": 116,
   "metadata": {},
   "outputs": [],
   "source": [
    "bp1 = bp1[bp1$p.adjust<0.05,]\n",
    "\n",
    "lk = as.numeric(sub(\"\\\\/.*\", \"\", bp1[,4]))\n",
    "bp1 = bp1[(lk > 15) & (lk < 500),]\n",
    "bp1 = bp1[bp1$Count > 4,]\n",
    "bp1 = bp1[!bp1$ID %in% noliv[,1],]\n",
    "bp1 = bp1[!bp1$ID %in% noliv1[,1],]\n",
    "bp1 = bp1[!bp1$ID %in% obsolete[,1],]\n",
    "bp1 = bp1[order(as.numeric(sub(\"\\\\/.*\", \"\", bp1[,4])), decreasing = TRUE),]"
   ]
  },
  {
   "cell_type": "code",
   "execution_count": 117,
   "metadata": {},
   "outputs": [],
   "source": [
    "write.csv(bp1, \"VSG_GO_BP_trimed_down_RNA_a.csv\")"
   ]
  },
  {
   "cell_type": "code",
   "execution_count": 118,
   "metadata": {},
   "outputs": [],
   "source": [
    "rk = character()\n",
    "for(i in 1:(nrow(bp1)-1)){\n",
    "    pk = numeric()\n",
    "    for(j in (i+1):nrow(bp1)){\n",
    "        pk = c(pk,sum(unlist(strsplit(bp1[i,8], \"/\")) %in% unlist(strsplit(bp1[j,8], \"/\")))/length(unlist(strsplit(bp1[j,8], \"/\"))))\n",
    "    }\n",
    "    if (sum(pk > 0.4) > 0) {\n",
    "        rk[i] = \"brisi\"\n",
    "    } else rk[i] = \"ostavi\"\n",
    "}\n",
    "rk1 = c(rk, \"brisi\")\n",
    "bp1 = bp1[rk1 == \"ostavi\",]"
   ]
  },
  {
   "cell_type": "code",
   "execution_count": 119,
   "metadata": {},
   "outputs": [],
   "source": [
    "write.csv(bp1, \"VSG_GO_BP_trimed_down_RNA_b.csv\")"
   ]
  },
  {
   "cell_type": "code",
   "execution_count": 120,
   "metadata": {},
   "outputs": [],
   "source": [
    "bp2 = ego2@result"
   ]
  },
  {
   "cell_type": "code",
   "execution_count": 121,
   "metadata": {},
   "outputs": [],
   "source": [
    "write.csv(bp2, \"VSG_GO_CC_down_RNA.csv\")"
   ]
  },
  {
   "cell_type": "code",
   "execution_count": 122,
   "metadata": {},
   "outputs": [],
   "source": [
    "bp2 = bp2[bp2$p.adjust < 0.05,]\n",
    "lk = as.numeric(sub(\"\\\\/.*\", \"\", bp2[,4]))\n",
    "bp2 = bp2[(lk > 15) & (lk < 500),]\n",
    "bp2 = bp2[bp2$Count > 4,]\n",
    "bp2 = bp2[!bp2$ID %in% noliv[,1],]\n",
    "bp2 = bp2[!bp2$ID %in% noliv1[,1],]\n",
    "bp2 = bp2[!bp2$ID %in% obsolete[,1],]\n",
    "bp2 = bp2[order(as.numeric(sub(\"\\\\/.*\", \"\", bp2[,4])), decreasing=TRUE),]"
   ]
  },
  {
   "cell_type": "code",
   "execution_count": 123,
   "metadata": {},
   "outputs": [],
   "source": [
    "write.csv(bp2,\"VSG_GO_CC_trimed_down_RNA_a.csv\")"
   ]
  },
  {
   "cell_type": "code",
   "execution_count": 124,
   "metadata": {
    "scrolled": true
   },
   "outputs": [],
   "source": [
    "#rk = character()\n",
    "#for(i in 1:(nrow(bp2)-1)){\n",
    "#    pk = numeric()\n",
    "#    for(j in (i+1):nrow(bp2)){\n",
    "#        pk = c(pk,sum(unlist(strsplit(bp2[i,8], \"/\")) %in% unlist(strsplit(bp2[j,8], \"/\")))/length(unlist(strsplit(bp2[j,8], \"/\"))))\n",
    "#    }\n",
    "#    if (sum(pk > 0.4) > 0) {\n",
    "#        rk[i] = \"brisi\"\n",
    "#    } else rk[i] = \"ostavi\"\n",
    "#}\n",
    "#rk1 = c(rk, \"brisi\")\n",
    "#bp2 = bp2[rk1 == \"ostavi\",]"
   ]
  },
  {
   "cell_type": "code",
   "execution_count": 125,
   "metadata": {},
   "outputs": [],
   "source": [
    "#write.csv(bp2,\"VSG_GO_CC_trimed_down_RNA_b.csv\")"
   ]
  },
  {
   "cell_type": "code",
   "execution_count": 126,
   "metadata": {},
   "outputs": [],
   "source": [
    "bp3 = ego3@result"
   ]
  },
  {
   "cell_type": "code",
   "execution_count": 127,
   "metadata": {},
   "outputs": [],
   "source": [
    "write.csv(bp3, \"VSG_GO_MF_down_RNA.csv\")"
   ]
  },
  {
   "cell_type": "code",
   "execution_count": 128,
   "metadata": {},
   "outputs": [],
   "source": [
    "bp3 = bp3[bp3$p.adjust < 0.05,]\n",
    "lk = as.numeric(sub(\"\\\\/.*\", \"\", bp3[,4]))\n",
    "bp3 = bp3[(lk > 15) & (lk < 500),]\n",
    "bp3 = bp3[bp3$Count > 4,]\n",
    "bp3 = bp3[!bp3$ID %in% noliv[,1],]\n",
    "bp3 = bp3[!bp3$ID %in% noliv1[,1],]\n",
    "bp3 = bp3[!bp3$ID %in% obsolete[,1],]\n",
    "bp3 = bp3[order(as.numeric(sub(\"\\\\/.*\", \"\", bp3[,4])), decreasing=TRUE),]"
   ]
  },
  {
   "cell_type": "code",
   "execution_count": 129,
   "metadata": {},
   "outputs": [],
   "source": [
    "write.csv(bp3, \"VSG_GO_MF_trimed_down_RNA_a.csv\")"
   ]
  },
  {
   "cell_type": "code",
   "execution_count": 130,
   "metadata": {},
   "outputs": [],
   "source": [
    "rk = character()\n",
    "for(i in 1:(nrow(bp3)-1)){\n",
    "    pk = numeric()\n",
    "    for(j in (i+1):nrow(bp3)){\n",
    "        pk = c(pk,sum(unlist(strsplit(bp3[i,8], \"/\")) %in% unlist(strsplit(bp3[j,8], \"/\")))/length(unlist(strsplit(bp3[j,8], \"/\"))))\n",
    "    }\n",
    "    if (sum(pk > 0.4) > 0) {\n",
    "        rk[i] = \"brisi\"\n",
    "    } else rk[i] = \"ostavi\"\n",
    "}\n",
    "rk1 = c(rk, \"brisi\")\n",
    "bp3 = bp3[rk1 == \"ostavi\",]"
   ]
  },
  {
   "cell_type": "code",
   "execution_count": 131,
   "metadata": {},
   "outputs": [],
   "source": [
    "write.csv(bp3, \"VSG_GO_MF_trimed_down_RNA_b.csv\")"
   ]
  },
  {
   "cell_type": "code",
   "execution_count": 132,
   "metadata": {},
   "outputs": [],
   "source": [
    "bp4 = kk1@result"
   ]
  },
  {
   "cell_type": "code",
   "execution_count": 133,
   "metadata": {},
   "outputs": [],
   "source": [
    "write.csv(bp4, \"VSG_KEGG_down_RNA.csv\")"
   ]
  },
  {
   "cell_type": "code",
   "execution_count": 134,
   "metadata": {},
   "outputs": [],
   "source": [
    "bp4 = bp4[bp4$p.adjust < 0.05,]\n",
    "lk = as.numeric(sub(\"\\\\/.*\", \"\", bp4[,4]))\n",
    "bp4 = bp4[(lk > 15) & (lk < 500),]\n",
    "bp4 = bp4[bp4$Count > 4,]\n",
    "bp4 = bp4[!bp4$ID %in% noliv[,1],]\n",
    "bp4 = bp4[!bp4$ID %in% noliv1[,1],]\n",
    "bp4 = bp4[!bp4$ID %in% obsolete[,1],]\n",
    "bp4 = bp4[order(as.numeric(sub(\"\\\\/.*\", \"\", bp4[,4])), decreasing=TRUE),]"
   ]
  },
  {
   "cell_type": "code",
   "execution_count": 135,
   "metadata": {},
   "outputs": [],
   "source": [
    "write.csv(bp4, \"VSG_KEGG_trimed_down_RNA_a.csv\")"
   ]
  },
  {
   "cell_type": "code",
   "execution_count": 136,
   "metadata": {
    "scrolled": true
   },
   "outputs": [],
   "source": [
    "rk = character()\n",
    "for(i in 1:(nrow(bp4)-1)){\n",
    "    pk = numeric()\n",
    "    for(j in (i+1):nrow(bp4)){\n",
    "        pk = c(pk,sum(unlist(strsplit(bp4[i,8], \"/\")) %in% unlist(strsplit(bp4[j,8], \"/\")))/length(unlist(strsplit(bp4[j,8], \"/\"))))\n",
    "    }\n",
    "    if (sum(pk > 0.4) > 0) {\n",
    "        rk[i] = \"brisi\"\n",
    "    } else rk[i] = \"ostavi\"\n",
    "}\n",
    "rk1 = c(rk, \"brisi\")\n",
    "bp4 = bp4[rk1 == \"ostavi\",]"
   ]
  },
  {
   "cell_type": "code",
   "execution_count": 137,
   "metadata": {},
   "outputs": [],
   "source": [
    "write.csv(bp4, \"VSG_KEGG_trimed_down_RNA_b.csv\")"
   ]
  },
  {
   "cell_type": "markdown",
   "metadata": {},
   "source": [
    "## IF and PF Study"
   ]
  },
  {
   "cell_type": "code",
   "execution_count": 138,
   "metadata": {},
   "outputs": [],
   "source": [
    "ifdat = expression.matrix[,c(24,26:31,32:39,16:23)]"
   ]
  },
  {
   "cell_type": "code",
   "execution_count": 139,
   "metadata": {},
   "outputs": [
    {
     "name": "stderr",
     "output_type": "stream",
     "text": [
      "Warning message in DESeqDataSet(se, design = design, ignoreRank):\n",
      "“some variables in design formula are characters, converting to factors”\n"
     ]
    }
   ],
   "source": [
    "id = colnames(ifdat)\n",
    "condition = c(rep(\"IFHFD\",7), rep(\"PFHFD\",8), rep(\"ALHFD\",8))\n",
    "metaData = data.frame(id,\n",
    "                      condition\n",
    ")\n",
    "dds <- DESeqDataSetFromMatrix(countData=ifdat,\n",
    "                              colData=metaData,\n",
    "                              design=~ condition\n",
    ")\n",
    "featureDatadata.frame(gene=rownames(dds))\n",
    "mcols(dds) = DataFrame(mcols(dds),\n",
    "                       featureData\n",
    ")"
   ]
  },
  {
   "cell_type": "code",
   "execution_count": 140,
   "metadata": {},
   "outputs": [
    {
     "name": "stderr",
     "output_type": "stream",
     "text": [
      "gene-wise dispersion estimates\n",
      "\n",
      "mean-dispersion relationship\n",
      "\n",
      "final dispersion estimates\n",
      "\n"
     ]
    }
   ],
   "source": [
    "design(dds)= ~ condition  \n",
    "dds <- estimateSizeFactors(dds)\n",
    "dds <- estimateDispersions(dds, \n",
    "                           fit='parametric'\n",
    ")"
   ]
  },
  {
   "cell_type": "code",
   "execution_count": 141,
   "metadata": {},
   "outputs": [],
   "source": [
    "keep = rowSums(counts(dds)) >= 50\n",
    "dds = dds[keep,]"
   ]
  },
  {
   "cell_type": "code",
   "execution_count": 23,
   "metadata": {},
   "outputs": [],
   "source": [
    "if(bool_plot){\n",
    "    #Variance stabilizing transformation\n",
    "    vsd=vst(dds)\n",
    "    # PCA plot of the samples from different locations\n",
    "    plotPCA(vsd, \"condition\") +\n",
    "            geom_text(aes(label=id), vjust=2) +\n",
    "            xlim(-20, 20) +\n",
    "            ylim(-15, 15)\n",
    "}"
   ]
  },
  {
   "cell_type": "code",
   "execution_count": 24,
   "metadata": {},
   "outputs": [],
   "source": [
    "dds <- estimateSizeFactors(dds)\n",
    "idx = rowMeans(counts(dds, normalized=TRUE)) >= 10\n",
    "dds = dds[idx,]\n",
    "vsd <- vst(dds,\n",
    "           fitType=\"local\"\n",
    ")\n",
    "pcaData <- plotPCA(vsd, \n",
    "                   intgroup=c(\"condition\"), \n",
    "                   returnData=TRUE\n",
    ")\n",
    "percentVar <- round(100 * attr(pcaData, \"percentVar\"))\n",
    "if(bool_plot){\n",
    "    p2 <- ggplot(pcaData, aes(PC1, PC2, color=condition)) +\n",
    "                 geom_point(size=3) +\n",
    "                 geom_label(aes(label=colnames(dds))) +\n",
    "                 xlab(paste0(\"PC1: \",percentVar[1],\"% variance\")) + \n",
    "                 ylab(paste0(\"PC2: \",percentVar[2],\"% variance\")) +\n",
    "                 ggtitle(\"PCA Plot - PFhfd-ALhfd-IFhfd\") +\n",
    "                 theme(legend.position=\"right\", legend.text=element_text(size=10)) + \n",
    "                 guides(col=guide_legend(nrow=4))\n",
    "    p2 + ylim(-15,15) +\n",
    "         xlim(-30,30)\n",
    "}"
   ]
  },
  {
   "cell_type": "code",
   "execution_count": 144,
   "metadata": {},
   "outputs": [
    {
     "name": "stderr",
     "output_type": "stream",
     "text": [
      "using pre-existing size factors\n",
      "\n",
      "estimating dispersions\n",
      "\n",
      "found already estimated dispersions, replacing these\n",
      "\n",
      "gene-wise dispersion estimates\n",
      "\n",
      "mean-dispersion relationship\n",
      "\n",
      "final dispersion estimates\n",
      "\n",
      "fitting model and testing\n",
      "\n",
      "-- replacing outliers and refitting for 1 genes\n",
      "-- DESeq argument 'minReplicatesForReplace' = 7 \n",
      "-- original counts are preserved in counts(dds)\n",
      "\n",
      "estimating dispersions\n",
      "\n",
      "fitting model and testing\n",
      "\n"
     ]
    }
   ],
   "source": [
    "dds <- DESeq(dds)"
   ]
  },
  {
   "cell_type": "code",
   "execution_count": 145,
   "metadata": {},
   "outputs": [],
   "source": [
    "res_ifhfd_vs_alhfd <- results(dds,\n",
    "                              contrast=c(\"condition\",\"IFHFD\",\"ALHFD\")\n",
    ")\n",
    "res_pfhfd_vs_alhfd <- results(dds, \n",
    "                              contrast = c(\"condition\",\"PFHFD\",\"ALHFD\")\n",
    ")"
   ]
  },
  {
   "cell_type": "code",
   "execution_count": 146,
   "metadata": {},
   "outputs": [
    {
     "data": {
      "text/plain": [
       "\n",
       "FALSE  TRUE \n",
       " 9631   501 "
      ]
     },
     "metadata": {},
     "output_type": "display_data"
    }
   ],
   "source": [
    "table(res_ifhfd_vs_alhfd$padj < 0.05)"
   ]
  },
  {
   "cell_type": "code",
   "execution_count": 147,
   "metadata": {},
   "outputs": [
    {
     "data": {
      "text/plain": [
       "\n",
       "FALSE  TRUE \n",
       " 9587   545 "
      ]
     },
     "metadata": {},
     "output_type": "display_data"
    }
   ],
   "source": [
    "table(res_pfhfd_vs_alhfd$padj < 0.05)"
   ]
  },
  {
   "cell_type": "code",
   "execution_count": 148,
   "metadata": {},
   "outputs": [],
   "source": [
    "res = res_ifhfd_vs_alhfd[order(res_ifhfd_vs_alhfd$padj),]"
   ]
  },
  {
   "cell_type": "code",
   "execution_count": 149,
   "metadata": {},
   "outputs": [],
   "source": [
    "results1 = as.data.frame(dplyr::mutate(as.data.frame(res), \n",
    "                               sig=ifelse(res$padj<0.05, \"FDR<0.05\", \"Not Sig\")),\n",
    "                         row.names=rownames(res))\n",
    "results1 = results1[(!is.na(results1$padj)),]"
   ]
  },
  {
   "cell_type": "code",
   "execution_count": 25,
   "metadata": {},
   "outputs": [],
   "source": [
    "if(bool_plot){\n",
    "    p <- ggplot2::ggplot(results1, ggplot2::aes(log2FoldChange, -log10(pvalue))) +\n",
    "         ggplot2::geom_point(ggplot2::aes(col = sig)) + \n",
    "         ggplot2::scale_color_manual(values = c(\"red\", \"black\")) +\n",
    "         guides(col = guide_legend(nrow=2)) + \n",
    "         ggplot2::ggtitle(\"ifhfd_vs_alhfd\") + xlim(-5,5) + ylim(0,20)\n",
    "\n",
    "    p #+ ggrepel::geom_text_repel(data=results1[1:3, ], ggplot2::aes(label=rownames(results1[1:3, ])))\n",
    "}"
   ]
  },
  {
   "cell_type": "code",
   "execution_count": 151,
   "metadata": {},
   "outputs": [],
   "source": [
    "res = res_pfhfd_vs_alhfd[order(res_pfhfd_vs_alhfd$padj),]"
   ]
  },
  {
   "cell_type": "code",
   "execution_count": 152,
   "metadata": {},
   "outputs": [],
   "source": [
    "results2 = as.data.frame(dplyr::mutate(as.data.frame(res), sig=ifelse(res$padj<0.05, \"FDR<0.05\", \"Not Sig\")),\n",
    "                         row.names=rownames(res))\n",
    "results2 = results2[(!is.na(results2$padj)),]"
   ]
  },
  {
   "cell_type": "code",
   "execution_count": 26,
   "metadata": {},
   "outputs": [],
   "source": [
    "if(bool_plot){\n",
    "    p <- ggplot2::ggplot(results2, ggplot2::aes(log2FoldChange, -log10(padj))) +\n",
    "         ggplot2::geom_point(ggplot2::aes(col = results2$sig)) +\n",
    "         ggplot2::scale_color_manual(values = c(\"red\", \"black\")) + \n",
    "         guides(col = guide_legend(nrow=2)) +\n",
    "         ggplot2::ggtitle(\"pfhfd_vs_alhfd\")+xlim(-5,5)+ylim(0,20)\n",
    "\n",
    "    p #+ ggrepel::geom_text_repel(data=results2[1:20,], ggplot2::aes(label=rownames(results2[1:20,])))\n",
    "}"
   ]
  },
  {
   "cell_type": "code",
   "execution_count": 154,
   "metadata": {},
   "outputs": [],
   "source": [
    "#write.csv(as.data.frame(results2), file=\"DifferentialExpressionAnalysis_PFhfd_vs_ALhfd.csv\")"
   ]
  },
  {
   "cell_type": "code",
   "execution_count": 27,
   "metadata": {},
   "outputs": [],
   "source": [
    "if(bool_plot){\n",
    "    plot(res_pfhfd_vs_alhfd[,2], \n",
    "         res_ifhfd_vs_alhfd[,2]\n",
    "    )\n",
    "    abline(0,1,\n",
    "           col=\"red\", \n",
    "           ylim=c(-4,4)\n",
    "    )\n",
    "}"
   ]
  },
  {
   "cell_type": "code",
   "execution_count": 156,
   "metadata": {},
   "outputs": [],
   "source": [
    "par(mfrow=c(1,2))"
   ]
  },
  {
   "cell_type": "code",
   "execution_count": 30,
   "metadata": {},
   "outputs": [],
   "source": [
    "PF = data.frame(values=res_pfhfd_vs_alhfd[,5])\n",
    "IF = data.frame(values=res_ifhfd_vs_alhfd[,5])\n",
    "\n",
    "# Now, combine your two dataframes into one.  \n",
    "# First make a new column in each that will be \n",
    "# a variable to identify where they came from later.\n",
    "PF$diet = 'PF'\n",
    "IF$diet = 'IF'\n",
    "\n",
    "# and combine into your new data frame vegLengths\n",
    "fasting = rbind(PF, IF)\n",
    "if(bool_plot){\n",
    "    ggplot(fasting, aes(values, fill=diet)) +\n",
    "           geom_density(alpha=0.2)\n",
    "}"
   ]
  },
  {
   "cell_type": "code",
   "execution_count": 31,
   "metadata": {},
   "outputs": [],
   "source": [
    "if(bool_plot){\n",
    "    hist(res_ifhfd_vs_alhfd[,2], \n",
    "         xlim = c(-4,4)\n",
    "    )\n",
    "}"
   ]
  },
  {
   "cell_type": "code",
   "execution_count": 159,
   "metadata": {},
   "outputs": [],
   "source": [
    "# order results table by the smallest adjusted p value:\n",
    "res = res_ifhfd_vs_alhfd[order(res_ifhfd_vs_alhfd$padj,res_ifhfd_vs_alhfd$pvalue),]\n",
    "\n",
    "resultsIF = as.data.frame(dplyr::mutate(as.data.frame(res),\n",
    "                                      sig=ifelse(res$padj < 0.05, \"FDR<0.05\", \"Not Sig\")),\n",
    "                        row.names=rownames(res))\n",
    "resultsIF = resultsIF[(!is.na(resultsIF$padj)),]"
   ]
  },
  {
   "cell_type": "code",
   "execution_count": 32,
   "metadata": {},
   "outputs": [],
   "source": [
    "if(bool_plot){\n",
    "    p = assay(vsd)[rownames(assay(vsd))%in%rownames(resultsIF[which(resultsIF$sig == \"FDR<0.05\"),]),]\n",
    "    heatmap.2(p, \n",
    "              col=colors,\n",
    "              scale=\"row\",\n",
    "              trace=\"none\",\n",
    "              main=\"IFHFD_vs_ALHFD\",\n",
    "              Rowv=FALSE,\n",
    "              Colv=FALSE\n",
    "    ) \n",
    "}"
   ]
  },
  {
   "cell_type": "code",
   "execution_count": 161,
   "metadata": {},
   "outputs": [],
   "source": [
    "#setwd('/Users/viktorian.miok/Documents/consultation/Katarina/Integration_Data/RNA_seq_data/results')\n",
    "#write.csv(results,\"IFstudy_IFHFDvsALHFD.csv\")"
   ]
  },
  {
   "cell_type": "markdown",
   "metadata": {},
   "source": [
    "### Up regulated pathways"
   ]
  },
  {
   "cell_type": "code",
   "execution_count": 33,
   "metadata": {},
   "outputs": [],
   "source": [
    "if(bool_plot){\n",
    "    sig.gene <- bitr(rownames(resultsIF[which(resultsIF$sig == \"FDR<0.05\" & resultsTRF$log2FoldChange > 0),]),\n",
    "                     fromType=\"ENSEMBL\",\n",
    "                     toType=\"ENTREZID\",\n",
    "                     OrgDb=org.Mm.eg.db\n",
    "    )\n",
    "    kk1 <- enrichKEGG(gene=sig.gene[,2],\n",
    "                      organism='mmu',\n",
    "                      pvalueCutoff=0.1\n",
    "    )\n",
    "    barplot(kk1,\n",
    "            showCategory=25,\n",
    "            title=\"KEGG pathways\"\n",
    "    )\n",
    "}"
   ]
  },
  {
   "cell_type": "code",
   "execution_count": 34,
   "metadata": {},
   "outputs": [],
   "source": [
    "if(bool_plot){\n",
    "    ego1 <- enrichGO(gene=sig.gene[,2],\n",
    "                     OrgDb=org.Mm.eg.db, \n",
    "                     ont=\"BP\", \n",
    "                     pAdjustMethod=\"BH\",\n",
    "                     pvalueCutoff=0.05,\n",
    "                     readable=TRUE\n",
    "    )\n",
    "    barplot(ego1, \n",
    "            showCategory=25,\n",
    "            title=\"GO pathways\"\n",
    "    )\n",
    "}"
   ]
  },
  {
   "cell_type": "code",
   "execution_count": 35,
   "metadata": {},
   "outputs": [],
   "source": [
    "if(bool_plot){\n",
    "    ego2 <- enrichGO(gene=sig.gene[,2], \n",
    "                     OrgDb=org.Mm.eg.db, \n",
    "                     ont=\"CC\", \n",
    "                     pAdjustMethod=\"BH\",\n",
    "                     pvalueCutoff=0.05,\n",
    "                     readable=TRUE\n",
    "    )\n",
    "    barplot(ego2, \n",
    "            showCategory=25, \n",
    "            title=\"GO pathways\"\n",
    "    )\n",
    "}"
   ]
  },
  {
   "cell_type": "code",
   "execution_count": 36,
   "metadata": {},
   "outputs": [],
   "source": [
    "if(bool_plot){\n",
    "    ego3 <- enrichGO(gene=sig.gene[,2],\n",
    "                     OrgDb=org.Mm.eg.db,\n",
    "                     ont=\"MF\",\n",
    "                     pAdjustMethod=\"BH\",\n",
    "                     pvalueCutoff=0.05,\n",
    "                     readable=TRUE\n",
    "    )\n",
    "    barplot(ego3,\n",
    "            showCategory=25,\n",
    "            title=\"GO pathways\"\n",
    "    )\n",
    "}"
   ]
  },
  {
   "cell_type": "code",
   "execution_count": 166,
   "metadata": {},
   "outputs": [],
   "source": [
    "bp1 = ego1@result"
   ]
  },
  {
   "cell_type": "code",
   "execution_count": 167,
   "metadata": {},
   "outputs": [],
   "source": [
    "setwd('/Users/viktorian.miok/Documents/consultation/Katarina/Integration_Data/RNA_seq_data/results/IF')\n",
    "write.csv(bp1, \"IF_GO_BP_up_RNA.csv\")"
   ]
  },
  {
   "cell_type": "code",
   "execution_count": 168,
   "metadata": {},
   "outputs": [],
   "source": [
    "bp1 = bp1[bp1$p.adjust < 0.05,]\n",
    "\n",
    "lk = as.numeric(sub(\"\\\\/.*\", \"\", bp1[,4]))\n",
    "bp1 = bp1[(lk > 15) & (lk < 500),]\n",
    "bp1 = bp1[bp1$Count > 4,]\n",
    "bp1 = bp1[!bp1$ID %in% noliv[,1],]\n",
    "bp1 = bp1[!bp1$ID %in% noliv1[,1],]\n",
    "bp1 = bp1[!bp1$ID %in% obsolete[,1],]\n",
    "bp1 = bp1[order(as.numeric(sub(\"\\\\/.*\", \"\", bp1[,4])), decreasing=TRUE),]"
   ]
  },
  {
   "cell_type": "code",
   "execution_count": 169,
   "metadata": {},
   "outputs": [],
   "source": [
    "write.csv(bp1,\"IF_GO_BP_trimed_up_RNA_a.csv\")"
   ]
  },
  {
   "cell_type": "code",
   "execution_count": 170,
   "metadata": {},
   "outputs": [],
   "source": [
    "rk = character()\n",
    "for(i in 1:(nrow(bp1)-1)){\n",
    "    pk = numeric()\n",
    "    for(j in (i+1):nrow(bp1)){\n",
    "        pk = c(pk,sum(unlist(strsplit(bp1[i,8], \"/\")) %in% unlist(strsplit(bp1[j,8], \"/\")))/length(unlist(strsplit(bp1[j,8], \"/\"))))\n",
    "    }\n",
    "    if (sum(pk > 0.4) > 0) {\n",
    "        rk[i] = \"brisi\"\n",
    "    } else rk[i] = \"ostavi\"\n",
    "}\n",
    "rk1 = c(rk, \"brisi\")\n",
    "bp1 = bp1[rk1 == \"ostavi\",]"
   ]
  },
  {
   "cell_type": "code",
   "execution_count": 171,
   "metadata": {},
   "outputs": [],
   "source": [
    "write.csv(bp1, \"IF_GO_BP_trimed_up_RNA_b.csv\")"
   ]
  },
  {
   "cell_type": "code",
   "execution_count": 172,
   "metadata": {},
   "outputs": [],
   "source": [
    "bp2 = ego2@result"
   ]
  },
  {
   "cell_type": "code",
   "execution_count": 173,
   "metadata": {},
   "outputs": [],
   "source": [
    "write.csv(bp2, \"IF_GO_CC_up_RNA.csv\")"
   ]
  },
  {
   "cell_type": "code",
   "execution_count": 174,
   "metadata": {},
   "outputs": [],
   "source": [
    "bp2 = bp2[bp2$p.adjust < 0.05,]\n",
    "lk = as.numeric(sub(\"\\\\/.*\", \"\", bp2[,4]))\n",
    "bp2 = bp2[(lk > 15) & (lk < 500),]\n",
    "bp2 = bp2[bp2$Count > 4,]\n",
    "bp2 = bp2[!bp2$ID %in% noliv[,1],]\n",
    "bp2 = bp2[!bp2$ID %in% noliv1[,1],]\n",
    "bp2 = bp2[!bp2$ID %in% obsolete[,1],]\n",
    "bp2 = bp2[order(as.numeric(sub(\"\\\\/.*\", \"\", bp2[,4])), decreasing=TRUE),]"
   ]
  },
  {
   "cell_type": "code",
   "execution_count": 175,
   "metadata": {},
   "outputs": [],
   "source": [
    "write.csv(bp2,\"IF_GO_CC_trimed_up_RNA_a.csv\")"
   ]
  },
  {
   "cell_type": "code",
   "execution_count": 176,
   "metadata": {
    "scrolled": true
   },
   "outputs": [],
   "source": [
    "rk = character()\n",
    "for(i in 1:(nrow(bp2)-1)){\n",
    "    pk = numeric()\n",
    "    for(j in (i+1):nrow(bp2)){\n",
    "        pk = c(pk,sum(unlist(strsplit(bp2[i,8], \"/\")) %in% unlist(strsplit(bp2[j,8], \"/\")))/length(unlist(strsplit(bp2[j,8], \"/\"))))\n",
    "    }\n",
    "    if (sum(pk > 0.4) > 0) {\n",
    "        rk[i] = \"brisi\"\n",
    "    } else rk[i] = \"ostavi\"\n",
    "}\n",
    "rk1 = c(rk, \"brisi\")\n",
    "bp2 = bp2[rk1 == \"ostavi\",]"
   ]
  },
  {
   "cell_type": "code",
   "execution_count": 177,
   "metadata": {},
   "outputs": [],
   "source": [
    "write.csv(bp2, \"IF_GO_CC_trimed_up_RNA_b.csv\")"
   ]
  },
  {
   "cell_type": "code",
   "execution_count": 178,
   "metadata": {},
   "outputs": [],
   "source": [
    "bp3 = ego3@result"
   ]
  },
  {
   "cell_type": "code",
   "execution_count": 179,
   "metadata": {},
   "outputs": [],
   "source": [
    "write.csv(bp3, \"IF_GO_MF_up_RNA.csv\")"
   ]
  },
  {
   "cell_type": "code",
   "execution_count": 180,
   "metadata": {},
   "outputs": [],
   "source": [
    "bp3 = bp3[bp3$p.adjust < 0.05,]\n",
    "lk = as.numeric(sub(\"\\\\/.*\", \"\", bp3[,4]))\n",
    "bp3 = bp3[(lk > 15) & (lk < 500),]\n",
    "bp3 = bp3[bp3$Count > 4,]\n",
    "bp3 = bp3[!bp3$ID %in% noliv[,1],]\n",
    "bp3 = bp3[!bp3$ID %in% noliv1[,1],]\n",
    "bp3 = bp3[!bp3$ID %in% obsolete[,1],]\n",
    "bp3 = bp3[order(as.numeric(sub(\"\\\\/.*\", \"\", bp3[,4])), decreasing=TRUE),]"
   ]
  },
  {
   "cell_type": "code",
   "execution_count": 181,
   "metadata": {},
   "outputs": [],
   "source": [
    "write.csv(bp3, \"IF_GO_MF_trimed_up_RNA_a.csv\")"
   ]
  },
  {
   "cell_type": "code",
   "execution_count": 182,
   "metadata": {},
   "outputs": [],
   "source": [
    "rk = character()\n",
    "for(i in 1:(nrow(bp3)-1)){\n",
    "    pk = numeric()\n",
    "    for(j in (i+1):nrow(bp3)){\n",
    "        pk <- c(pk,sum(unlist(strsplit(bp3[i,8], \"/\")) %in% unlist(strsplit(bp3[j,8], \"/\")))/length(unlist(strsplit(bp3[j,8], \"/\"))))\n",
    "    }\n",
    "    if (sum(pk>0.4)>0) {\n",
    "        rk[i]=\"brisi\"\n",
    "    } else rk[i]=\"ostavi\"\n",
    "}\n",
    "rk1 = c(rk, \"brisi\")\n",
    "bp3 = bp3[rk1 == \"ostavi\",]"
   ]
  },
  {
   "cell_type": "code",
   "execution_count": 183,
   "metadata": {},
   "outputs": [],
   "source": [
    "write.csv(bp3, \"IF_GO_MF_trimed_up_RNA_b.csv\")"
   ]
  },
  {
   "cell_type": "code",
   "execution_count": 184,
   "metadata": {},
   "outputs": [],
   "source": [
    "bp4 = kk1@result"
   ]
  },
  {
   "cell_type": "code",
   "execution_count": 185,
   "metadata": {},
   "outputs": [],
   "source": [
    "write.csv(bp4, \"IF_KEGG_up_RNA.csv\")"
   ]
  },
  {
   "cell_type": "code",
   "execution_count": 186,
   "metadata": {},
   "outputs": [],
   "source": [
    "bp4 = bp4[bp4$p.adjust < 0.05,]\n",
    "lk = as.numeric(sub(\"\\\\/.*\", \"\", bp4[,4]))\n",
    "bp4 = bp4[(lk > 15) & (lk < 500),]\n",
    "bp4 = bp4[bp4$Count > 4,]\n",
    "bp4 = bp4[!bp4$ID %in% noliv[,1],]\n",
    "bp4 = bp4[!bp4$ID %in% noliv1[,1],]\n",
    "bp4 = bp4[!bp4$ID %in% obsolete[,1],]\n",
    "bp4 = bp4[order(as.numeric(sub(\"\\\\/.*\", \"\", bp4[,4])), decreasing=TRUE),]"
   ]
  },
  {
   "cell_type": "code",
   "execution_count": 187,
   "metadata": {},
   "outputs": [],
   "source": [
    "write.csv(bp4, \"IF_KEGG_trimed_up_RNA_a.csv\")"
   ]
  },
  {
   "cell_type": "code",
   "execution_count": 188,
   "metadata": {
    "scrolled": true
   },
   "outputs": [],
   "source": [
    "rk = character()\n",
    "for(i in 1:(nrow(bp4)-1)){\n",
    "    pk = numeric()\n",
    "    for(j in (i+1):nrow(bp4)){\n",
    "        pk = c(pk,sum(unlist(strsplit(bp4[i,8], \"/\")) %in% unlist(strsplit(bp4[j,8], \"/\")))/length(unlist(strsplit(bp4[j,8], \"/\"))))\n",
    "    }\n",
    "    if (sum(pk > 0.4) > 0) {\n",
    "        rk[i] = \"brisi\"\n",
    "    } else rk[i] = \"ostavi\"\n",
    "}\n",
    "rk1 = c(rk, \"brisi\")\n",
    "bp4 = bp4[rk1 == \"ostavi\",]"
   ]
  },
  {
   "cell_type": "code",
   "execution_count": 189,
   "metadata": {},
   "outputs": [],
   "source": [
    "write.csv(bp4, \"IF_KEGG_trimed_up_RNA_b.csv\")"
   ]
  },
  {
   "cell_type": "markdown",
   "metadata": {},
   "source": [
    "### Down regulated pathways"
   ]
  },
  {
   "cell_type": "code",
   "execution_count": 37,
   "metadata": {},
   "outputs": [],
   "source": [
    "if(bool_plot){\n",
    "    sig.gene <- bitr(rownames(resultsIF[which(resultsIF$sig==\"FDR<0.05\"&resultsTRF$log2FoldChange<0),]),\n",
    "                     fromType=\"ENSEMBL\",\n",
    "                     toType=\"ENTREZID\",\n",
    "                     OrgDb=org.Mm.eg.db\n",
    "    )\n",
    "    kk1 <- enrichKEGG(gene=sig.gene[,2], \n",
    "                      organism='mmu', \n",
    "                      pvalueCutoff=0.1\n",
    "    )\n",
    "    barplot(kk1,\n",
    "            showCategory=25,\n",
    "            title=\"KEGG pathways\"\n",
    "    )\n",
    "}"
   ]
  },
  {
   "cell_type": "code",
   "execution_count": 38,
   "metadata": {},
   "outputs": [],
   "source": [
    "if(bool_plot){\n",
    "    ego1 <- enrichGO(gene=sig.gene[,2],\n",
    "                     OrgDb=org.Mm.eg.db,\n",
    "                     ont=\"BP\",\n",
    "                     pAdjustMethod=\"BH\",\n",
    "                     pvalueCutoff=0.05,\n",
    "                     readable=TRUE\n",
    "    )\n",
    "    barplot(ego1, \n",
    "            showCategory=25,\n",
    "            title=\"GO pathways\"\n",
    "    )\n",
    "}"
   ]
  },
  {
   "cell_type": "code",
   "execution_count": 39,
   "metadata": {},
   "outputs": [],
   "source": [
    "if(bool_plot){\n",
    "    ego2 <- enrichGO(gene=sig.gene[,2],\n",
    "                     OrgDb=org.Mm.eg.db,\n",
    "                     ont=\"CC\",\n",
    "                     pAdjustMethod=\"BH\",\n",
    "                     pvalueCutoff=0.05,\n",
    "                     readable=TRUE\n",
    "    )\n",
    "    barplot(ego2,\n",
    "            showCategory=25,\n",
    "            title=\"GO pathways\"\n",
    "    )\n",
    "}"
   ]
  },
  {
   "cell_type": "code",
   "execution_count": 40,
   "metadata": {},
   "outputs": [],
   "source": [
    "if(bool_plot){\n",
    "    ego3 <- enrichGO(gene=sig.gene[,2],\n",
    "                     OrgDb=org.Mm.eg.db, \n",
    "                     ont=\"MF\",\n",
    "                     pAdjustMethod=\"BH\", \n",
    "                     pvalueCutoff=0.05,\n",
    "                     readable=TRUE\n",
    "    )\n",
    "    barplot(ego3,\n",
    "            showCategory=25, \n",
    "            title=\"GO pathways\"\n",
    "    )\n",
    "}"
   ]
  },
  {
   "cell_type": "code",
   "execution_count": 194,
   "metadata": {},
   "outputs": [],
   "source": [
    "bp1 = ego1@result"
   ]
  },
  {
   "cell_type": "code",
   "execution_count": 195,
   "metadata": {},
   "outputs": [],
   "source": [
    "setwd('/Users/viktorian.miok/Documents/consultation/Katarina/Integration_Data/RNA_seq_data/results/IF')\n",
    "write.csv(bp1, \"IF_GO_BP_down_RNA.csv\")"
   ]
  },
  {
   "cell_type": "code",
   "execution_count": 196,
   "metadata": {},
   "outputs": [],
   "source": [
    "bp1 = bp1[bp1$p.adjust < 0.05,]\n",
    "\n",
    "lk = as.numeric(sub(\"\\\\/.*\", \"\", bp1[,4]))\n",
    "bp1 = bp1[(lk > 15) & (lk < 500),]\n",
    "bp1 = bp1[bp1$Count > 4,]\n",
    "bp1 = bp1[!bp1$ID %in% noliv[,1],]\n",
    "bp1 = bp1[!bp1$ID %in% noliv1[,1],]\n",
    "bp1 = bp1[!bp1$ID %in% obsolete[,1],]\n",
    "bp1 = bp1[order(as.numeric(sub(\"\\\\/.*\", \"\", bp1[,4])), decreasing=TRUE),]"
   ]
  },
  {
   "cell_type": "code",
   "execution_count": 197,
   "metadata": {},
   "outputs": [],
   "source": [
    "write.csv(bp1, \"IF_GO_BP_trimed_down_RNA_a.csv\")"
   ]
  },
  {
   "cell_type": "code",
   "execution_count": 198,
   "metadata": {},
   "outputs": [],
   "source": [
    "rk = character()\n",
    "for(i in 1:(nrow(bp1)-1)){\n",
    "    pk = numeric()\n",
    "    for(j in (i+1):nrow(bp1)){\n",
    "        pk = c(pk,sum(unlist(strsplit(bp1[i,8], \"/\")) %in% unlist(strsplit(bp1[j,8], \"/\")))/length(unlist(strsplit(bp1[j,8], \"/\"))))\n",
    "    }\n",
    "    if (sum(pk > 0.4) > 0) {\n",
    "        rk[i] = \"brisi\"\n",
    "    } else rk[i] = \"ostavi\"\n",
    "}\n",
    "rk1 = c(rk, \"brisi\")\n",
    "bp1 = bp1[rk1 == \"ostavi\",]"
   ]
  },
  {
   "cell_type": "code",
   "execution_count": 199,
   "metadata": {},
   "outputs": [],
   "source": [
    "write.csv(bp1, \"IF_GO_BP_trimed_down_RNA_b.csv\")"
   ]
  },
  {
   "cell_type": "code",
   "execution_count": 200,
   "metadata": {},
   "outputs": [],
   "source": [
    "bp2 = ego2@result"
   ]
  },
  {
   "cell_type": "code",
   "execution_count": 201,
   "metadata": {},
   "outputs": [],
   "source": [
    "write.csv(bp2, \"IF_GO_CC_down_RNA.csv\")"
   ]
  },
  {
   "cell_type": "code",
   "execution_count": 202,
   "metadata": {},
   "outputs": [],
   "source": [
    "bp2 = bp2[bp2$p.adjust<0.05,]\n",
    "lk = as.numeric(sub(\"\\\\/.*\", \"\", bp2[,4]))\n",
    "bp2 = bp2[(lk > 15) & (lk < 500),]\n",
    "bp2 = bp2[bp2$Count > 4,]\n",
    "bp2 = bp2[!bp2$ID %in% noliv[,1],]\n",
    "bp2 = bp2[!bp2$ID %in% noliv1[,1],]\n",
    "bp2 = bp2[!bp2$ID %in% obsolete[,1],]\n",
    "bp2 = bp2[order(as.numeric(sub(\"\\\\/.*\", \"\", bp2[,4])), decreasing=TRUE),]"
   ]
  },
  {
   "cell_type": "code",
   "execution_count": 203,
   "metadata": {},
   "outputs": [],
   "source": [
    "write.csv(bp2, \"IF_GO_CC_trimed_down_RNA_a.csv\")"
   ]
  },
  {
   "cell_type": "code",
   "execution_count": 204,
   "metadata": {
    "scrolled": true
   },
   "outputs": [],
   "source": [
    "rk = character()\n",
    "for(i in 1:(nrow(bp2)-1)){\n",
    "    pk = numeric()\n",
    "    for(j in (i+1):nrow(bp2)){\n",
    "        pk = c(pk,sum(unlist(strsplit(bp2[i,8], \"/\")) %in% unlist(strsplit(bp2[j,8], \"/\")))/length(unlist(strsplit(bp2[j,8], \"/\"))))\n",
    "    }\n",
    "    if (sum(pk > 0.4) > 0) {\n",
    "        rk[i] = \"brisi\"\n",
    "    } else rk[i] = \"ostavi\"\n",
    "}\n",
    "rk1 = c(rk, \"brisi\")\n",
    "bp2 = bp2[rk1 == \"ostavi\",]"
   ]
  },
  {
   "cell_type": "code",
   "execution_count": 205,
   "metadata": {},
   "outputs": [],
   "source": [
    "write.csv(bp2, \"IF_GO_CC_trimed_down_RNA_b.csv\")"
   ]
  },
  {
   "cell_type": "code",
   "execution_count": 206,
   "metadata": {},
   "outputs": [],
   "source": [
    "bp3 = ego3@result"
   ]
  },
  {
   "cell_type": "code",
   "execution_count": 207,
   "metadata": {},
   "outputs": [],
   "source": [
    "write.csv(bp3, \"IF_GO_MF_down_RNA.csv\")"
   ]
  },
  {
   "cell_type": "code",
   "execution_count": 208,
   "metadata": {},
   "outputs": [],
   "source": [
    "bp3 = bp3[bp3$p.adjust < 0.05,]\n",
    "lk = as.numeric(sub(\"\\\\/.*\", \"\", bp3[,4]))\n",
    "bp3 = bp3[(lk > 15) & (lk < 500),]\n",
    "bp3 = bp3[bp3$Count > 4,]\n",
    "bp3 = bp3[!bp3$ID %in% noliv[,1],]\n",
    "bp3 = bp3[!bp3$ID %in% noliv1[,1],]\n",
    "bp3 = bp3[!bp3$ID %in% obsolete[,1],]\n",
    "bp3 = bp3[order(as.numeric(sub(\"\\\\/.*\", \"\", bp3[,4])), decreasing=TRUE),]"
   ]
  },
  {
   "cell_type": "code",
   "execution_count": 209,
   "metadata": {},
   "outputs": [],
   "source": [
    "write.csv(bp3,\"IF_GO_MF_trimed_down_RNA_a.csv\")"
   ]
  },
  {
   "cell_type": "code",
   "execution_count": 210,
   "metadata": {},
   "outputs": [],
   "source": [
    "rk = character()\n",
    "for(i in 1:(nrow(bp3)-1)){\n",
    "    pk = numeric()\n",
    "    for(j in (i+1):nrow(bp3)){\n",
    "        pk = c(pk,sum(unlist(strsplit(bp3[i,8], \"/\")) %in% unlist(strsplit(bp3[j,8], \"/\")))/length(unlist(strsplit(bp3[j,8], \"/\"))))\n",
    "    }\n",
    "    if (sum(pk > 0.4) > 0) {\n",
    "        rk[i] = \"brisi\"\n",
    "    } else rk[i] = \"ostavi\"\n",
    "}\n",
    "rk1 = c(rk, \"brisi\")\n",
    "bp3 = bp3[rk1 == \"ostavi\",]"
   ]
  },
  {
   "cell_type": "code",
   "execution_count": 211,
   "metadata": {},
   "outputs": [],
   "source": [
    "write.csv(bp3, \"IF_GO_MF_trimed_down_RNA_b.csv\")"
   ]
  },
  {
   "cell_type": "code",
   "execution_count": 212,
   "metadata": {},
   "outputs": [],
   "source": [
    "bp4 = kk1@result"
   ]
  },
  {
   "cell_type": "code",
   "execution_count": 213,
   "metadata": {},
   "outputs": [],
   "source": [
    "write.csv(bp4, \"IF_KEGG_down_RNA.csv\")"
   ]
  },
  {
   "cell_type": "code",
   "execution_count": 214,
   "metadata": {},
   "outputs": [],
   "source": [
    "bp4 = bp4[bp4$p.adjust < 0.05,]\n",
    "lk = as.numeric(sub(\"\\\\/.*\", \"\", bp4[,4]))\n",
    "bp4 = bp4[(lk > 15) & (lk < 500),]\n",
    "bp4 = bp4[bp4$Count > 4,]\n",
    "bp4 = bp4[!bp4$ID %in% noliv[,1],]\n",
    "bp4 = bp4[!bp4$ID %in% noliv1[,1],]\n",
    "bp4 = bp4[!bp4$ID %in% obsolete[,1],]\n",
    "bp4 = bp4[order(as.numeric(sub(\"\\\\/.*\", \"\", bp4[,4])), decreasing=TRUE),]"
   ]
  },
  {
   "cell_type": "code",
   "execution_count": 215,
   "metadata": {},
   "outputs": [],
   "source": [
    "write.csv(bp4, \"IF_KEGG_trimed_down_RNA_a.csv\")"
   ]
  },
  {
   "cell_type": "code",
   "execution_count": 216,
   "metadata": {
    "scrolled": true
   },
   "outputs": [],
   "source": [
    "rk = character()\n",
    "for(i in 1:(nrow(bp4)-1)){\n",
    "    pk = numeric()\n",
    "    for(j in (i+1):nrow(bp4)){\n",
    "        pk = c(pk,sum(unlist(strsplit(bp4[i,8], \"/\")) %in% unlist(strsplit(bp4[j,8], \"/\")))/length(unlist(strsplit(bp4[j,8], \"/\"))))\n",
    "    }\n",
    "    if (sum(pk > 0.4) > 0) {\n",
    "        rk[i] = \"brisi\"\n",
    "    } else rk[i] = \"ostavi\"\n",
    "}\n",
    "rk1 = c(rk, \"brisi\")\n",
    "bp4 = bp4[rk1 == \"ostavi\",]"
   ]
  },
  {
   "cell_type": "code",
   "execution_count": 217,
   "metadata": {},
   "outputs": [],
   "source": [
    "write.csv(bp4, \"IF_KEGG_trimed_down_RNA_b.csv\")"
   ]
  },
  {
   "cell_type": "markdown",
   "metadata": {},
   "source": [
    "# Integrative Analysis Transcriptomics and Proteomics Data"
   ]
  },
  {
   "cell_type": "code",
   "execution_count": 218,
   "metadata": {},
   "outputs": [],
   "source": [
    "setwd('/Users/viktorian.miok/Documents/consultation/Katarina/Integration_Data/RNA_seq_data')\n",
    "load(\"ProteomOutput.RData\")"
   ]
  },
  {
   "cell_type": "code",
   "execution_count": 219,
   "metadata": {},
   "outputs": [],
   "source": [
    "protVSG = ProteomOutput$diffVSG\n",
    "protTRF = ProteomOutput$diffTRF\n",
    "protIF = ProteomOutput$diffIF"
   ]
  },
  {
   "cell_type": "code",
   "execution_count": 220,
   "metadata": {
    "scrolled": true
   },
   "outputs": [
    {
     "name": "stderr",
     "output_type": "stream",
     "text": [
      "'select()' returned 1:many mapping between keys and columns\n",
      "\n",
      "Warning message in bitr(IF[, 1], fromType = \"ENSEMBL\", toType = \"SYMBOL\", OrgDb = org.Mm.eg.db):\n",
      "“10.38% of input gene IDs are fail to map...”\n"
     ]
    }
   ],
   "source": [
    "IF = cbind(rownames(resultsIF),\n",
    "           resultsIF[,c(2,5,6)]\n",
    ")\n",
    "colnames(IF) = c(\"ENSEMBL\", \"log2FoldChange\", \"pvalue\", \"padj\")\n",
    "IF[,1] = as.character(IF[,1])\n",
    "\n",
    "sig.gene = bitr(IF[,1],\n",
    "                fromType=\"ENSEMBL\",\n",
    "                toType=\"SYMBOL\",\n",
    "                OrgDb=org.Mm.eg.db\n",
    ")\n",
    "colnames(sig.gene) = c(\"ENSEMBL\",\"GeneName\")\n",
    "\n",
    "rnaIF <- merge(IF,\n",
    "               sig.gene,\n",
    "               by=\"ENSEMBL\")[,c(5,2,3,4)]"
   ]
  },
  {
   "cell_type": "code",
   "execution_count": 221,
   "metadata": {},
   "outputs": [
    {
     "name": "stderr",
     "output_type": "stream",
     "text": [
      "'select()' returned 1:many mapping between keys and columns\n",
      "\n",
      "Warning message in bitr(VSG[, 1], fromType = \"ENSEMBL\", toType = \"SYMBOL\", OrgDb = org.Mm.eg.db):\n",
      "“16.54% of input gene IDs are fail to map...”\n"
     ]
    }
   ],
   "source": [
    "VSG = cbind(rownames(resultsVSG),\n",
    "            resultsVSG[,c(2,5,6)]\n",
    ")\n",
    "colnames(VSG) = c(\"ENSEMBL\", \"log2FoldChange\", \"pvalue\", \"padj\")\n",
    "VSG[,1] = as.character(VSG[,1])\n",
    "\n",
    "sig.gene <- bitr(VSG[,1],\n",
    "                 fromType=\"ENSEMBL\",\n",
    "                 toType=\"SYMBOL\",\n",
    "                 OrgDb=org.Mm.eg.db\n",
    ")\n",
    "colnames(sig.gene) = c(\"ENSEMBL\", \"GeneName\")\n",
    "\n",
    "rnaVSG <- merge(VSG,\n",
    "                sig.gene,\n",
    "                by=\"ENSEMBL\")[,c(5,2,3,4)]"
   ]
  },
  {
   "cell_type": "code",
   "execution_count": 222,
   "metadata": {},
   "outputs": [
    {
     "name": "stderr",
     "output_type": "stream",
     "text": [
      "'select()' returned 1:many mapping between keys and columns\n",
      "\n",
      "Warning message in bitr(TRF[, 1], fromType = \"ENSEMBL\", toType = \"SYMBOL\", OrgDb = org.Mm.eg.db):\n",
      "“22.64% of input gene IDs are fail to map...”\n"
     ]
    }
   ],
   "source": [
    "TRF = cbind(rownames(resultsTRF), \n",
    "            resultsTRF[,c(2,5,6)]\n",
    ")\n",
    "colnames(TRF) = c(\"ENSEMBL\", \"log2FoldChange\", \"pvalue\", \"padj\")\n",
    "TRF[,1] = as.character(TRF[,1])\n",
    "\n",
    "sig.gene <- bitr(TRF[,1],\n",
    "                 fromType=\"ENSEMBL\",\n",
    "                 toType=\"SYMBOL\",\n",
    "                 OrgDb=org.Mm.eg.db\n",
    ")\n",
    "colnames(sig.gene) = c(\"ENSEMBL\", \"GeneName\")\n",
    "\n",
    "rnaTRF <- merge(TRF,\n",
    "                sig.gene,\n",
    "                by=\"ENSEMBL\")[,c(5,2,3,4)]"
   ]
  },
  {
   "cell_type": "code",
   "execution_count": 223,
   "metadata": {},
   "outputs": [],
   "source": [
    "VSGfin <- merge(protVSG,\n",
    "                rnaVSG, \n",
    "                by=\"GeneName\"\n",
    ")\n",
    "TRFfin <- merge(protTRF,\n",
    "                rnaTRF,\n",
    "                by=\"GeneName\"\n",
    ")\n",
    "IFfin <- merge(protIF,\n",
    "               rnaIF,\n",
    "               by=\"GeneName\"\n",
    ")"
   ]
  },
  {
   "cell_type": "code",
   "execution_count": 224,
   "metadata": {},
   "outputs": [],
   "source": [
    "VSGfin[\"log10Pval_Trans\"] = -log10(VSGfin$pvalue.y)*sign(VSGfin$log2FoldChange.y)\n",
    "VSGfin[\"log10Pval_Prote\"] = -log10(VSGfin$pvalue.x)*sign(VSGfin$log2FoldChange.x)\n",
    "\n",
    "TRFfin[\"log10Pval_Trans\"] = -log10(TRFfin$pvalue.y)*sign(TRFfin$log2FoldChange.y)\n",
    "TRFfin[\"log10Pval_Prote\"] = -log10(TRFfin$pvalue.x)*sign(TRFfin$log2FoldChange.x)\n",
    "\n",
    "IFfin[\"log10Pval_Trans\"] = -log10(IFfin$pvalue.y)*sign(IFfin$log2FoldChange.y)\n",
    "IFfin[\"log10Pval_Prote\"] = -log10(IFfin$pvalue.x)*sign(IFfin$log2FoldChange.x)"
   ]
  },
  {
   "cell_type": "code",
   "execution_count": 225,
   "metadata": {},
   "outputs": [
    {
     "data": {
      "text/html": [
       "0.44387929293496"
      ],
      "text/latex": [
       "0.44387929293496"
      ],
      "text/markdown": [
       "0.44387929293496"
      ],
      "text/plain": [
       "[1] 0.4438793"
      ]
     },
     "metadata": {},
     "output_type": "display_data"
    },
    {
     "data": {
      "text/html": [
       "0.23530624586934"
      ],
      "text/latex": [
       "0.23530624586934"
      ],
      "text/markdown": [
       "0.23530624586934"
      ],
      "text/plain": [
       "[1] 0.2353062"
      ]
     },
     "metadata": {},
     "output_type": "display_data"
    },
    {
     "data": {
      "text/html": [
       "0.188584929463332"
      ],
      "text/latex": [
       "0.188584929463332"
      ],
      "text/markdown": [
       "0.188584929463332"
      ],
      "text/plain": [
       "[1] 0.1885849"
      ]
     },
     "metadata": {},
     "output_type": "display_data"
    }
   ],
   "source": [
    "cor(VSGfin$log10Pval_Trans, \n",
    "    VSGfin$log10Pval_Prote, \n",
    "    method=\"spearman\"\n",
    ")\n",
    "cor(TRFfin$log10Pval_Trans,\n",
    "    TRFfin$log10Pval_Prote,\n",
    "    method=\"spearman\"\n",
    ")\n",
    "cor(IFfin$log10Pval_Trans,\n",
    "    IFfin$log10Pval_Prote,\n",
    "    method=\"spearman\"\n",
    ")"
   ]
  },
  {
   "cell_type": "code",
   "execution_count": 226,
   "metadata": {},
   "outputs": [],
   "source": [
    "# cut-off\n",
    "cutoff = 0.05\n",
    "\n",
    "protVSG1 = protVSG[which(protVSG$pvalue < cutoff),]\n",
    "protTRF1 = protTRF[which(protTRF$pvalue < cutoff),]\n",
    "protIF1 = protIF[which(protIF$pvalue < cutoff),]\n",
    "\n",
    "rnaVSG1 = rnaVSG[which(rnaVSG$pvalue < cutoff),]\n",
    "rnaTRF1 = rnaTRF[which(rnaTRF$pvalue < cutoff),]\n",
    "rnaIF1 = rnaIF[which(rnaIF$pvalue < cutoff),]"
   ]
  },
  {
   "cell_type": "code",
   "execution_count": 227,
   "metadata": {},
   "outputs": [],
   "source": [
    "VSGfin1 <- merge(protVSG1, \n",
    "                 rnaVSG1,\n",
    "                 by=\"GeneName\"\n",
    ")\n",
    "TRFfin1 <- merge(protTRF1,\n",
    "                 rnaTRF1,\n",
    "                 by=\"GeneName\"\n",
    ")\n",
    "IFfin1 <- merge(protIF1, \n",
    "                rnaIF1, \n",
    "                by=\"GeneName\"\n",
    ")"
   ]
  },
  {
   "cell_type": "code",
   "execution_count": 228,
   "metadata": {},
   "outputs": [],
   "source": [
    "VSGfin1[\"log10Pval_Trans\"] = -log10(VSGfin1$pvalue.y)*sign(VSGfin1$log2FoldChange.y)\n",
    "VSGfin1[\"log10Pval_Prote\"] = -log10(VSGfin1$pvalue.x)*sign(VSGfin1$log2FoldChange.x)\n",
    "\n",
    "TRFfin1[\"log10Pval_Trans\"] = -log10(TRFfin1$pvalue.y)*sign(TRFfin1$log2FoldChange.y)\n",
    "TRFfin1[\"log10Pval_Prote\"] = -log10(TRFfin1$pvalue.x)*sign(TRFfin1$log2FoldChange.x)\n",
    "\n",
    "IFfin1[\"log10Pval_Trans\"] = -log10(IFfin1$pvalue.y)*sign(IFfin1$log2FoldChange.y)\n",
    "IFfin1[\"log10Pval_Prote\"] = -log10(IFfin1$pvalue.x)*sign(IFfin1$log2FoldChange.x)"
   ]
  },
  {
   "cell_type": "code",
   "execution_count": 229,
   "metadata": {},
   "outputs": [],
   "source": [
    "options(repr.plot.width=20, repr.plot.height=16)"
   ]
  },
  {
   "cell_type": "markdown",
   "metadata": {},
   "source": [
    "## VSG Study"
   ]
  },
  {
   "cell_type": "code",
   "execution_count": 41,
   "metadata": {},
   "outputs": [],
   "source": [
    "if(bool_plot){\n",
    "    plot(VSGfin$log2FoldChange.y,\n",
    "         VSGfin$log2FoldChange.x,\n",
    "         xlab=\"Fold change - transciptome\",\n",
    "         ylab=\"Fold change - proteome\",\n",
    "         main=\"VSG\", \n",
    "         pch=20,\n",
    "         xlim=c(-6,7.5)\n",
    "    )\n",
    "    points(VSGfin1$log2FoldChange.y,\n",
    "           VSGfin1$log2FoldChange.x,\n",
    "           col=\"green\",\n",
    "           pch=19\n",
    "    )\n",
    "    #text(VSGfin1$log2FoldChange.y,\n",
    "    #     VSGfin1$log2FoldChange.x, \n",
    "    #     labels=VSGfin1$GeneName,\n",
    "    #     cex=0.9,\n",
    "    #     pos=3,\n",
    "    #     col=\"red\",\n",
    "    #     font=2\n",
    "    #)\n",
    "    text(-4.5, \n",
    "         1.5, \n",
    "         expression(correlaton:rho == 0.44), \n",
    "         cex=1.5,\n",
    "         col=\"blue\"\n",
    "    )\n",
    "    abline(v=0,\n",
    "           h=0,\n",
    "           lty=2\n",
    "    )\n",
    "}"
   ]
  },
  {
   "cell_type": "code",
   "execution_count": 42,
   "metadata": {},
   "outputs": [],
   "source": [
    "if(bool_plot){\n",
    "    #pdf('/Users/viktorian.miok/Documents/consultation/Katarina/Integration_Data/VSG_integrated.pdf',width=6,height=6,paper='special')\n",
    "    plot(VSGfin$log10Pval_Trans,\n",
    "         VSGfin$log10Pval_Prote,\n",
    "         xlab=\"-Log10Pval(transcriptome)*sign(FC)\",\n",
    "         ylab=\"-Log10Pval(proteome)*sign(FC)\",\n",
    "         main=\"VSG\",\n",
    "         pch=20,\n",
    "         xlim=c(-6,7.5)\n",
    "    )\n",
    "    points(VSGfin1$log10Pval_Trans,\n",
    "           VSGfin1$log10Pval_Prote,\n",
    "           col=\"green\",\n",
    "           pch=19\n",
    "    )\n",
    "    #text(VSGfin1$log10Pval_Trans, \n",
    "    #     VSGfin1$log10Pval_Prote, \n",
    "    #     labels=VSGfin1$GeneName, \n",
    "    #     cex= 0.9, \n",
    "    #     pos=3, \n",
    "    #     col=\"red\",\n",
    "    #     font=2\n",
    "    )\n",
    "    text(-4.5,\n",
    "         6,\n",
    "         expression(correlaton:rho == 0.44),\n",
    "         cex=0.8, \n",
    "         col=\"blue\"\n",
    "    )\n",
    "    abline(v=c(-log10(cutoff),\n",
    "               log10(cutoff)),\n",
    "           h=c(-log10(cutoff),log10(cutoff)),\n",
    "           lty=2\n",
    "    )\n",
    "    #dev.off()\n",
    "}"
   ]
  },
  {
   "cell_type": "markdown",
   "metadata": {},
   "source": [
    "### Pathways enrichment"
   ]
  },
  {
   "cell_type": "code",
   "execution_count": 43,
   "metadata": {},
   "outputs": [],
   "source": [
    "if(bool_plot){\n",
    "    sig.gene <- bitr(VSGfin1$GeneName,fromType=\"SYMBOL\",\n",
    "                     toType=\"ENTREZID\",\n",
    "                     OrgDb=org.Mm.eg.db\n",
    "    )\n",
    "    kk1 <- enrichKEGG(gene=sig.gene[,2],\n",
    "                      organism='mmu',\n",
    "                      pvalueCutoff=0.1\n",
    "    )\n",
    "    barplot(kk1, \n",
    "            showCategory=25,\n",
    "            title=\"KEGG pathways\"\n",
    "    )\n",
    "}"
   ]
  },
  {
   "cell_type": "code",
   "execution_count": 44,
   "metadata": {},
   "outputs": [],
   "source": [
    "if(bool_plot){\n",
    "    ego1 <- enrichGO(gene=sig.gene[,2],\n",
    "                     OrgDb=org.Mm.eg.db, \n",
    "                     ont=\"BP\",\n",
    "                     pAdjustMethod=\"BH\", \n",
    "                     pvalueCutoff=0.05,\n",
    "                     readable=TRUE\n",
    "    )\n",
    "    barplot(ego1, \n",
    "            showCategory=25,\n",
    "            title=\"GO pathways\"\n",
    "    )\n",
    "}"
   ]
  },
  {
   "cell_type": "code",
   "execution_count": 45,
   "metadata": {},
   "outputs": [],
   "source": [
    "if(bool_plot){\n",
    "    ego2 <- enrichGO(gene=sig.gene[,2], \n",
    "                     OrgDb=org.Mm.eg.db,\n",
    "                     ont=\"CC\",\n",
    "                     pAdjustMethod=\"BH\",\n",
    "                     pvalueCutoff=0.05,\n",
    "                     readable=TRUE\n",
    "    )\n",
    "    barplot(ego2, \n",
    "            showCategory=25,\n",
    "            title=\"GO pathways\"\n",
    "    )\n",
    "}"
   ]
  },
  {
   "cell_type": "code",
   "execution_count": 46,
   "metadata": {},
   "outputs": [],
   "source": [
    "if(bool_plot){\n",
    "    ego3 <- enrichGO(gene=sig.gene[,2], \n",
    "                     OrgDb=org.Mm.eg.db,\n",
    "                     ont=\"MF\",\n",
    "                     pAdjustMethod=\"BH\",\n",
    "                     pvalueCutoff=0.05,\n",
    "                     readable=TRUE\n",
    "    )\n",
    "    barplot(ego3, \n",
    "            showCategory=25,\n",
    "            title=\"GO pathways\"\n",
    "    )\n",
    "}"
   ]
  },
  {
   "cell_type": "code",
   "execution_count": 252,
   "metadata": {},
   "outputs": [],
   "source": [
    "bp1 = ego1@result"
   ]
  },
  {
   "cell_type": "code",
   "execution_count": 253,
   "metadata": {},
   "outputs": [],
   "source": [
    "setwd('/Users/viktorian.miok/Documents/consultation/Katarina/Integration_Data/Integration/results/VSG')\n",
    "write.csv(bp1, \"VSG_GO_BP_integrated.csv\")"
   ]
  },
  {
   "cell_type": "code",
   "execution_count": 254,
   "metadata": {},
   "outputs": [],
   "source": [
    "bp1 = bp1[bp1$p.adjust < 0.05,]\n",
    "\n",
    "lk = as.numeric(sub(\"\\\\/.*\", \"\", bp1[,4]))\n",
    "bp1 = bp1[(lk > 15) & (lk < 500),]\n",
    "bp1 = bp1[bp1$Count > 4,]\n",
    "bp1 = bp1[!bp1$ID %in% noliv[,1],]\n",
    "bp1 = bp1[!bp1$ID %in% noliv1[,1],]\n",
    "bp1 = bp1[!bp1$ID %in% obsolete[,1],]\n",
    "bp1 = bp1[order(as.numeric(sub(\"\\\\/.*\", \"\", bp1[,4])), decreasing=TRUE),]"
   ]
  },
  {
   "cell_type": "code",
   "execution_count": 255,
   "metadata": {},
   "outputs": [],
   "source": [
    "write.csv(bp1, \"VSG_GO_BP_integrated_a.csv\")"
   ]
  },
  {
   "cell_type": "code",
   "execution_count": 256,
   "metadata": {},
   "outputs": [],
   "source": [
    "rk = character()\n",
    "for(i in 1:(nrow(bp1)-1)){\n",
    "    pk = numeric()\n",
    "    for(j in (i+1):nrow(bp1)){\n",
    "        pk = c(pk,sum(unlist(strsplit(bp1[i,8], \"/\")) %in% unlist(strsplit(bp1[j,8], \"/\")))/length(unlist(strsplit(bp1[j,8], \"/\"))))\n",
    "    }\n",
    "    if (sum(pk > 0.4) > 0) {\n",
    "        rk[i] = \"brisi\"\n",
    "    } else rk[i] = \"ostavi\"\n",
    "}\n",
    "rk1 = c(rk, \"brisi\")\n",
    "bp1 = bp1[rk1 == \"ostavi\",]"
   ]
  },
  {
   "cell_type": "code",
   "execution_count": 257,
   "metadata": {},
   "outputs": [],
   "source": [
    "write.csv(bp1, \"VSG_GO_BP_integrated_b.csv\")"
   ]
  },
  {
   "cell_type": "code",
   "execution_count": 258,
   "metadata": {},
   "outputs": [],
   "source": [
    "bp2 = ego2@result"
   ]
  },
  {
   "cell_type": "code",
   "execution_count": 259,
   "metadata": {},
   "outputs": [],
   "source": [
    "write.csv(bp2, \"VSG_GO_CC_integrated.csv\")"
   ]
  },
  {
   "cell_type": "code",
   "execution_count": 260,
   "metadata": {},
   "outputs": [],
   "source": [
    "bp2 = bp2[bp2$p.adjust < 0.05,]\n",
    "lk = as.numeric(sub(\"\\\\/.*\", \"\", bp2[,4]))\n",
    "bp2 = bp2[(lk > 15)&(lk < 500),]\n",
    "bp2 = bp2[bp2$Count > 4,]\n",
    "bp2 = bp2[!bp2$ID %in% noliv[,1],]\n",
    "bp2 = bp2[!bp2$ID %in% noliv1[,1],]\n",
    "bp2 = bp2[!bp2$ID %in% obsolete[,1],]\n",
    "bp2 = bp2[order(as.numeric(sub(\"\\\\/.*\", \"\", bp2[,4])), decreasing=TRUE),]"
   ]
  },
  {
   "cell_type": "code",
   "execution_count": 261,
   "metadata": {},
   "outputs": [],
   "source": [
    "write.csv(bp2,\"VSG_GO_CC_integrated_a.csv\")"
   ]
  },
  {
   "cell_type": "code",
   "execution_count": 262,
   "metadata": {
    "scrolled": true
   },
   "outputs": [],
   "source": [
    "rk = character()\n",
    "for(i in 1:(nrow(bp2)-1)){\n",
    "    pk = numeric()\n",
    "    for(j in (i+1):nrow(bp2)){\n",
    "        pk = c(pk,sum(unlist(strsplit(bp2[i,8], \"/\")) %in% unlist(strsplit(bp2[j,8], \"/\")))/length(unlist(strsplit(bp2[j,8], \"/\"))))\n",
    "    }\n",
    "    if (sum(pk > 0.4) > 0) {\n",
    "        rk[i] = \"brisi\"\n",
    "    } else rk[i] = \"ostavi\"\n",
    "}\n",
    "rk1 = c(rk, \"brisi\")\n",
    "bp2 = bp2[rk1 == \"ostavi\",]"
   ]
  },
  {
   "cell_type": "code",
   "execution_count": 263,
   "metadata": {},
   "outputs": [],
   "source": [
    "write.csv(bp2, \"VSG_GO_CC_integrated_b.csv\")"
   ]
  },
  {
   "cell_type": "code",
   "execution_count": 264,
   "metadata": {},
   "outputs": [],
   "source": [
    "bp3 = ego3@result "
   ]
  },
  {
   "cell_type": "code",
   "execution_count": 265,
   "metadata": {},
   "outputs": [],
   "source": [
    "write.csv(bp3, \"VSG_GO_MF_integrated.csv\")"
   ]
  },
  {
   "cell_type": "code",
   "execution_count": 266,
   "metadata": {},
   "outputs": [],
   "source": [
    "bp3 = bp3[bp3$p.adjust < 0.05,]\n",
    "lk = as.numeric(sub(\"\\\\/.*\", \"\", bp3[,4]))\n",
    "bp3 = bp3[(lk > 15) & (lk < 500),]\n",
    "bp3 = bp3[bp3$Count > 4,]\n",
    "bp3 = bp3[!bp3$ID %in% noliv[,1],]\n",
    "bp3 = bp3[!bp3$ID %in% noliv1[,1],]\n",
    "bp3 = bp3[!bp3$ID %in% obsolete[,1],]\n",
    "bp3 = bp3[order(as.numeric(sub(\"\\\\/.*\", \"\", bp3[,4])), decreasing=TRUE),]"
   ]
  },
  {
   "cell_type": "code",
   "execution_count": 267,
   "metadata": {},
   "outputs": [],
   "source": [
    "write.csv(bp3, \"VSG_GO_MF_integrated_a.csv\")"
   ]
  },
  {
   "cell_type": "code",
   "execution_count": 268,
   "metadata": {},
   "outputs": [],
   "source": [
    "rk = character()\n",
    "for(i in 1:(nrow(bp3)-1)){\n",
    "    pk = numeric()\n",
    "    for(j in (i+1):nrow(bp3)){\n",
    "        pk = c(pk,sum(unlist(strsplit(bp3[i,8], \"/\")) %in% unlist(strsplit(bp3[j,8], \"/\")))/length(unlist(strsplit(bp3[j,8], \"/\"))))\n",
    "    }\n",
    "    if (sum(pk > 0.4) > 0) {\n",
    "        rk[i] = \"brisi\"\n",
    "    } else rk[i] = \"ostavi\"\n",
    "}\n",
    "rk1 = c(rk, \"brisi\")\n",
    "bp3 = bp3[rk1 == \"ostavi\",]"
   ]
  },
  {
   "cell_type": "code",
   "execution_count": 269,
   "metadata": {},
   "outputs": [],
   "source": [
    "write.csv(bp3, \"VSG_GO_MF_integrateed_b.csv\")"
   ]
  },
  {
   "cell_type": "code",
   "execution_count": 270,
   "metadata": {},
   "outputs": [],
   "source": [
    "bp4 = kk1@result"
   ]
  },
  {
   "cell_type": "code",
   "execution_count": 271,
   "metadata": {},
   "outputs": [],
   "source": [
    "write.csv(bp4, \"VSG_KEGG_intgerated.csv\")"
   ]
  },
  {
   "cell_type": "code",
   "execution_count": 272,
   "metadata": {},
   "outputs": [],
   "source": [
    "bp4=bp4[bp4$p.adjust < 0.05,]\n",
    "lk=as.numeric(sub(\"\\\\/.*\", \"\", bp4[,4]))\n",
    "bp4=bp4[(lk > 15) & (lk < 500),]\n",
    "bp4=bp4[bp4$Count > 4,]\n",
    "bp4=bp4[!bp4$ID %in% noliv[,1],]\n",
    "bp4=bp4[!bp4$ID %in% noliv1[,1],]\n",
    "bp4=bp4[!bp4$ID %in% obsolete[,1],]\n",
    "bp4=bp4[order(as.numeric(sub(\"\\\\/.*\", \"\", bp4[,4])), decreasing = T),]"
   ]
  },
  {
   "cell_type": "code",
   "execution_count": 273,
   "metadata": {},
   "outputs": [],
   "source": [
    "write.csv(bp4, \"VSG_KEGG_trimed_integrated_a.csv\")"
   ]
  },
  {
   "cell_type": "code",
   "execution_count": 274,
   "metadata": {
    "scrolled": true
   },
   "outputs": [],
   "source": [
    "rk = character()\n",
    "for(i in 1:(nrow(bp4)-1)){\n",
    "    pk = numeric()\n",
    "    for(j in (i+1):nrow(bp4)){\n",
    "        pk = c(pk,sum(unlist(strsplit(bp4[i,8], \"/\")) %in% unlist(strsplit(bp4[j,8], \"/\")))/length(unlist(strsplit(bp4[j,8], \"/\"))))\n",
    "    }\n",
    "    if (sum(pk > 0.4) > 0) {\n",
    "        rk[i] = \"brisi\"\n",
    "    } else rk[i] =\"ostavi\"\n",
    "}\n",
    "rk1 = c(rk, \"brisi\")\n",
    "bp4 = bp4[rk1 == \"ostavi\",]"
   ]
  },
  {
   "cell_type": "code",
   "execution_count": 275,
   "metadata": {},
   "outputs": [],
   "source": [
    "write.csv(bp4, \"VSG_KEGG_integrated_b.csv\")"
   ]
  },
  {
   "cell_type": "markdown",
   "metadata": {},
   "source": [
    "## TRF Study"
   ]
  },
  {
   "cell_type": "code",
   "execution_count": 47,
   "metadata": {},
   "outputs": [],
   "source": [
    "if(bool_plot){\n",
    "    #pdf('/Users/viktorian.miok/Documents/consultation/Katarina/Integration_Data/TRF_integrated.pdf',width=6,height=6,paper='special')\n",
    "    plot(TRFfin$log10Pval_Trans, \n",
    "         TRFfin$log10Pval_Prote,\n",
    "         xlab=\"-Log10Pval(transcriptome)*sign(FC)\",\n",
    "         ylab=\"-Log10Pval(proteome)*sign(FC)\",\n",
    "         main=\"TRF\",\n",
    "         pch=20,\n",
    "         xlim=c(-6,7.5)\n",
    "    )\n",
    "    points(TRFfin1$log10Pval_Trans,\n",
    "           TRFfin1$log10Pval_Prote,\n",
    "           col=\"blue\", \n",
    "           pch=19\n",
    "    )\n",
    "    #text(TRFfin1$log10Pval_Trans, \n",
    "    #     TRFfin1$log10Pval_Prote,\n",
    "    #     labels=TRFfin1$GeneName, \n",
    "    #     cex= 0.9, \n",
    "    #     pos=3,\n",
    "    #     col=\"red\",\n",
    "    #     font=2\n",
    "    #)\n",
    "    text(-4,\n",
    "         4,\n",
    "         expression(correlaton:rho == 0.24),\n",
    "         cex=0.8,\n",
    "         col=\"blue\"\n",
    "    )\n",
    "    abline(v=c(-log10(cutoff),log10(cutoff)),\n",
    "           h=c(-log10(cutoff),log10(cutoff)),\n",
    "           lty=2\n",
    "    )\n",
    "    #dev.off()\n",
    "}"
   ]
  },
  {
   "cell_type": "markdown",
   "metadata": {},
   "source": [
    "### Pathways enrichment"
   ]
  },
  {
   "cell_type": "code",
   "execution_count": 48,
   "metadata": {},
   "outputs": [],
   "source": [
    "if(bool_plot){\n",
    "    sig.gene <- bitr(TRFfin1$GeneName,\n",
    "                     fromType=\"SYMBOL\",\n",
    "                     toType=\"ENTREZID\",\n",
    "                     OrgDb=org.Mm.eg.db\n",
    "    )\n",
    "    kk1 <- enrichKEGG(gene=sig.gene[,2], \n",
    "                      organism='mmu',\n",
    "                      pvalueCutoff = 0.1\n",
    "    )\n",
    "    barplot(kk1,\n",
    "            showCategory=25,\n",
    "            title=\"KEGG pathways\"\n",
    "    )\n",
    "}"
   ]
  },
  {
   "cell_type": "code",
   "execution_count": 49,
   "metadata": {},
   "outputs": [],
   "source": [
    "if(bool_plot){\n",
    "    ego1 <- enrichGO(gene=sig.gene[,2],\n",
    "                     OrgDb=org.Mm.eg.db, \n",
    "                     ont=\"BP\",\n",
    "                     pAdjustMethod=\"BH\",\n",
    "                     pvalueCutoff=0.05,\n",
    "                     readable=TRUE\n",
    "    )\n",
    "    barplot(ego1, \n",
    "            showCategory=25, \n",
    "            title=\"GO pathways\"\n",
    "    )\n",
    "}"
   ]
  },
  {
   "cell_type": "code",
   "execution_count": 50,
   "metadata": {},
   "outputs": [],
   "source": [
    "if(bool_plot){\n",
    "    ego2 <- enrichGO(gene=sig.gene[,2],\n",
    "                     OrgDb=org.Mm.eg.db, \n",
    "                     ont=\"CC\", \n",
    "                     pAdjustMethod=\"BH\", \n",
    "                     pvalueCutoff=0.05, \n",
    "                     readable=TRUE\n",
    "    )\n",
    "    barplot(ego2, \n",
    "            showCategory=25,\n",
    "            title=\"GO pathways\"\n",
    "    )\n",
    "}"
   ]
  },
  {
   "cell_type": "code",
   "execution_count": 51,
   "metadata": {},
   "outputs": [],
   "source": [
    "if(bool_plot){\n",
    "    ego3 <- enrichGO(gene=sig.gene[,2],\n",
    "                     OrgDb=org.Mm.eg.db,\n",
    "                     ont=\"MF\",\n",
    "                     pAdjustMethod=\"BH\",\n",
    "                     pvalueCutoff=0.05, \n",
    "                     readable=TRUE\n",
    "    )\n",
    "    barplot(ego3,\n",
    "            showCategory=25,\n",
    "            title=\"GO pathways\"\n",
    "    )\n",
    "}"
   ]
  },
  {
   "cell_type": "code",
   "execution_count": 281,
   "metadata": {},
   "outputs": [],
   "source": [
    "bp1 = ego1@result"
   ]
  },
  {
   "cell_type": "code",
   "execution_count": 282,
   "metadata": {},
   "outputs": [],
   "source": [
    "setwd('/Users/viktorian.miok/Documents/consultation/Katarina/Integration_Data/Integration/results/TRF')\n",
    "write.csv(bp1, \"TRF_GO_BP_integrated.csv\")"
   ]
  },
  {
   "cell_type": "code",
   "execution_count": 283,
   "metadata": {},
   "outputs": [],
   "source": [
    "bp1 = bp1[bp1$p.adjust < 0.05,]\n",
    "lk = as.numeric(sub(\"\\\\/.*\", \"\", bp1[,4]))\n",
    "bp1 = bp1[(lk > 15) & (lk < 500),]\n",
    "bp1 = bp1[bp1$Count > 4,]\n",
    "bp1 = bp1[!bp1$ID %in% noliv[,1],]\n",
    "bp1 = bp1[!bp1$ID %in% noliv1[,1],]\n",
    "bp1 = bp1[!bp1$ID %in% obsolete[,1],]\n",
    "bp1 = bp1[order(as.numeric(sub(\"\\\\/.*\", \"\", bp1[,4])), decreasing = T),]"
   ]
  },
  {
   "cell_type": "code",
   "execution_count": 284,
   "metadata": {},
   "outputs": [],
   "source": [
    "write.csv(bp1, \"TRF_GO_BP_integrated_a.csv\")"
   ]
  },
  {
   "cell_type": "code",
   "execution_count": 285,
   "metadata": {},
   "outputs": [],
   "source": [
    "rk = character()\n",
    "for(i in 1:(nrow(bp1)-1)){\n",
    "    pk = numeric()\n",
    "    for(j in (i+1):nrow(bp1)){\n",
    "        pk = c(pk,sum(unlist(strsplit(bp1[i,8], \"/\")) %in% unlist(strsplit(bp1[j,8], \"/\")))/length(unlist(strsplit(bp1[j,8], \"/\"))))\n",
    "    }\n",
    "    if (sum(pk > 0.4) > 0) {\n",
    "        rk[i] = \"brisi\"\n",
    "    } else rk[i] = \"ostavi\"\n",
    "}\n",
    "rk1 = c(rk, \"brisi\")\n",
    "bp1 = bp1[rk1 == \"ostavi\",]"
   ]
  },
  {
   "cell_type": "code",
   "execution_count": 286,
   "metadata": {},
   "outputs": [],
   "source": [
    "write.csv(bp1, \"TRF_GO_BP_integrated_b.csv\")"
   ]
  },
  {
   "cell_type": "code",
   "execution_count": 287,
   "metadata": {},
   "outputs": [],
   "source": [
    "bp2 = ego2@result"
   ]
  },
  {
   "cell_type": "code",
   "execution_count": 288,
   "metadata": {},
   "outputs": [],
   "source": [
    "write.csv(bp2, \"TRF_GO_CC_integrated.csv\")"
   ]
  },
  {
   "cell_type": "code",
   "execution_count": 289,
   "metadata": {},
   "outputs": [],
   "source": [
    "bp2 = bp2[bp2$p.adjust < 0.05,]\n",
    "lk = as.numeric(sub(\"\\\\/.*\", \"\", bp2[,4]))\n",
    "bp2 = bp2[(lk > 15) & (lk < 500),]\n",
    "bp2 = bp2[bp2$Count > 4,]\n",
    "bp2 = bp2[!bp2$ID %in% noliv[,1],]\n",
    "bp2 = bp2[!bp2$ID %in% noliv1[,1],]\n",
    "bp2 = bp2[!bp2$ID %in% obsolete[,1],]\n",
    "bp2 = bp2[order(as.numeric(sub(\"\\\\/.*\", \"\", bp2[,4])), decreasing=TRUE),]"
   ]
  },
  {
   "cell_type": "code",
   "execution_count": 290,
   "metadata": {},
   "outputs": [],
   "source": [
    "write.csv(bp2, \"TRF_GO_CC_integrated_a.csv\")"
   ]
  },
  {
   "cell_type": "code",
   "execution_count": 291,
   "metadata": {
    "scrolled": true
   },
   "outputs": [],
   "source": [
    "rk = character()\n",
    "for(i in 1:(nrow(bp2)-1)){\n",
    "    pk = numeric()\n",
    "    for(j in (i+1):nrow(bp2)){\n",
    "        pk = c(pk,sum(unlist(strsplit(bp2[i,8], \"/\")) %in% unlist(strsplit(bp2[j,8], \"/\")))/length(unlist(strsplit(bp2[j,8], \"/\"))))\n",
    "    }\n",
    "    if (sum(pk > 0.4) > 0) {\n",
    "        rk[i] = \"brisi\"\n",
    "    } else rk[i] = \"ostavi\"\n",
    "}\n",
    "rk1 = c(rk, \"brisi\")\n",
    "bp2 = bp2[rk1 == \"ostavi\",]"
   ]
  },
  {
   "cell_type": "code",
   "execution_count": 292,
   "metadata": {},
   "outputs": [],
   "source": [
    "write.csv(bp2, \"TRF_GO_CC_integrated_b.csv\")"
   ]
  },
  {
   "cell_type": "code",
   "execution_count": 293,
   "metadata": {},
   "outputs": [],
   "source": [
    "bp3 = ego3@result"
   ]
  },
  {
   "cell_type": "code",
   "execution_count": 294,
   "metadata": {},
   "outputs": [],
   "source": [
    "write.csv(bp3, \"TRF_GO_MF_integrated.csv\")"
   ]
  },
  {
   "cell_type": "code",
   "execution_count": 295,
   "metadata": {},
   "outputs": [],
   "source": [
    "bp3 = bp3[bp3$p.adjust < 0.05,]\n",
    "lk = as.numeric(sub(\"\\\\/.*\", \"\", bp3[,4]))\n",
    "bp3 = bp3[(lk > 15) & (lk < 500),]\n",
    "bp3 = bp3[bp3$Count > 4,]\n",
    "bp3 = bp3[!bp3$ID %in% noliv[,1],]\n",
    "bp3 = bp3[!bp3$ID %in% noliv1[,1],]\n",
    "bp3 = bp3[!bp3$ID %in% obsolete[,1],]\n",
    "bp3 = bp3[order(as.numeric(sub(\"\\\\/.*\", \"\", bp3[,4])), decreasing=TRUE),]"
   ]
  },
  {
   "cell_type": "code",
   "execution_count": 296,
   "metadata": {},
   "outputs": [],
   "source": [
    "write.csv(bp3, \"TRF_GO_MF_integrated_a.csv\")"
   ]
  },
  {
   "cell_type": "code",
   "execution_count": 297,
   "metadata": {},
   "outputs": [],
   "source": [
    "rk = character()\n",
    "for(i in 1:(nrow(bp3)-1)){\n",
    "    pk = numeric()\n",
    "    for(j in (i+1):nrow(bp3)){\n",
    "        pk = c(pk,sum(unlist(strsplit(bp3[i,8], \"/\")) %in% unlist(strsplit(bp3[j,8], \"/\")))/length(unlist(strsplit(bp3[j,8], \"/\"))))\n",
    "    }\n",
    "    if (sum(pk > 0.4) > 0) {\n",
    "        rk[i] = \"brisi\"\n",
    "    } else rk[i] = \"ostavi\"\n",
    "}\n",
    "rk1 = c(rk, \"brisi\")\n",
    "bp3 = bp3[rk1 == \"ostavi\",]"
   ]
  },
  {
   "cell_type": "code",
   "execution_count": 298,
   "metadata": {},
   "outputs": [],
   "source": [
    "write.csv(bp3, \"TRF_GO_MF_integrated_b.csv\")"
   ]
  },
  {
   "cell_type": "code",
   "execution_count": 299,
   "metadata": {},
   "outputs": [],
   "source": [
    "bp4 = kk1@result"
   ]
  },
  {
   "cell_type": "code",
   "execution_count": 300,
   "metadata": {},
   "outputs": [],
   "source": [
    "write.csv(bp4, \"TRF_KEGG_integrated.csv\")"
   ]
  },
  {
   "cell_type": "code",
   "execution_count": 301,
   "metadata": {},
   "outputs": [],
   "source": [
    "bp4 = bp4[bp4$p.adjust < 0.05,]\n",
    "lk = as.numeric(sub(\"\\\\/.*\", \"\", bp4[,4]))\n",
    "bp4 = bp4[(lk > 15) & (lk < 500),]\n",
    "bp4 = bp4[bp4$Count > 4,]\n",
    "bp4 = bp4[!bp4$ID %in% noliv[,1],]\n",
    "bp4 = bp4[!bp4$ID %in% noliv1[,1],]\n",
    "bp4 = bp4[!bp4$ID %in% obsolete[,1],]\n",
    "bp4 = bp4[order(as.numeric(sub(\"\\\\/.*\", \"\", bp4[,4])), decreasing=TRUE),]"
   ]
  },
  {
   "cell_type": "code",
   "execution_count": 302,
   "metadata": {},
   "outputs": [],
   "source": [
    "write.csv(bp4, \"TRF_KEGG_integrated_a.csv\")"
   ]
  },
  {
   "cell_type": "code",
   "execution_count": 303,
   "metadata": {
    "scrolled": true
   },
   "outputs": [],
   "source": [
    "rk = character()\n",
    "for(i in 1:(nrow(bp4)-1)){\n",
    "    pk = numeric()\n",
    "    for(j in (i+1):nrow(bp4)){\n",
    "        pk = c(pk,sum(unlist(strsplit(bp4[i,8], \"/\")) %in% unlist(strsplit(bp4[j,8], \"/\")))/length(unlist(strsplit(bp4[j,8], \"/\"))))\n",
    "    }\n",
    "    if (sum(pk > 0.4) > 0) {\n",
    "        rk[i] = \"brisi\"\n",
    "    } else rk[i] = \"ostavi\"\n",
    "}\n",
    "rk1 = c(rk, \"brisi\")\n",
    "bp4 = bp4[rk1 == \"ostavi\",]"
   ]
  },
  {
   "cell_type": "code",
   "execution_count": 304,
   "metadata": {},
   "outputs": [],
   "source": [
    "write.csv(bp4, \"TRF_KEGG_integrated_b.csv\")"
   ]
  },
  {
   "cell_type": "markdown",
   "metadata": {},
   "source": [
    "## IF Study"
   ]
  },
  {
   "cell_type": "code",
   "execution_count": 52,
   "metadata": {},
   "outputs": [],
   "source": [
    "if(bool_plot){\n",
    "    #pdf('/Users/viktorian.miok/Documents/consultation/Katarina/Integration_Data/IF_integrated.pdf',width=6,height=6,paper='special')\n",
    "    plot(IFfin$log10Pval_Trans,\n",
    "         IFfin$log10Pval_Prote, \n",
    "         xlab=\"-Log10Pval(transcriptome)*sign(FC)\",\n",
    "         ylab=\"-Log10Pval(proteome)*sign(FC)\",\n",
    "         main=\"IF\", \n",
    "         pch=20,\n",
    "         xlim=c(-6,7.5)\n",
    "    )\n",
    "    points(IFfin1$log10Pval_Trans,\n",
    "           IFfin1$log10Pval_Prote,\n",
    "           col=\"red\", \n",
    "           pch=19\n",
    "    )\n",
    "    #text(IFfin1$log10Pval_Trans,\n",
    "    #     IFfin1$log10Pval_Prote, \n",
    "    #     labels=IFfin1$GeneName, \n",
    "    #     cex= 0.9, \n",
    "    #.     pos=3, col=\"red\", font=2)\n",
    "    text(-4, \n",
    "         4.5,\n",
    "         expression(correlaton:rho == 0.19),\n",
    "         cex=0.8,\n",
    "         col=\"blue\"\n",
    "    )\n",
    "    abline(v=c(-log10(cutoff),log10(cutoff)),\n",
    "           h=c(-log10(cutoff),log10(cutoff)),\n",
    "           lty=2\n",
    "    )\n",
    "    #dev.off()\n",
    "}"
   ]
  },
  {
   "cell_type": "markdown",
   "metadata": {},
   "source": [
    "### Pathways enrichment"
   ]
  },
  {
   "cell_type": "code",
   "execution_count": 53,
   "metadata": {},
   "outputs": [],
   "source": [
    "if(bool_plot){\n",
    "    sig.gene <- bitr(IFfin1$GeneName,\n",
    "                     fromType=\"SYMBOL\",\n",
    "                     toType=\"ENTREZID\",\n",
    "                     OrgDb=org.Mm.eg.db\n",
    "    )\n",
    "    kk1 <- enrichKEGG(gene=sig.gene[,2],\n",
    "                      organism='mmu',\n",
    "                      pvalueCutoff=0.1)\n",
    "    barplot(kk1,\n",
    "            showCategory=25,\n",
    "            title=\"KEGG pathways\"\n",
    "    )\n",
    "}"
   ]
  },
  {
   "cell_type": "code",
   "execution_count": 54,
   "metadata": {},
   "outputs": [],
   "source": [
    "if(bool_plot){\n",
    "    ego1 <- enrichGO(gene=sig.gene[,2],\n",
    "                     OrgDb=org.Mm.eg.db, \n",
    "                     ont=\"BP\",\n",
    "                     pAdjustMethod=\"BH\",\n",
    "                     pvalueCutoff=0.05,\n",
    "                     readable=TRUE\n",
    "    )\n",
    "    barplot(ego1, \n",
    "            showCategory=25,\n",
    "            title=\"GO pathways\"\n",
    "    )\n",
    "}"
   ]
  },
  {
   "cell_type": "code",
   "execution_count": 55,
   "metadata": {},
   "outputs": [],
   "source": [
    "if(bool_plot){\n",
    "    ego2 <- enrichGO(gene=sig.gene[,2],\n",
    "                     OrgDb=org.Mm.eg.db,\n",
    "                     ont=\"CC\",\n",
    "                     pAdjustMethod=\"BH\",\n",
    "                     pvalueCutoff=0.05, \n",
    "                     readable=TRUE\n",
    "    )\n",
    "    barplot(ego2,\n",
    "            showCategory=25,\n",
    "            title=\"GO pathways\"\n",
    "    )\n",
    "}"
   ]
  },
  {
   "cell_type": "code",
   "execution_count": 56,
   "metadata": {},
   "outputs": [],
   "source": [
    "if(bool_plot){\n",
    "    ego3 <- enrichGO(gene=sig.gene[,2],\n",
    "                     OrgDb=org.Mm.eg.db,\n",
    "                     ont=\"MF\", \n",
    "                     pAdjustMethod=\"BH\",\n",
    "                     pvalueCutoff=0.05,\n",
    "                     readable=TRUE\n",
    "    )\n",
    "    barplot(ego3,\n",
    "            showCategory=25,\n",
    "            title=\"GO pathways\"\n",
    "    )\n",
    "}"
   ]
  },
  {
   "cell_type": "code",
   "execution_count": 310,
   "metadata": {},
   "outputs": [],
   "source": [
    "bp1 = ego1@result"
   ]
  },
  {
   "cell_type": "code",
   "execution_count": 311,
   "metadata": {},
   "outputs": [],
   "source": [
    "setwd('/Users/viktorian.miok/Documents/consultation/Katarina/Integration_Data/Integration/results/IF')\n",
    "write.csv(bp1, \"IF_GO_BP_integrated.csv\")"
   ]
  },
  {
   "cell_type": "code",
   "execution_count": 312,
   "metadata": {},
   "outputs": [],
   "source": [
    "bp1 = bp1[bp1$p.adjust < 0.05,]\n",
    "lk = as.numeric(sub(\"\\\\/.*\", \"\", bp1[,4]))\n",
    "bp1 = bp1[(lk > 15) & (lk < 500),]\n",
    "bp1 = bp1[bp1$Count > 4,]\n",
    "bp1 = bp1[!bp1$ID %in% noliv[,1],]\n",
    "bp1 = bp1[!bp1$ID %in% noliv1[,1],]\n",
    "bp1 = bp1[!bp1$ID %in% obsolete[,1],]\n",
    "bp1 = bp1[order(as.numeric(sub(\"\\\\/.*\", \"\", bp1[,4])), decreasing=TRUE),]"
   ]
  },
  {
   "cell_type": "code",
   "execution_count": 313,
   "metadata": {},
   "outputs": [],
   "source": [
    "write.csv(bp1, \"IF_GO_BP_integrated_a.csv\")"
   ]
  },
  {
   "cell_type": "code",
   "execution_count": 314,
   "metadata": {},
   "outputs": [],
   "source": [
    "rk = character()\n",
    "for(i in 1:(nrow(bp1)-1)){\n",
    "    pk = numeric()\n",
    "    for(j in (i+1):nrow(bp1)){\n",
    "        pk = c(pk,sum(unlist(strsplit(bp1[i,8], \"/\")) %in% unlist(strsplit(bp1[j,8], \"/\")))/length(unlist(strsplit(bp1[j,8], \"/\"))))\n",
    "    }\n",
    "    if (sum(pk > 0.4) > 0) {\n",
    "        rk[i] = \"brisi\"\n",
    "    } else rk[i] =\"ostavi\"\n",
    "}\n",
    "rk1 = c(rk, \"brisi\")\n",
    "bp1 = bp1[rk1 == \"ostavi\",]"
   ]
  },
  {
   "cell_type": "code",
   "execution_count": 315,
   "metadata": {},
   "outputs": [],
   "source": [
    "write.csv(bp1, \"IF_GO_BP_integrated_b.csv\")"
   ]
  },
  {
   "cell_type": "code",
   "execution_count": 316,
   "metadata": {},
   "outputs": [],
   "source": [
    "bp2 = ego2@result"
   ]
  },
  {
   "cell_type": "code",
   "execution_count": 317,
   "metadata": {},
   "outputs": [],
   "source": [
    "write.csv(bp2, \"IF_GO_CC_integrated.csv\")"
   ]
  },
  {
   "cell_type": "code",
   "execution_count": 318,
   "metadata": {},
   "outputs": [],
   "source": [
    "bp2 = bp2[bp2$p.adjust < 0.05,]\n",
    "lk = as.numeric(sub(\"\\\\/.*\", \"\", bp2[,4]))\n",
    "bp2 = bp2[(lk > 15) & (lk < 500),]\n",
    "bp2 = bp2[bp2$Count > 4,]\n",
    "bp2 = bp2[!bp2$ID %in% noliv[,1],]\n",
    "bp2 = bp2[!bp2$ID %in% noliv1[,1],]\n",
    "bp2 = bp2[!bp2$ID %in% obsolete[,1],]\n",
    "bp2 = bp2[order(as.numeric(sub(\"\\\\/.*\", \"\", bp2[,4])), decreasing=TRUE),]"
   ]
  },
  {
   "cell_type": "code",
   "execution_count": 319,
   "metadata": {},
   "outputs": [],
   "source": [
    "write.csv(bp2, \"IF_GO_CC_integrated_a.csv\")"
   ]
  },
  {
   "cell_type": "code",
   "execution_count": 320,
   "metadata": {
    "scrolled": true
   },
   "outputs": [],
   "source": [
    "rk = character()\n",
    "for(i in 1:(nrow(bp2)-1)){\n",
    "    pk = numeric()\n",
    "    for(j in (i+1):nrow(bp2)){\n",
    "        pk = c(pk,sum(unlist(strsplit(bp2[i,8], \"/\")) %in% unlist(strsplit(bp2[j,8], \"/\")))/length(unlist(strsplit(bp2[j,8], \"/\"))))\n",
    "    }\n",
    "    if (sum(pk > 0.4) > 0) {\n",
    "        rk[i] = \"brisi\"\n",
    "    } else rk[i] = \"ostavi\"\n",
    "}\n",
    "rk1 = c(rk, \"brisi\")\n",
    "bp2 = bp2[rk1 == \"ostavi\",]"
   ]
  },
  {
   "cell_type": "code",
   "execution_count": 321,
   "metadata": {},
   "outputs": [],
   "source": [
    "write.csv(bp2, \"IF_GO_CC_integrated_b.csv\")"
   ]
  },
  {
   "cell_type": "code",
   "execution_count": 322,
   "metadata": {},
   "outputs": [],
   "source": [
    "bp3 = ego3@result"
   ]
  },
  {
   "cell_type": "code",
   "execution_count": 323,
   "metadata": {},
   "outputs": [],
   "source": [
    "write.csv(bp3, \"IF_GO_MF_integrated.csv\")"
   ]
  },
  {
   "cell_type": "code",
   "execution_count": 324,
   "metadata": {},
   "outputs": [],
   "source": [
    "bp3 = bp3[bp3$p.adjust < 0.05,]\n",
    "lk = as.numeric(sub(\"\\\\/.*\", \"\", bp3[,4]))\n",
    "bp3 = bp3[(lk > 15) & (lk < 500),]\n",
    "bp3 = bp3[bp3$Count > 4,]\n",
    "bp3 = bp3[!bp3$ID %in% noliv[,1],]\n",
    "bp3 = bp3[!bp3$ID %in% noliv1[,1],]\n",
    "bp3 = bp3[!bp3$ID %in% obsolete[,1],]\n",
    "bp3 = bp3[order(as.numeric(sub(\"\\\\/.*\", \"\", bp3[,4])), decreasing=TRUE),]"
   ]
  },
  {
   "cell_type": "code",
   "execution_count": 325,
   "metadata": {},
   "outputs": [],
   "source": [
    "write.csv(bp3, \"IF_GO_MF_integrated_a.csv\")"
   ]
  },
  {
   "cell_type": "code",
   "execution_count": 326,
   "metadata": {},
   "outputs": [],
   "source": [
    "rk = character()\n",
    "for(i in 1:(nrow(bp3)-1)){\n",
    "    pk  =numeric()\n",
    "    for(j in (i+1):nrow(bp3)){\n",
    "        pk = c(pk,sum(unlist(strsplit(bp3[i,8], \"/\")) %in% unlist(strsplit(bp3[j,8], \"/\")))/length(unlist(strsplit(bp3[j,8], \"/\"))))\n",
    "    }\n",
    "    if (sum(pk > 0.4) > 0) {\n",
    "        rk[i] = \"brisi\"\n",
    "    } else rk[i] = \"ostavi\"\n",
    "}\n",
    "rk1 = c(rk, \"brisi\")\n",
    "bp3 = bp3[rk1 == \"ostavi\",]"
   ]
  },
  {
   "cell_type": "code",
   "execution_count": 327,
   "metadata": {},
   "outputs": [],
   "source": [
    "write.csv(bp3, \"IF_GO_MF_integrated_b.csv\")"
   ]
  },
  {
   "cell_type": "code",
   "execution_count": 328,
   "metadata": {},
   "outputs": [],
   "source": [
    "bp4 = kk1@result"
   ]
  },
  {
   "cell_type": "code",
   "execution_count": 329,
   "metadata": {},
   "outputs": [],
   "source": [
    "write.csv(bp4, \"IF_KEGG_integrated.csv\")"
   ]
  },
  {
   "cell_type": "code",
   "execution_count": 330,
   "metadata": {},
   "outputs": [],
   "source": [
    "bp4 = bp4[bp4$p.adjust < 0.05,]\n",
    "lk = as.numeric(sub(\"\\\\/.*\", \"\", bp4[,4]))\n",
    "bp4 = bp4[(lk > 15) & (lk < 500),]\n",
    "bp4 = bp4[bp4$Count > 4,]\n",
    "bp4 = bp4[!bp4$ID %in% noliv[,1],]\n",
    "bp4 = bp4[!bp4$ID %in% noliv1[,1],]\n",
    "bp4 = bp4[!bp4$ID %in% obsolete[,1],]\n",
    "bp4 = bp4[order(as.numeric(sub(\"\\\\/.*\", \"\", bp4[,4])), decreasing = T),]"
   ]
  },
  {
   "cell_type": "code",
   "execution_count": 331,
   "metadata": {},
   "outputs": [],
   "source": [
    "write.csv(bp4, \"IF_KEGG_integrated_a.csv\")"
   ]
  },
  {
   "cell_type": "code",
   "execution_count": 332,
   "metadata": {
    "scrolled": true
   },
   "outputs": [],
   "source": [
    "rk = character()\n",
    "for(i in 1:(nrow(bp4)-1)){\n",
    "    pk = numeric()\n",
    "    for(j in (i+1):nrow(bp4)){\n",
    "        pk = c(pk,sum(unlist(strsplit(bp4[i,8], \"/\")) %in% unlist(strsplit(bp4[j,8], \"/\")))/length(unlist(strsplit(bp4[j,8], \"/\"))))\n",
    "    }\n",
    "    if (sum(pk > 0.4) > 0) {\n",
    "        rk[i] = \"brisi\"\n",
    "    } else rk[i] = \"ostavi\"\n",
    "}\n",
    "rk1 = c(rk, \"brisi\")\n",
    "bp4 = bp4[rk1 == \"ostavi\",]"
   ]
  },
  {
   "cell_type": "code",
   "execution_count": 333,
   "metadata": {},
   "outputs": [],
   "source": [
    "write.csv(bp4, \"IF_KEGG_integrated_b.csv\")"
   ]
  }
 ],
 "metadata": {
  "kernelspec": {
   "display_name": "R",
   "language": "R",
   "name": "ir"
  },
  "language_info": {
   "codemirror_mode": "r",
   "file_extension": ".r",
   "mimetype": "text/x-r-source",
   "name": "R",
   "pygments_lexer": "r",
   "version": "4.0.3"
  }
 },
 "nbformat": 4,
 "nbformat_minor": 2
}
